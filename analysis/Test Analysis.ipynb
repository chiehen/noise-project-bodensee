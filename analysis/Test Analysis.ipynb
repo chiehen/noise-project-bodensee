{
 "cells": [
  {
   "cell_type": "code",
   "execution_count": 1,
   "id": "05e13554-fd56-4c75-a80e-33d0c7e2e27a",
   "metadata": {
    "pycharm": {
     "name": "#%%\n"
    }
   },
   "outputs": [],
   "source": [
    "import pandas as pd\n",
    "import os\n",
    "import re\n",
    "from dataclasses import dataclass\n",
    "import json\n",
    "%matplotlib inline"
   ]
  },
  {
   "cell_type": "code",
   "execution_count": 2,
   "id": "9166db0a-fe16-4f4a-89cc-b5230c21cd79",
   "metadata": {
    "pycharm": {
     "name": "#%%\n"
    }
   },
   "outputs": [],
   "source": [
    "jobname_regex = re.compile(r\"(?<=: \\[)(?P<project>[a-z-]+), (?P<noise_type>[a-z-]+)\")"
   ]
  },
  {
   "cell_type": "code",
   "execution_count": 3,
   "id": "eb7ef04e-368d-4c24-818b-6a88002a4f88",
   "metadata": {
    "pycharm": {
     "name": "#%%\n"
    }
   },
   "outputs": [],
   "source": [
    "test_string = \"Test Projects: [shiki, baseline]\"\n",
    "\n",
    "res = jobname_regex.search(test_string)"
   ]
  },
  {
   "cell_type": "markdown",
   "id": "736a28f5-67ea-405d-8d5e-906d46df02ec",
   "metadata": {
    "pycharm": {
     "name": "#%% md\n"
    }
   },
   "source": [
    "# Read in all Results"
   ]
  },
  {
   "cell_type": "code",
   "execution_count": 4,
   "id": "f4701f1b-0a5c-4df3-91ee-2143907bfc5b",
   "metadata": {
    "pycharm": {
     "name": "#%%\n"
    }
   },
   "outputs": [
    {
     "data": {
      "text/plain": [
       "'152 jobs found'"
      ]
     },
     "execution_count": 4,
     "metadata": {},
     "output_type": "execute_result"
    }
   ],
   "source": [
    "directory = \"./results\"\n",
    "jobs_dir = os.listdir(directory)\n",
    "f\"{len(jobs_dir)} jobs found\""
   ]
  },
  {
   "cell_type": "code",
   "execution_count": 5,
   "id": "3f7206c7-1f5f-47cf-a0e0-d98ce8687127",
   "metadata": {
    "pycharm": {
     "name": "#%%\n"
    }
   },
   "outputs": [],
   "source": [
    "@dataclass\n",
    "class TestResult:\n",
    "    project: str\n",
    "    noise_type: str\n",
    "    dir: str\n",
    "    test_results: dict[str, dict[str, int]]\n",
    "    env_vars: dict[str, str]\n",
    "    job_number: int\n",
    "\n",
    "    test_df: pd.DataFrame = None\n",
    "\n",
    "    def __post_init__(self):\n",
    "        # Compute the test_df\n",
    "        # Columns: test_name, PASSED, Failed, Skipped, TOTAL RUNS\n",
    "        test_names = self.test_results.keys()\n",
    "        passed = [test.get(\"PASSED\", 0) for test in self.test_results.values()]\n",
    "        failed = [test.get(\"FAILED\", 0) for test in self.test_results.values()]\n",
    "        skipped = [test.get(\"SKIPPED\", 0) for test in self.test_results.values()]\n",
    "\n",
    "        self.test_df = pd.DataFrame({\n",
    "            \"test_name\": test_names,\n",
    "            \"PASSED\": passed,\n",
    "            \"FAILED\": failed,\n",
    "            \"SKIPPED\": skipped\n",
    "        })\n",
    "        self.test_df[\"TOTAL RUNS\"] = self.test_df[\"PASSED\"] + self.test_df[\"FAILED\"]\n"
   ]
  },
  {
   "cell_type": "code",
   "execution_count": 6,
   "id": "79e73b96",
   "metadata": {
    "pycharm": {
     "name": "#%%\n"
    }
   },
   "outputs": [],
   "source": [
    "results: list[TestResult] = []\n",
    "for job in jobs_dir:\n",
    "    with open(os.path.join(directory, job, \"jobname.txt\")) as f:\n",
    "        job_str = f.read()\n",
    "    job_re = jobname_regex.search(job_str)\n",
    "\n",
    "    with open(os.path.join(directory, job, \"aggregated_test_results.json\")) as f:\n",
    "        test_results = json.load(f)\n",
    "\n",
    "    with open(os.path.join(directory, job, \"environment_variables.json\")) as f:\n",
    "        env_vars = json.load(f)\n",
    "\n",
    "    results.append(TestResult(\n",
    "        project=job_re.group(\"project\"),\n",
    "        noise_type=job_re.group(\"noise_type\"),\n",
    "        dir=os.path.join(directory, job),\n",
    "        test_results=test_results,\n",
    "        env_vars=env_vars,\n",
    "        job_number=int(job)\n",
    "    ))"
   ]
  },
  {
   "cell_type": "code",
   "execution_count": 7,
   "id": "e3299f1b",
   "metadata": {
    "pycharm": {
     "name": "#%%\n"
    }
   },
   "outputs": [
    {
     "data": {
      "text/plain": [
       "'parsed 152 results'"
      ]
     },
     "execution_count": 7,
     "metadata": {},
     "output_type": "execute_result"
    }
   ],
   "source": [
    "f\"parsed {len(results)} results\""
   ]
  },
  {
   "cell_type": "code",
   "execution_count": 8,
   "id": "fce4adb8",
   "metadata": {
    "pycharm": {
     "name": "#%%\n"
    }
   },
   "outputs": [],
   "source": [
    "x =results[1].test_df.sort_values(\"FAILED\")"
   ]
  },
  {
   "cell_type": "code",
   "execution_count": 9,
   "id": "3e1cf672",
   "metadata": {
    "pycharm": {
     "name": "#%%\n"
    }
   },
   "outputs": [
    {
     "data": {
      "text/plain": [
       "'disk'"
      ]
     },
     "execution_count": 9,
     "metadata": {},
     "output_type": "execute_result"
    }
   ],
   "source": [
    "results[1].noise_type\n"
   ]
  },
  {
   "cell_type": "code",
   "execution_count": 10,
   "id": "5705bca8",
   "metadata": {
    "pycharm": {
     "name": "#%%\n"
    }
   },
   "outputs": [
    {
     "data": {
      "text/plain": [
       "test_name     Firefox/full.spec.ts/compose an epic\n",
       "PASSED                                          81\n",
       "FAILED                                          19\n",
       "SKIPPED                                          0\n",
       "TOTAL RUNS                                     100\n",
       "Name: 1, dtype: object"
      ]
     },
     "execution_count": 10,
     "metadata": {},
     "output_type": "execute_result"
    }
   ],
   "source": [
    "results[14].test_df.iloc[1]"
   ]
  },
  {
   "cell_type": "markdown",
   "id": "dedea1e8",
   "metadata": {
    "pycharm": {
     "name": "#%% md\n"
    }
   },
   "source": [
    "# Remove job with the same project and noise type"
   ]
  },
  {
   "cell_type": "code",
   "execution_count": 11,
   "id": "7754e4e1",
   "metadata": {
    "pycharm": {
     "name": "#%%\n"
    }
   },
   "outputs": [],
   "source": [
    "results_dict : dict[tuple[str, str], TestResult] = {}\n",
    "for result in results:\n",
    "    key = (result.project, result.noise_type)\n",
    "    if key in results_dict:\n",
    "        if results_dict[key].job_number < result.job_number:\n",
    "            results_dict[key] = result\n",
    "    else:\n",
    "        results_dict[key] = result"
   ]
  },
  {
   "cell_type": "code",
   "execution_count": 12,
   "id": "c16cc3ae",
   "metadata": {
    "pycharm": {
     "name": "#%%\n"
    }
   },
   "outputs": [
    {
     "data": {
      "text/plain": [
       "'Filtered 36 results'"
      ]
     },
     "execution_count": 12,
     "metadata": {},
     "output_type": "execute_result"
    }
   ],
   "source": [
    "f\"Filtered {len(results) - len(results_dict)} results\""
   ]
  },
  {
   "cell_type": "code",
   "execution_count": 13,
   "id": "4a73410a",
   "metadata": {
    "pycharm": {
     "name": "#%%\n"
    }
   },
   "outputs": [],
   "source": [
    "results = list(results_dict.values())"
   ]
  },
  {
   "cell_type": "markdown",
   "id": "cfd7a8ec",
   "metadata": {
    "pycharm": {
     "name": "#%% md\n"
    }
   },
   "source": [
    "# Single Analysis DF of all results\n",
    "\n",
    "Columns: project\n",
    "Rows: noise_type\n",
    "Element: flakyness in %\n",
    "\n",
    "## Formula\n",
    "\n",
    "$$\n",
    "flakyness = \\begin{cases}\n",
    "0, all\\ tests\\ failed\\\\\n",
    "\\frac{Failed\\ Tests}{Total\\ Test\\ Runs}, else\n",
    "\\end{cases}\n",
    "$$"
   ]
  },
  {
   "cell_type": "code",
   "execution_count": 14,
   "id": "c42da01e",
   "metadata": {
    "pycharm": {
     "name": "#%%\n"
    }
   },
   "outputs": [],
   "source": [
    "# define a function to compute the flakyness\n",
    "def compute_flakyness(df: pd.DataFrame) -> float:\n",
    "    lambda x: 0 if x[\"PASSED\"] == 0 else x[\"FAILED\"] / x[\"TOTAL RUNS\"]\n",
    "\n",
    "    df[\"flakyness\"] = df.apply(lambda x: 0 if x[\"PASSED\"] == 0 else x[\"FAILED\"] / x[\"TOTAL RUNS\"], axis=1)\n",
    "    return df[\"flakyness\"].mean()\n",
    "\n",
    "flakyness = [compute_flakyness(result.test_df) for result in results]"
   ]
  },
  {
   "cell_type": "code",
   "execution_count": 15,
   "id": "d65d4394",
   "metadata": {
    "pycharm": {
     "name": "#%%\n"
    }
   },
   "outputs": [
    {
     "name": "stdout",
     "output_type": "stream",
     "text": [
      "Got noise_types: {'disk', 'memory', 'cpu', 'packet', 'baseline', 'bandwidth', 'network', 'interrupt'} and projects {'shiki', 'ionic-framework', 'playwright', 'lenster', 'remix', 'material-ui', 'rocket-chat', 'floating-ui', 'gatsby', 'logseq', 'quill', 'storybook', 'insomnia', 'dev-roadmap', 'docs'}\n"
     ]
    }
   ],
   "source": [
    "noise_types: set[str] = set()\n",
    "projects: set[str] = set()\n",
    "\n",
    "for (pj, nt) in results_dict:\n",
    "    noise_types.add(nt)\n",
    "    projects.add(pj)\n",
    "\n",
    "print(f\"Got noise_types: {noise_types} and projects {projects}\")"
   ]
  },
  {
   "cell_type": "code",
   "execution_count": 16,
   "id": "b1678126",
   "metadata": {
    "pycharm": {
     "name": "#%%\n"
    }
   },
   "outputs": [],
   "source": [
    "overview_dict: dict[str, list[float]] = {}\n",
    "\n",
    "for noise in noise_types:\n",
    "    for project in projects:\n",
    "        curr_val: list[float] = overview_dict.get(project, [])\n",
    "\n",
    "        val = float(\"nan\")\n",
    "\n",
    "        if (project, noise) in results_dict:\n",
    "            val = compute_flakyness(results_dict[(project, noise)].test_df)\n",
    "        else:\n",
    "            f\"Missing data for project {project} and noise type {noise}\"\n",
    "        curr_val.append(val)\n",
    "        overview_dict[project] = curr_val\n",
    "\n",
    "overview = pd.DataFrame(overview_dict, index=list(noise_types))"
   ]
  },
  {
   "cell_type": "code",
   "execution_count": 17,
   "id": "ae82417e",
   "metadata": {
    "scrolled": true,
    "pycharm": {
     "name": "#%%\n"
    }
   },
   "outputs": [
    {
     "data": {
      "text/html": [
       "<div>\n",
       "<style scoped>\n",
       "    .dataframe tbody tr th:only-of-type {\n",
       "        vertical-align: middle;\n",
       "    }\n",
       "\n",
       "    .dataframe tbody tr th {\n",
       "        vertical-align: top;\n",
       "    }\n",
       "\n",
       "    .dataframe thead th {\n",
       "        text-align: right;\n",
       "    }\n",
       "</style>\n",
       "<table border=\"1\" class=\"dataframe\">\n",
       "  <thead>\n",
       "    <tr style=\"text-align: right;\">\n",
       "      <th></th>\n",
       "      <th>shiki</th>\n",
       "      <th>ionic-framework</th>\n",
       "      <th>playwright</th>\n",
       "      <th>lenster</th>\n",
       "      <th>remix</th>\n",
       "      <th>material-ui</th>\n",
       "      <th>rocket-chat</th>\n",
       "      <th>floating-ui</th>\n",
       "      <th>gatsby</th>\n",
       "      <th>logseq</th>\n",
       "      <th>quill</th>\n",
       "      <th>storybook</th>\n",
       "      <th>insomnia</th>\n",
       "      <th>dev-roadmap</th>\n",
       "      <th>docs</th>\n",
       "    </tr>\n",
       "  </thead>\n",
       "  <tbody>\n",
       "    <tr>\n",
       "      <th>disk</th>\n",
       "      <td>0.000000</td>\n",
       "      <td>0.000358</td>\n",
       "      <td>0.000032</td>\n",
       "      <td>0.000053</td>\n",
       "      <td>0.000322</td>\n",
       "      <td>0.000000</td>\n",
       "      <td>0.027694</td>\n",
       "      <td>0.0</td>\n",
       "      <td>0.0</td>\n",
       "      <td>0.012038</td>\n",
       "      <td>0.070000</td>\n",
       "      <td>0.017771</td>\n",
       "      <td>0.030093</td>\n",
       "      <td>0.061795</td>\n",
       "      <td>0.0</td>\n",
       "    </tr>\n",
       "    <tr>\n",
       "      <th>memory</th>\n",
       "      <td>0.000000</td>\n",
       "      <td>0.000375</td>\n",
       "      <td>0.000051</td>\n",
       "      <td>0.000105</td>\n",
       "      <td>0.000123</td>\n",
       "      <td>0.000000</td>\n",
       "      <td>0.017903</td>\n",
       "      <td>0.0</td>\n",
       "      <td>0.0</td>\n",
       "      <td>0.205375</td>\n",
       "      <td>0.010000</td>\n",
       "      <td>NaN</td>\n",
       "      <td>0.008239</td>\n",
       "      <td>0.078205</td>\n",
       "      <td>0.0</td>\n",
       "    </tr>\n",
       "    <tr>\n",
       "      <th>cpu</th>\n",
       "      <td>0.000000</td>\n",
       "      <td>0.000247</td>\n",
       "      <td>0.000186</td>\n",
       "      <td>0.000106</td>\n",
       "      <td>0.000521</td>\n",
       "      <td>0.000000</td>\n",
       "      <td>0.016944</td>\n",
       "      <td>0.0</td>\n",
       "      <td>0.0</td>\n",
       "      <td>0.140308</td>\n",
       "      <td>0.080000</td>\n",
       "      <td>0.010000</td>\n",
       "      <td>0.013593</td>\n",
       "      <td>0.060256</td>\n",
       "      <td>0.0</td>\n",
       "    </tr>\n",
       "    <tr>\n",
       "      <th>packet</th>\n",
       "      <td>0.231667</td>\n",
       "      <td>0.000520</td>\n",
       "      <td>0.000413</td>\n",
       "      <td>0.019015</td>\n",
       "      <td>0.000475</td>\n",
       "      <td>0.358122</td>\n",
       "      <td>0.023977</td>\n",
       "      <td>0.0</td>\n",
       "      <td>0.0</td>\n",
       "      <td>0.131839</td>\n",
       "      <td>0.513333</td>\n",
       "      <td>0.009048</td>\n",
       "      <td>0.010621</td>\n",
       "      <td>0.085897</td>\n",
       "      <td>0.0</td>\n",
       "    </tr>\n",
       "    <tr>\n",
       "      <th>baseline</th>\n",
       "      <td>0.000000</td>\n",
       "      <td>0.002079</td>\n",
       "      <td>0.000075</td>\n",
       "      <td>0.000264</td>\n",
       "      <td>0.000429</td>\n",
       "      <td>0.000000</td>\n",
       "      <td>0.035184</td>\n",
       "      <td>0.0</td>\n",
       "      <td>0.0</td>\n",
       "      <td>0.228221</td>\n",
       "      <td>0.013333</td>\n",
       "      <td>0.009429</td>\n",
       "      <td>0.008220</td>\n",
       "      <td>0.065385</td>\n",
       "      <td>0.0</td>\n",
       "    </tr>\n",
       "    <tr>\n",
       "      <th>bandwidth</th>\n",
       "      <td>0.000000</td>\n",
       "      <td>NaN</td>\n",
       "      <td>0.000082</td>\n",
       "      <td>0.000000</td>\n",
       "      <td>0.000521</td>\n",
       "      <td>0.000417</td>\n",
       "      <td>0.203623</td>\n",
       "      <td>0.0</td>\n",
       "      <td>0.0</td>\n",
       "      <td>0.218522</td>\n",
       "      <td>0.003333</td>\n",
       "      <td>0.009619</td>\n",
       "      <td>0.006944</td>\n",
       "      <td>0.085897</td>\n",
       "      <td>0.0</td>\n",
       "    </tr>\n",
       "    <tr>\n",
       "      <th>network</th>\n",
       "      <td>0.000000</td>\n",
       "      <td>NaN</td>\n",
       "      <td>0.000016</td>\n",
       "      <td>0.000785</td>\n",
       "      <td>0.000107</td>\n",
       "      <td>0.000417</td>\n",
       "      <td>0.017097</td>\n",
       "      <td>0.0</td>\n",
       "      <td>0.0</td>\n",
       "      <td>0.227870</td>\n",
       "      <td>0.000000</td>\n",
       "      <td>0.008476</td>\n",
       "      <td>0.000278</td>\n",
       "      <td>0.078205</td>\n",
       "      <td>0.0</td>\n",
       "    </tr>\n",
       "    <tr>\n",
       "      <th>interrupt</th>\n",
       "      <td>0.000000</td>\n",
       "      <td>0.000721</td>\n",
       "      <td>0.000064</td>\n",
       "      <td>0.000052</td>\n",
       "      <td>0.000199</td>\n",
       "      <td>0.001250</td>\n",
       "      <td>0.015985</td>\n",
       "      <td>0.0</td>\n",
       "      <td>0.0</td>\n",
       "      <td>0.186607</td>\n",
       "      <td>0.000000</td>\n",
       "      <td>NaN</td>\n",
       "      <td>0.006944</td>\n",
       "      <td>0.055641</td>\n",
       "      <td>0.0</td>\n",
       "    </tr>\n",
       "  </tbody>\n",
       "</table>\n",
       "</div>"
      ],
      "text/plain": [
       "              shiki  ionic-framework  playwright   lenster     remix  \\\n",
       "disk       0.000000         0.000358    0.000032  0.000053  0.000322   \n",
       "memory     0.000000         0.000375    0.000051  0.000105  0.000123   \n",
       "cpu        0.000000         0.000247    0.000186  0.000106  0.000521   \n",
       "packet     0.231667         0.000520    0.000413  0.019015  0.000475   \n",
       "baseline   0.000000         0.002079    0.000075  0.000264  0.000429   \n",
       "bandwidth  0.000000              NaN    0.000082  0.000000  0.000521   \n",
       "network    0.000000              NaN    0.000016  0.000785  0.000107   \n",
       "interrupt  0.000000         0.000721    0.000064  0.000052  0.000199   \n",
       "\n",
       "           material-ui  rocket-chat  floating-ui  gatsby    logseq     quill  \\\n",
       "disk          0.000000     0.027694          0.0     0.0  0.012038  0.070000   \n",
       "memory        0.000000     0.017903          0.0     0.0  0.205375  0.010000   \n",
       "cpu           0.000000     0.016944          0.0     0.0  0.140308  0.080000   \n",
       "packet        0.358122     0.023977          0.0     0.0  0.131839  0.513333   \n",
       "baseline      0.000000     0.035184          0.0     0.0  0.228221  0.013333   \n",
       "bandwidth     0.000417     0.203623          0.0     0.0  0.218522  0.003333   \n",
       "network       0.000417     0.017097          0.0     0.0  0.227870  0.000000   \n",
       "interrupt     0.001250     0.015985          0.0     0.0  0.186607  0.000000   \n",
       "\n",
       "           storybook  insomnia  dev-roadmap  docs  \n",
       "disk        0.017771  0.030093     0.061795   0.0  \n",
       "memory           NaN  0.008239     0.078205   0.0  \n",
       "cpu         0.010000  0.013593     0.060256   0.0  \n",
       "packet      0.009048  0.010621     0.085897   0.0  \n",
       "baseline    0.009429  0.008220     0.065385   0.0  \n",
       "bandwidth   0.009619  0.006944     0.085897   0.0  \n",
       "network     0.008476  0.000278     0.078205   0.0  \n",
       "interrupt        NaN  0.006944     0.055641   0.0  "
      ]
     },
     "execution_count": 17,
     "metadata": {},
     "output_type": "execute_result"
    }
   ],
   "source": [
    "overview"
   ]
  },
  {
   "cell_type": "code",
   "execution_count": null,
   "id": "916fda8a",
   "metadata": {
    "pycharm": {
     "name": "#%%\n"
    }
   },
   "outputs": [],
   "source": []
  },
  {
   "cell_type": "markdown",
   "id": "e1358059",
   "metadata": {
    "pycharm": {
     "name": "#%% md\n"
    }
   },
   "source": [
    "# Number of flaky tests in total, without any noise, with noises"
   ]
  },
  {
   "cell_type": "markdown",
   "id": "0d39412d",
   "metadata": {
    "pycharm": {
     "name": "#%% md\n"
    }
   },
   "source": [
    "## How many flaky tests in total?"
   ]
  },
  {
   "cell_type": "code",
   "execution_count": 18,
   "id": "bcfe68e6",
   "metadata": {
    "pycharm": {
     "name": "#%%\n"
    }
   },
   "outputs": [
    {
     "name": "stdout",
     "output_type": "stream",
     "text": [
      "Flaky tests in total: 489\n"
     ]
    }
   ],
   "source": [
    "flaky_tests = []\n",
    "\n",
    "for result in results:\n",
    "    for index, row in result.test_df.iterrows():\n",
    "        if row['PASSED'] != 0 and row['FAILED'] != 0:\n",
    "            flaky_tests.append(row['test_name'])\n",
    "        \n",
    "flaky_tests_in_total = len(list(set(flaky_tests)))\n",
    "print(f\"Flaky tests in total: {flaky_tests_in_total}\")"
   ]
  },
  {
   "cell_type": "markdown",
   "id": "5dd8cb71",
   "metadata": {
    "pycharm": {
     "name": "#%% md\n"
    }
   },
   "source": [
    "## How many flaky tests are there without any noise?"
   ]
  },
  {
   "cell_type": "code",
   "execution_count": 19,
   "id": "b60e3eb2",
   "metadata": {
    "pycharm": {
     "name": "#%%\n"
    }
   },
   "outputs": [
    {
     "name": "stdout",
     "output_type": "stream",
     "text": [
      "Tests in total: 12100\n",
      "Flaky tests without noise: 283\n"
     ]
    }
   ],
   "source": [
    "import matplotlib.pyplot as plt\n",
    "\n",
    "flaky_tests_without_noises = 0\n",
    "tests_in_total = 0\n",
    "\n",
    "for result in results:\n",
    "    if result.noise_type == 'baseline':\n",
    "        for index, row in result.test_df.iterrows():\n",
    "            tests_in_total += 1\n",
    "            if row['PASSED'] != 0 and row['FAILED'] != 0:\n",
    "                flaky_tests_without_noises += 1\n",
    "\n",
    "print(f\"Tests in total: {tests_in_total}\")\n",
    "print(f\"Flaky tests without noise: {flaky_tests_without_noises}\")"
   ]
  },
  {
   "cell_type": "code",
   "execution_count": 20,
   "id": "3e5f8970",
   "metadata": {
    "scrolled": false,
    "pycharm": {
     "name": "#%%\n"
    }
   },
   "outputs": [
    {
     "data": {
      "image/png": "[encoded data removed]",
      "text/plain": [
       "<Figure size 640x480 with 1 Axes>"
      ]
     },
     "metadata": {},
     "output_type": "display_data"
    }
   ],
   "source": [
    "# Compute the number of non-flaky tests\n",
    "non_flaky_tests = tests_in_total - flaky_tests_in_total\n",
    "\n",
    "# Create data for the pie chart\n",
    "labels = ['Non-Flaky Tests', 'Flaky Tests']\n",
    "sizes = [non_flaky_tests, flaky_tests_in_total]\n",
    "colors = ['skyblue', 'lightcoral']\n",
    "\n",
    "# Create the pie chart with a rotated start angle of 135 degrees\n",
    "plt.pie(sizes, labels=labels, colors=colors, autopct='%1.1f%%', startangle=50)\n",
    "plt.axis('equal')  # Equal aspect ratio ensures that the pie is drawn as a circle\n",
    "plt.title('Non-Flaky Tests vs Flaky Tests (with noises)')\n",
    "\n",
    "# Save the pie chart as an image file\n",
    "plt.savefig('Noises_pie_chart.png', dpi=300)\n",
    "\n",
    "# Display the pie chart\n",
    "plt.show()\n",
    "\n"
   ]
  },
  {
   "cell_type": "code",
   "execution_count": 21,
   "id": "c966d397",
   "metadata": {
    "pycharm": {
     "name": "#%%\n"
    }
   },
   "outputs": [
    {
     "data": {
      "image/png": "[encoded data removed]",
      "text/plain": [
       "<Figure size 640x480 with 1 Axes>"
      ]
     },
     "metadata": {},
     "output_type": "display_data"
    }
   ],
   "source": [
    "# Compute the number of non-flaky tests\n",
    "non_flaky_tests = tests_in_total - flaky_tests_without_noises\n",
    "\n",
    "# Create data for the pie chart\n",
    "labels = ['Non-Flaky Tests', 'Flaky Tests']\n",
    "sizes = [non_flaky_tests, flaky_tests_without_noises]\n",
    "colors = ['skyblue', 'lightcoral']\n",
    "\n",
    "# Create the pie chart with a rotated start angle of 135 degrees\n",
    "plt.pie(sizes, labels=labels, colors=colors, autopct='%1.1f%%', startangle=50)\n",
    "plt.axis('equal')  # Equal aspect ratio ensures that the pie is drawn as a circle\n",
    "plt.title('Non-Flaky Tests vs Flaky Tests (Baseline)')\n",
    "\n",
    "# Save the pie chart as an image file\n",
    "plt.savefig('Baseline_pie_chart.png', dpi=300)\n",
    "\n",
    "# Display the pie chart\n",
    "plt.show()"
   ]
  },
  {
   "cell_type": "markdown",
   "id": "89cdd53a",
   "metadata": {
    "pycharm": {
     "name": "#%% md\n"
    }
   },
   "source": [
    "# How many tests became flaky with noise?"
   ]
  },
  {
   "cell_type": "code",
   "execution_count": 22,
   "id": "506b2697",
   "metadata": {
    "pycharm": {
     "name": "#%%\n"
    }
   },
   "outputs": [
    {
     "name": "stdout",
     "output_type": "stream",
     "text": [
      "Tests which became flaky only with noise: 206\n"
     ]
    }
   ],
   "source": [
    "print(f\"Tests which became flaky only with noise: {flaky_tests_in_total - flaky_tests_without_noises}\")"
   ]
  },
  {
   "cell_type": "markdown",
   "id": "c746083a",
   "metadata": {
    "pycharm": {
     "name": "#%% md\n"
    }
   },
   "source": [
    "## Result's overview"
   ]
  },
  {
   "cell_type": "code",
   "execution_count": 23,
   "id": "0267a49e",
   "metadata": {
    "pycharm": {
     "name": "#%%\n"
    }
   },
   "outputs": [
    {
     "data": {
      "text/html": [
       "<div>\n",
       "<style scoped>\n",
       "    .dataframe tbody tr th:only-of-type {\n",
       "        vertical-align: middle;\n",
       "    }\n",
       "\n",
       "    .dataframe tbody tr th {\n",
       "        vertical-align: top;\n",
       "    }\n",
       "\n",
       "    .dataframe thead th {\n",
       "        text-align: right;\n",
       "    }\n",
       "</style>\n",
       "<table border=\"1\" class=\"dataframe\">\n",
       "  <thead>\n",
       "    <tr style=\"text-align: right;\">\n",
       "      <th></th>\n",
       "      <th>Total Tests</th>\n",
       "      <th>Flaky Tests without noise</th>\n",
       "      <th>% of Flaky Tests</th>\n",
       "    </tr>\n",
       "  </thead>\n",
       "  <tbody>\n",
       "    <tr>\n",
       "      <th>0</th>\n",
       "      <td>12100</td>\n",
       "      <td>283</td>\n",
       "      <td>2.338843</td>\n",
       "    </tr>\n",
       "  </tbody>\n",
       "</table>\n",
       "</div>"
      ],
      "text/plain": [
       "   Total Tests  Flaky Tests without noise  % of Flaky Tests\n",
       "0        12100                        283          2.338843"
      ]
     },
     "execution_count": 23,
     "metadata": {},
     "output_type": "execute_result"
    }
   ],
   "source": [
    "percentage_flaky = (flaky_tests_without_noises / tests_in_total) * 100\n",
    "\n",
    "# Create a table using pandas DataFrame\n",
    "table = pd.DataFrame({\n",
    "    'Total Tests': [tests_in_total],\n",
    "    'Flaky Tests without noise': [flaky_tests_without_noises],\n",
    "    '% of Flaky Tests': [percentage_flaky]\n",
    "})\n",
    "\n",
    "table"
   ]
  },
  {
   "cell_type": "code",
   "execution_count": 24,
   "id": "94a9c292",
   "metadata": {
    "pycharm": {
     "name": "#%%\n"
    }
   },
   "outputs": [
    {
     "data": {
      "image/png": "[encoded data removed]",
      "text/plain": [
       "<Figure size 640x480 with 1 Axes>"
      ]
     },
     "metadata": {},
     "output_type": "display_data"
    }
   ],
   "source": [
    "flaky_tests_only_with_noise = flaky_tests_in_total - flaky_tests_without_noises\n",
    "\n",
    "labels = ['Flaky Tests without Noises', 'Tests which became flaky only with noise']\n",
    "sizes = [flaky_tests_without_noises, flaky_tests_only_with_noise]\n",
    "colors = ['#ff7f0e', '#1f77b4']\n",
    "\n",
    "plt.pie(sizes, labels=labels, colors=colors, startangle=90, autopct='%1.1f%%')\n",
    "plt.axis('equal')\n",
    "plt.title(f'Proportion of Flaky Tests ({flaky_tests_in_total} in total)')\n",
    "\n",
    "plt.show()"
   ]
  },
  {
   "cell_type": "markdown",
   "id": "fb1a6463",
   "metadata": {
    "pycharm": {
     "name": "#%% md\n"
    }
   },
   "source": [
    "## Find tests which are much more flaky for a specific noise"
   ]
  },
  {
   "cell_type": "code",
   "execution_count": 38,
   "id": "9050754a",
   "metadata": {
    "scrolled": true,
    "pycharm": {
     "name": "#%%\n"
    }
   },
   "outputs": [
    {
     "name": "stdout",
     "output_type": "stream",
     "text": [
      "                                             Test Name Noise Type  \\\n",
      "221  chromium/apps/web/profile/sidebar.spec.ts/Prof...     packet   \n",
      "246  chromium/apps/prerender/publication.spec.ts/sh...     packet   \n",
      "248  chromium/apps/prerender/publication.spec.ts/sh...     packet   \n",
      "250  chromium/apps/prerender/publication.spec.ts/sh...     packet   \n",
      "\n",
      "     Diff Flakiness Project Name  baseline_flakiness  \n",
      "221        0.039899      lenster            0.010101  \n",
      "246        0.353131      lenster            0.020202  \n",
      "248        0.379509      lenster            0.010101  \n",
      "250        0.402399      lenster            0.010101  \n"
     ]
    }
   ],
   "source": [
    "import pandas as pd\n",
    "\n",
    "test_flakiness = {}\n",
    "\n",
    "for result in results:\n",
    "    for index, row in result.test_df.iterrows():\n",
    "        test_name = row['test_name']\n",
    "        if row['TOTAL RUNS'] == 0:\n",
    "            continue\n",
    "        flakiness = (0 if row['FAILED'] / row['TOTAL RUNS'] == 1 else row['FAILED'] / row['TOTAL RUNS'])\n",
    "        noise_type = result.noise_type\n",
    "        project_name = result.project\n",
    "\n",
    "        key = (test_name, noise_type)\n",
    "\n",
    "        if key not in test_flakiness:\n",
    "            test_flakiness[key] = {'Flakiness': flakiness, 'Project Name': project_name}\n",
    "\n",
    "# Step 1: Group elements by test_name\n",
    "grouped_by_test = {}\n",
    "\n",
    "for (test_name, noise_type), data in test_flakiness.items():\n",
    "    if test_name not in grouped_by_test:\n",
    "        grouped_by_test[test_name] = []\n",
    "    grouped_by_test[test_name].append((noise_type, data['Flakiness'], data['Project Name']))\n",
    "\n",
    "# Step 2 and 3: Find noise type with the biggest flakiness and subtract from baseline\n",
    "analysis_results = []\n",
    "\n",
    "for test_name, test_data in grouped_by_test.items():\n",
    "    max_flakiness = 0\n",
    "    max_noise_type = None\n",
    "    baseline_flakiness = None\n",
    "    project_name = None\n",
    "\n",
    "    for noise_type, flakiness, project_name in test_data:\n",
    "        if flakiness > max_flakiness:\n",
    "            max_flakiness = flakiness\n",
    "            max_noise_type = noise_type\n",
    "\n",
    "        if noise_type == 'baseline':\n",
    "            baseline_flakiness = flakiness\n",
    "\n",
    "    if baseline_flakiness is not None and max_noise_type is not None and baseline_flakiness != 0:\n",
    "        diff_flakiness = max_flakiness - baseline_flakiness\n",
    "        analysis_results.append((test_name, max_noise_type, diff_flakiness, project_name, baseline_flakiness))\n",
    "\n",
    "# Step 4: Sort the analysis results by flakiness difference\n",
    "sorted_results = sorted(analysis_results, key=lambda x: x[2])\n",
    "\n",
    "# Create a DataFrame from the sorted results\n",
    "df = pd.DataFrame(sorted_results, columns=['Test Name', 'Noise Type', 'Diff Flakiness', 'Project Name', \"baseline_flakiness\"])\n",
    "\n",
    "# Filter the DataFrame by project_name\n",
    "project_name_filter = df['Project Name'] == 'lenster'\n",
    "filtered_df = df[project_name_filter]\n",
    "\n",
    "# Get a single row (row 250) as a DataFrame\n",
    "single_row_df = df.iloc[[250]]\n",
    "\n",
    "# Display the single row as a table\n",
    "print(filtered_df)\n",
    "\n"
   ]
  }
 ],
 "metadata": {
  "kernelspec": {
   "display_name": "Python 3 (ipykernel)",
   "language": "python",
   "name": "python3"
  },
  "language_info": {
   "codemirror_mode": {
    "name": "ipython",
    "version": 3
   },
   "file_extension": ".py",
   "mimetype": "text/x-python",
   "name": "python",
   "nbconvert_exporter": "python",
   "pygments_lexer": "ipython3",
   "version": "3.11.3"
  }
 },
 "nbformat": 4,
 "nbformat_minor": 5
}