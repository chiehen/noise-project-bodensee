{
 "cells": [
  {
   "cell_type": "code",
   "execution_count": 2,
   "id": "05e13554-fd56-4c75-a80e-33d0c7e2e27a",
   "metadata": {},
   "outputs": [],
   "source": [
    "import pandas as pd\n",
    "import os\n",
    "import re\n",
    "from dataclasses import dataclass\n",
    "import json\n",
    "%matplotlib inline"
   ]
  },
  {
   "cell_type": "code",
   "execution_count": 3,
   "id": "9166db0a-fe16-4f4a-89cc-b5230c21cd79",
   "metadata": {},
   "outputs": [],
   "source": [
    "jobname_regex = re.compile(r\"(?<=: \\[)(?P<project>[a-z-]+), (?P<noise_type>[a-z-]+)\")"
   ]
  },
  {
   "cell_type": "code",
   "execution_count": 4,
   "id": "eb7ef04e-368d-4c24-818b-6a88002a4f88",
   "metadata": {},
   "outputs": [],
   "source": [
    "test_string = \"Test Projects: [shiki, baseline]\"\n",
    "\n",
    "res = jobname_regex.search(test_string)"
   ]
  },
  {
   "cell_type": "markdown",
   "id": "736a28f5-67ea-405d-8d5e-906d46df02ec",
   "metadata": {},
   "source": [
    "# Read in all Results"
   ]
  },
  {
   "cell_type": "code",
   "execution_count": 5,
   "id": "f4701f1b-0a5c-4df3-91ee-2143907bfc5b",
   "metadata": {},
   "outputs": [
    {
     "data": {
      "text/plain": "'133 jobs found'"
     },
     "execution_count": 5,
     "metadata": {},
     "output_type": "execute_result"
    }
   ],
   "source": [
    "directory = \"../artifacts\"\n",
    "jobs_dir = os.listdir(directory)\n",
    "f\"{len(jobs_dir)} jobs found\""
   ]
  },
  {
   "cell_type": "code",
   "execution_count": 27,
   "id": "3f7206c7-1f5f-47cf-a0e0-d98ce8687127",
   "metadata": {},
   "outputs": [],
   "source": [
    "@dataclass\n",
    "class TestResult:\n",
    "    project: str\n",
    "    noise_type: str\n",
    "    dir: str\n",
    "    test_results: dict[str, dict[str, int]]\n",
    "    env_vars: dict[str, str]\n",
    "    job_number: int\n",
    "\n",
    "    test_df: pd.DataFrame = None\n",
    "\n",
    "    def __post_init__(self):\n",
    "        # Compute the test_df\n",
    "        # Columns: test_name, PASSED, Failed, Skipped, TOTAL RUNS\n",
    "        test_names = self.test_results.keys()\n",
    "        passed = [test.get(\"PASSED\", 0) for test in self.test_results.values()]\n",
    "        failed = [test.get(\"FAILED\", 0) for test in self.test_results.values()]\n",
    "        skipped = [test.get(\"SKIPPED\", 0) for test in self.test_results.values()]\n",
    "\n",
    "        self.test_df = pd.DataFrame({\n",
    "            \"test_name\": test_names,\n",
    "            \"PASSED\": passed,\n",
    "            \"FAILED\": failed,\n",
    "            \"SKIPPED\": skipped\n",
    "        })\n",
    "        self.test_df[\"TOTAL RUNS\"] = self.test_df[\"PASSED\"] + self.test_df[\"FAILED\"]\n"
   ]
  },
  {
   "cell_type": "code",
   "execution_count": 28,
   "id": "79e73b96",
   "metadata": {},
   "outputs": [],
   "source": [
    "results: list[TestResult] = []\n",
    "for job in jobs_dir:\n",
    "    with open(os.path.join(directory, job, \"jobname.txt\")) as f:\n",
    "        job_str = f.read()\n",
    "    job_re = jobname_regex.search(job_str)\n",
    "\n",
    "    with open(os.path.join(directory, job, \"aggregate-test-results\", \"aggregated_test_results.json\")) as f:\n",
    "        test_results = json.load(f)\n",
    "\n",
    "    with open(os.path.join(directory, job, \"aggregate-test-results\", \"environment_variables.json\")) as f:\n",
    "        env_vars = json.load(f)\n",
    "\n",
    "    results.append(TestResult(\n",
    "        project=job_re.group(\"project\"),\n",
    "        noise_type=job_re.group(\"noise_type\"),\n",
    "        dir=os.path.join(directory, job),\n",
    "        test_results=test_results,\n",
    "        env_vars=env_vars,\n",
    "        job_number=int(job)\n",
    "    ))"
   ]
  },
  {
   "cell_type": "code",
   "execution_count": 29,
   "outputs": [
    {
     "data": {
      "text/plain": "'parsed 133 results'"
     },
     "execution_count": 29,
     "metadata": {},
     "output_type": "execute_result"
    }
   ],
   "source": [
    "f\"parsed {len(results)} results\""
   ],
   "metadata": {
    "collapsed": false
   }
  },
  {
   "cell_type": "code",
   "execution_count": 30,
   "outputs": [],
   "source": [
    "x =results[1].test_df.sort_values(\"FAILED\")"
   ],
   "metadata": {
    "collapsed": false
   }
  },
  {
   "cell_type": "code",
   "execution_count": 31,
   "outputs": [
    {
     "data": {
      "text/plain": "                                             test_name  PASSED  FAILED  \\\n0    /administration-menu.spec.ts:17:2 › administra...      15       0   \n1    /administration-menu.spec.ts:24:2 › administra...       0       0   \n2    /administration-menu.spec.ts:31:2 › administra...      15       0   \n3    /administration-menu.spec.ts:40:3 › administra...      15       0   \n4    /administration.spec.ts:22:3 › administration ...      15       0   \n..                                                 ...     ...     ...   \n179  /video-conference.spec.ts:59:2 › video confere...       0       1   \n180  /video-conference.spec.ts:69:3 › video confere...       0       1   \n181  /video-conference.spec.ts:75:2 › video confere...       0       1   \n182  /video-conference.spec.ts:85:3 › video confere...       1       0   \n183  /video-conference.spec.ts:91:2 › video confere...       1       0   \n\n     SKIPPED  TOTAL RUNS  \n0          1          15  \n1         16           0  \n2          1          15  \n3          1          15  \n4          1          15  \n..       ...         ...  \n179       15           1  \n180       15           1  \n181       15           1  \n182       15           1  \n183       15           1  \n\n[184 rows x 5 columns]",
      "text/html": "<div>\n<style scoped>\n    .dataframe tbody tr th:only-of-type {\n        vertical-align: middle;\n    }\n\n    .dataframe tbody tr th {\n        vertical-align: top;\n    }\n\n    .dataframe thead th {\n        text-align: right;\n    }\n</style>\n<table border=\"1\" class=\"dataframe\">\n  <thead>\n    <tr style=\"text-align: right;\">\n      <th></th>\n      <th>test_name</th>\n      <th>PASSED</th>\n      <th>FAILED</th>\n      <th>SKIPPED</th>\n      <th>TOTAL RUNS</th>\n    </tr>\n  </thead>\n  <tbody>\n    <tr>\n      <th>0</th>\n      <td>/administration-menu.spec.ts:17:2 › administra...</td>\n      <td>15</td>\n      <td>0</td>\n      <td>1</td>\n      <td>15</td>\n    </tr>\n    <tr>\n      <th>1</th>\n      <td>/administration-menu.spec.ts:24:2 › administra...</td>\n      <td>0</td>\n      <td>0</td>\n      <td>16</td>\n      <td>0</td>\n    </tr>\n    <tr>\n      <th>2</th>\n      <td>/administration-menu.spec.ts:31:2 › administra...</td>\n      <td>15</td>\n      <td>0</td>\n      <td>1</td>\n      <td>15</td>\n    </tr>\n    <tr>\n      <th>3</th>\n      <td>/administration-menu.spec.ts:40:3 › administra...</td>\n      <td>15</td>\n      <td>0</td>\n      <td>1</td>\n      <td>15</td>\n    </tr>\n    <tr>\n      <th>4</th>\n      <td>/administration.spec.ts:22:3 › administration ...</td>\n      <td>15</td>\n      <td>0</td>\n      <td>1</td>\n      <td>15</td>\n    </tr>\n    <tr>\n      <th>...</th>\n      <td>...</td>\n      <td>...</td>\n      <td>...</td>\n      <td>...</td>\n      <td>...</td>\n    </tr>\n    <tr>\n      <th>179</th>\n      <td>/video-conference.spec.ts:59:2 › video confere...</td>\n      <td>0</td>\n      <td>1</td>\n      <td>15</td>\n      <td>1</td>\n    </tr>\n    <tr>\n      <th>180</th>\n      <td>/video-conference.spec.ts:69:3 › video confere...</td>\n      <td>0</td>\n      <td>1</td>\n      <td>15</td>\n      <td>1</td>\n    </tr>\n    <tr>\n      <th>181</th>\n      <td>/video-conference.spec.ts:75:2 › video confere...</td>\n      <td>0</td>\n      <td>1</td>\n      <td>15</td>\n      <td>1</td>\n    </tr>\n    <tr>\n      <th>182</th>\n      <td>/video-conference.spec.ts:85:3 › video confere...</td>\n      <td>1</td>\n      <td>0</td>\n      <td>15</td>\n      <td>1</td>\n    </tr>\n    <tr>\n      <th>183</th>\n      <td>/video-conference.spec.ts:91:2 › video confere...</td>\n      <td>1</td>\n      <td>0</td>\n      <td>15</td>\n      <td>1</td>\n    </tr>\n  </tbody>\n</table>\n<p>184 rows × 5 columns</p>\n</div>"
     },
     "execution_count": 31,
     "metadata": {},
     "output_type": "execute_result"
    }
   ],
   "source": [
    "results[50].test_df"
   ],
   "metadata": {
    "collapsed": false
   }
  },
  {
   "cell_type": "markdown",
   "source": [
    "# Remove job with the same project and noise type"
   ],
   "metadata": {
    "collapsed": false
   }
  },
  {
   "cell_type": "code",
   "execution_count": 38,
   "outputs": [],
   "source": [
    "results_dict : dict[tuple[str, str], TestResult] = {}\n",
    "for result in results:\n",
    "    key = (result.project, result.noise_type)\n",
    "    if key in results_dict:\n",
    "        if results_dict[key].job_number < result.job_number:\n",
    "            results_dict[key] = result\n",
    "    else:\n",
    "        results_dict[key] = result"
   ],
   "metadata": {
    "collapsed": false
   }
  },
  {
   "cell_type": "code",
   "execution_count": 39,
   "outputs": [
    {
     "data": {
      "text/plain": "'Filtered 0 results'"
     },
     "execution_count": 39,
     "metadata": {},
     "output_type": "execute_result"
    }
   ],
   "source": [
    "f\"Filtered {len(results) - len(results_dict)} results\""
   ],
   "metadata": {
    "collapsed": false
   }
  },
  {
   "cell_type": "code",
   "execution_count": 40,
   "outputs": [],
   "source": [
    "results = list(results_dict.values())"
   ],
   "metadata": {
    "collapsed": false
   }
  },
  {
   "cell_type": "markdown",
   "source": [
    "# Single Analysis DF of all results\n",
    "\n",
    "Columns: project\n",
    "Rows: noise_type\n",
    "Element: flakyness in %\n",
    "\n",
    "## Formula\n",
    "\n",
    "$$\n",
    "flakyness = \\begin{cases}\n",
    "0, all\\ tests\\ failed\\\\\n",
    "\\frac{Failed\\ Tests}{Total\\ Test\\ Runs}, else\n",
    "\\end{cases}\n",
    "$$"
   ],
   "metadata": {
    "collapsed": false
   }
  },
  {
   "cell_type": "code",
   "execution_count": 41,
   "outputs": [],
   "source": [
    "# define a function to compute the flakyness\n",
    "def compute_flakyness(df: pd.DataFrame) -> float:\n",
    "    lambda x: 0 if x[\"PASSED\"] == 0 else x[\"FAILED\"] / x[\"TOTAL RUNS\"]\n",
    "\n",
    "    df[\"flakyness\"] = df.apply(lambda x: 0 if x[\"PASSED\"] == 0 else x[\"FAILED\"] / x[\"TOTAL RUNS\"], axis=1)\n",
    "    return df[\"flakyness\"].mean()\n",
    "\n",
    "flakyness = [compute_flakyness(result.test_df) for result in results]"
   ],
   "metadata": {
    "collapsed": false
   }
  },
  {
   "cell_type": "code",
   "execution_count": 53,
   "outputs": [
    {
     "name": "stdout",
     "output_type": "stream",
     "text": [
      "Got noise_types: {'cpu', 'baseline', 'network', 'interrupt', 'packet', 'memory', 'disk', 'bandwidth'} and projects {'lenster', 'gatsby', 'dev-roadmap', 'logseq', 'remix', 'insomnia', 'ionic-framework', 'material-ui', 'storybook', 'quill', 'rocket-chat', 'playwright', 'docs', 'floating-ui', 'shiki'}\n"
     ]
    }
   ],
   "source": [
    "noise_types: set[str] = set()\n",
    "projects: set[str] = set()\n",
    "\n",
    "for (pj, nt) in results_dict:\n",
    "    noise_types.add(nt)\n",
    "    projects.add(pj)\n",
    "\n",
    "print(f\"Got noise_types: {noise_types} and projects {projects}\")"
   ],
   "metadata": {
    "collapsed": false
   }
  },
  {
   "cell_type": "code",
   "execution_count": 75,
   "outputs": [],
   "source": [
    "overview_dict: dict[str, list[float]] = {}\n",
    "\n",
    "for noise in noise_types:\n",
    "    for project in projects:\n",
    "        curr_val: list[float] = overview_dict.get(project, [])\n",
    "\n",
    "        val = float(\"nan\")\n",
    "\n",
    "        if (project, noise) in results_dict:\n",
    "            val = compute_flakyness(results_dict[(project, noise)].test_df)\n",
    "        else:\n",
    "            f\"Missing data for project {project} and noise type {noise}\"\n",
    "        curr_val.append(val)\n",
    "        overview_dict[project] = curr_val\n",
    "\n",
    "overview = pd.DataFrame(overview_dict, index=list(noise_types))"
   ],
   "metadata": {
    "collapsed": false
   }
  },
  {
   "cell_type": "code",
   "execution_count": 76,
   "outputs": [
    {
     "data": {
      "text/plain": "            lenster  gatsby  dev-roadmap    logseq     remix  insomnia  \\\ncpu        0.000106     0.0     0.060256       NaN  0.000521  0.013593   \nbaseline   0.000264     0.0     0.065385  0.123576  0.000429  0.008220   \nnetwork    0.000785     0.0     0.078205       NaN  0.000107  0.000000   \ninterrupt  0.000052     0.0     0.055641       NaN       NaN  0.006944   \npacket     0.019015     0.0     0.085897       NaN  0.000475  0.010621   \nmemory     0.000105     0.0     0.078205  0.205375       NaN  0.008239   \ndisk       0.000053     0.0     0.061795       NaN  0.000322  0.030093   \nbandwidth  0.000000     0.0     0.085897       NaN  0.000521  0.006944   \n\n           ionic-framework  material-ui  storybook     quill  rocket-chat  \\\ncpu               0.000247     0.000000        NaN  0.080000     0.016944   \nbaseline          0.002079          NaN        NaN  0.013333     0.035184   \nnetwork                NaN     0.000417        NaN  0.000000     0.017097   \ninterrupt         0.000721     0.001250        NaN  0.000000     0.015985   \npacket            0.000520     0.358122        NaN  0.513333     0.023977   \nmemory            0.000375     0.000000        NaN  0.010000     0.017903   \ndisk                   NaN     0.000000   0.017771  0.070000     0.027694   \nbandwidth              NaN          NaN        NaN  0.003333     0.203623   \n\n           playwright  docs  floating-ui     shiki  \ncpu          0.000186   0.0          0.0  0.000000  \nbaseline     0.000075   0.0          0.0  0.000000  \nnetwork      0.000016   0.0          0.0  0.000000  \ninterrupt    0.000064   0.0          0.0  0.000000  \npacket       0.000413   0.0          0.0  0.231667  \nmemory       0.000051   0.0          0.0  0.000000  \ndisk         0.000032   0.0          0.0  0.000000  \nbandwidth    0.000082   0.0          0.0  0.000000  ",
      "text/html": "<div>\n<style scoped>\n    .dataframe tbody tr th:only-of-type {\n        vertical-align: middle;\n    }\n\n    .dataframe tbody tr th {\n        vertical-align: top;\n    }\n\n    .dataframe thead th {\n        text-align: right;\n    }\n</style>\n<table border=\"1\" class=\"dataframe\">\n  <thead>\n    <tr style=\"text-align: right;\">\n      <th></th>\n      <th>lenster</th>\n      <th>gatsby</th>\n      <th>dev-roadmap</th>\n      <th>logseq</th>\n      <th>remix</th>\n      <th>insomnia</th>\n      <th>ionic-framework</th>\n      <th>material-ui</th>\n      <th>storybook</th>\n      <th>quill</th>\n      <th>rocket-chat</th>\n      <th>playwright</th>\n      <th>docs</th>\n      <th>floating-ui</th>\n      <th>shiki</th>\n    </tr>\n  </thead>\n  <tbody>\n    <tr>\n      <th>cpu</th>\n      <td>0.000106</td>\n      <td>0.0</td>\n      <td>0.060256</td>\n      <td>NaN</td>\n      <td>0.000521</td>\n      <td>0.013593</td>\n      <td>0.000247</td>\n      <td>0.000000</td>\n      <td>NaN</td>\n      <td>0.080000</td>\n      <td>0.016944</td>\n      <td>0.000186</td>\n      <td>0.0</td>\n      <td>0.0</td>\n      <td>0.000000</td>\n    </tr>\n    <tr>\n      <th>baseline</th>\n      <td>0.000264</td>\n      <td>0.0</td>\n      <td>0.065385</td>\n      <td>0.123576</td>\n      <td>0.000429</td>\n      <td>0.008220</td>\n      <td>0.002079</td>\n      <td>NaN</td>\n      <td>NaN</td>\n      <td>0.013333</td>\n      <td>0.035184</td>\n      <td>0.000075</td>\n      <td>0.0</td>\n      <td>0.0</td>\n      <td>0.000000</td>\n    </tr>\n    <tr>\n      <th>network</th>\n      <td>0.000785</td>\n      <td>0.0</td>\n      <td>0.078205</td>\n      <td>NaN</td>\n      <td>0.000107</td>\n      <td>0.000000</td>\n      <td>NaN</td>\n      <td>0.000417</td>\n      <td>NaN</td>\n      <td>0.000000</td>\n      <td>0.017097</td>\n      <td>0.000016</td>\n      <td>0.0</td>\n      <td>0.0</td>\n      <td>0.000000</td>\n    </tr>\n    <tr>\n      <th>interrupt</th>\n      <td>0.000052</td>\n      <td>0.0</td>\n      <td>0.055641</td>\n      <td>NaN</td>\n      <td>NaN</td>\n      <td>0.006944</td>\n      <td>0.000721</td>\n      <td>0.001250</td>\n      <td>NaN</td>\n      <td>0.000000</td>\n      <td>0.015985</td>\n      <td>0.000064</td>\n      <td>0.0</td>\n      <td>0.0</td>\n      <td>0.000000</td>\n    </tr>\n    <tr>\n      <th>packet</th>\n      <td>0.019015</td>\n      <td>0.0</td>\n      <td>0.085897</td>\n      <td>NaN</td>\n      <td>0.000475</td>\n      <td>0.010621</td>\n      <td>0.000520</td>\n      <td>0.358122</td>\n      <td>NaN</td>\n      <td>0.513333</td>\n      <td>0.023977</td>\n      <td>0.000413</td>\n      <td>0.0</td>\n      <td>0.0</td>\n      <td>0.231667</td>\n    </tr>\n    <tr>\n      <th>memory</th>\n      <td>0.000105</td>\n      <td>0.0</td>\n      <td>0.078205</td>\n      <td>0.205375</td>\n      <td>NaN</td>\n      <td>0.008239</td>\n      <td>0.000375</td>\n      <td>0.000000</td>\n      <td>NaN</td>\n      <td>0.010000</td>\n      <td>0.017903</td>\n      <td>0.000051</td>\n      <td>0.0</td>\n      <td>0.0</td>\n      <td>0.000000</td>\n    </tr>\n    <tr>\n      <th>disk</th>\n      <td>0.000053</td>\n      <td>0.0</td>\n      <td>0.061795</td>\n      <td>NaN</td>\n      <td>0.000322</td>\n      <td>0.030093</td>\n      <td>NaN</td>\n      <td>0.000000</td>\n      <td>0.017771</td>\n      <td>0.070000</td>\n      <td>0.027694</td>\n      <td>0.000032</td>\n      <td>0.0</td>\n      <td>0.0</td>\n      <td>0.000000</td>\n    </tr>\n    <tr>\n      <th>bandwidth</th>\n      <td>0.000000</td>\n      <td>0.0</td>\n      <td>0.085897</td>\n      <td>NaN</td>\n      <td>0.000521</td>\n      <td>0.006944</td>\n      <td>NaN</td>\n      <td>NaN</td>\n      <td>NaN</td>\n      <td>0.003333</td>\n      <td>0.203623</td>\n      <td>0.000082</td>\n      <td>0.0</td>\n      <td>0.0</td>\n      <td>0.000000</td>\n    </tr>\n  </tbody>\n</table>\n</div>"
     },
     "execution_count": 76,
     "metadata": {},
     "output_type": "execute_result"
    }
   ],
   "source": [
    "overview"
   ],
   "metadata": {
    "collapsed": false
   }
  },
  {
   "cell_type": "code",
   "execution_count": null,
   "outputs": [],
   "source": [],
   "metadata": {
    "collapsed": false
   }
  }
 ],
 "metadata": {
  "kernelspec": {
   "display_name": "Python 3 (ipykernel)",
   "language": "python",
   "name": "python3"
  },
  "language_info": {
   "codemirror_mode": {
    "name": "ipython",
    "version": 3
   },
   "file_extension": ".py",
   "mimetype": "text/x-python",
   "name": "python",
   "nbconvert_exporter": "python",
   "pygments_lexer": "ipython3",
   "version": "3.11.4"
  }
 },
 "nbformat": 4,
 "nbformat_minor": 5
}
