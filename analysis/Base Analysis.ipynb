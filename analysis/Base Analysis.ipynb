{
 "cells": [
  {
   "cell_type": "code",
   "execution_count": 36,
   "id": "05e13554-fd56-4c75-a80e-33d0c7e2e27a",
   "metadata": {},
   "outputs": [],
   "source": [
    "import pandas as pd\n",
    "import os\n",
    "import re\n",
    "from dataclasses import dataclass\n",
    "import json\n",
    "%matplotlib inline"
   ]
  },
  {
   "cell_type": "code",
   "execution_count": 37,
   "id": "9166db0a-fe16-4f4a-89cc-b5230c21cd79",
   "metadata": {},
   "outputs": [],
   "source": [
    "jobname_regex = re.compile(r\"(?<=: \\[)(?P<project>[a-z-]+), (?P<noise_type>[a-z-]+)\")"
   ]
  },
  {
   "cell_type": "code",
   "execution_count": 38,
   "id": "eb7ef04e-368d-4c24-818b-6a88002a4f88",
   "metadata": {},
   "outputs": [],
   "source": [
    "test_string = \"Test Projects: [shiki, baseline]\"\n",
    "\n",
    "res = jobname_regex.search(test_string)"
   ]
  },
  {
   "cell_type": "code",
   "execution_count": 39,
   "id": "d022d39a-8110-406c-8f16-d505c46743f5",
   "metadata": {},
   "outputs": [
    {
     "data": {
      "text/plain": "'shiki'"
     },
     "execution_count": 39,
     "metadata": {},
     "output_type": "execute_result"
    }
   ],
   "source": [
    "res.group(\"project\")"
   ]
  },
  {
   "cell_type": "code",
   "execution_count": 40,
   "id": "d8ba4814-038d-41b5-ae0f-9a9f97db9ea9",
   "metadata": {},
   "outputs": [
    {
     "data": {
      "text/plain": "'baseline'"
     },
     "execution_count": 40,
     "metadata": {},
     "output_type": "execute_result"
    }
   ],
   "source": [
    "res.group(\"noise_type\")"
   ]
  },
  {
   "cell_type": "markdown",
   "id": "736a28f5-67ea-405d-8d5e-906d46df02ec",
   "metadata": {},
   "source": [
    "# Read in all Results"
   ]
  },
  {
   "cell_type": "code",
   "execution_count": 41,
   "id": "f4701f1b-0a5c-4df3-91ee-2143907bfc5b",
   "metadata": {},
   "outputs": [
    {
     "data": {
      "text/plain": "'85 jobs found'"
     },
     "execution_count": 41,
     "metadata": {},
     "output_type": "execute_result"
    }
   ],
   "source": [
    "directory = \"../artifacts\"\n",
    "jobs_dir = os.listdir(directory)\n",
    "f\"{len(jobs_dir)} jobs found\""
   ]
  },
  {
   "cell_type": "code",
   "execution_count": 42,
   "id": "3f7206c7-1f5f-47cf-a0e0-d98ce8687127",
   "metadata": {},
   "outputs": [],
   "source": [
    "@dataclass\n",
    "class TestResult:\n",
    "    project: str\n",
    "    noise_type: str\n",
    "    dir: str\n",
    "    test_results: dict[str, dict[str, int]]\n",
    "    env_vars: dict[str, str]\n",
    "\n",
    "    test_df: pd.DataFrame = None\n",
    "\n",
    "    def __post_init__(self):\n",
    "        # Compute the test_df\n",
    "        # Columns: test_name, PASSED, Failed, Skipped, TOTAL RUNS\n",
    "        test_names = self.test_results.keys()\n",
    "        passed = [test.get(\"PASSED\", 0) for test in self.test_results.values()]\n",
    "        failed = [test.get(\"FAILED\", 0) for test in self.test_results.values()]\n",
    "        skipped = [test.get(\"SKIPPED\", 0) for test in self.test_results.values()]\n",
    "\n",
    "        self.test_df = pd.DataFrame({\n",
    "            \"test_name\": test_names,\n",
    "            \"PASSED\": passed,\n",
    "            \"FAILED\": failed,\n",
    "            \"SKIPPED\": skipped\n",
    "        })\n",
    "        self.test_df[\"TOTAL RUNS\"] = self.test_df[\"PASSED\"] + self.test_df[\"FAILED\"] + self.test_df[\"SKIPPED\"]\n"
   ]
  },
  {
   "cell_type": "code",
   "execution_count": 43,
   "id": "79e73b96",
   "metadata": {},
   "outputs": [],
   "source": [
    "results: list[TestResult] = []\n",
    "for job in jobs_dir:\n",
    "    with open(os.path.join(directory, job, \"jobname.txt\")) as f:\n",
    "        job_str = f.read()\n",
    "    job_re = jobname_regex.search(job_str)\n",
    "\n",
    "    with open(os.path.join(directory, job, \"aggregate-test-results\", \"aggregated_test_results.json\")) as f:\n",
    "        test_results = json.load(f)\n",
    "\n",
    "    with open(os.path.join(directory, job, \"aggregate-test-results\", \"environment_variables.json\")) as f:\n",
    "        env_vars = json.load(f)\n",
    "\n",
    "    results.append(TestResult(\n",
    "        project=job_re.group(\"project\"),\n",
    "        noise_type=job_re.group(\"noise_type\"),\n",
    "        dir=os.path.join(directory, job),\n",
    "        test_results=test_results,\n",
    "        env_vars=env_vars\n",
    "    ))"
   ]
  },
  {
   "cell_type": "code",
   "execution_count": 44,
   "outputs": [
    {
     "data": {
      "text/plain": "'parsed 85 results'"
     },
     "execution_count": 44,
     "metadata": {},
     "output_type": "execute_result"
    }
   ],
   "source": [
    "f\"parsed {len(results)} results\""
   ],
   "metadata": {
    "collapsed": false
   }
  },
  {
   "cell_type": "code",
   "execution_count": 63,
   "outputs": [],
   "source": [
    "x =results[0].test_df.sort_values(\"FAILED\")"
   ],
   "metadata": {
    "collapsed": false
   }
  },
  {
   "cell_type": "code",
   "execution_count": 65,
   "outputs": [
    {
     "data": {
      "text/plain": "                                            test_name  PASSED  FAILED  \\\n0   Default/prerelease/basic-interactions.test.ts/...      58       0   \n51      Default/smoke/app.test.ts/can cancel requests      58       0   \n50        Default/smoke/app.test.ts/can send requests      58       0   \n49  Default/prerelease/request-pane-tab.test.ts/WS...      58       0   \n48  Default/prerelease/request-pane-tab.test.ts/WS...      58       0   \n..                                                ...     ...     ...   \n19  Default/prerelease/debug-sidebar-interactions....      58       0   \n25  Default/prerelease/environment-editor-interact...      58       0   \n27  Default/prerelease/git-sync-interactions.test....       0      58   \n28  Default/prerelease/git-sync-interactions.test....       0      58   \n26  Default/prerelease/git-sync-interactions.test....       0      58   \n\n    SKIPPED  TOTAL RUNS  \n0         0          58  \n51        0          58  \n50        0          58  \n49        0          58  \n48        0          58  \n..      ...         ...  \n19        0          58  \n25        0          58  \n27        0          58  \n28        0          58  \n26        0          58  \n\n[72 rows x 5 columns]",
      "text/html": "<div>\n<style scoped>\n    .dataframe tbody tr th:only-of-type {\n        vertical-align: middle;\n    }\n\n    .dataframe tbody tr th {\n        vertical-align: top;\n    }\n\n    .dataframe thead th {\n        text-align: right;\n    }\n</style>\n<table border=\"1\" class=\"dataframe\">\n  <thead>\n    <tr style=\"text-align: right;\">\n      <th></th>\n      <th>test_name</th>\n      <th>PASSED</th>\n      <th>FAILED</th>\n      <th>SKIPPED</th>\n      <th>TOTAL RUNS</th>\n    </tr>\n  </thead>\n  <tbody>\n    <tr>\n      <th>0</th>\n      <td>Default/prerelease/basic-interactions.test.ts/...</td>\n      <td>58</td>\n      <td>0</td>\n      <td>0</td>\n      <td>58</td>\n    </tr>\n    <tr>\n      <th>51</th>\n      <td>Default/smoke/app.test.ts/can cancel requests</td>\n      <td>58</td>\n      <td>0</td>\n      <td>0</td>\n      <td>58</td>\n    </tr>\n    <tr>\n      <th>50</th>\n      <td>Default/smoke/app.test.ts/can send requests</td>\n      <td>58</td>\n      <td>0</td>\n      <td>0</td>\n      <td>58</td>\n    </tr>\n    <tr>\n      <th>49</th>\n      <td>Default/prerelease/request-pane-tab.test.ts/WS...</td>\n      <td>58</td>\n      <td>0</td>\n      <td>0</td>\n      <td>58</td>\n    </tr>\n    <tr>\n      <th>48</th>\n      <td>Default/prerelease/request-pane-tab.test.ts/WS...</td>\n      <td>58</td>\n      <td>0</td>\n      <td>0</td>\n      <td>58</td>\n    </tr>\n    <tr>\n      <th>...</th>\n      <td>...</td>\n      <td>...</td>\n      <td>...</td>\n      <td>...</td>\n      <td>...</td>\n    </tr>\n    <tr>\n      <th>19</th>\n      <td>Default/prerelease/debug-sidebar-interactions....</td>\n      <td>58</td>\n      <td>0</td>\n      <td>0</td>\n      <td>58</td>\n    </tr>\n    <tr>\n      <th>25</th>\n      <td>Default/prerelease/environment-editor-interact...</td>\n      <td>58</td>\n      <td>0</td>\n      <td>0</td>\n      <td>58</td>\n    </tr>\n    <tr>\n      <th>27</th>\n      <td>Default/prerelease/git-sync-interactions.test....</td>\n      <td>0</td>\n      <td>58</td>\n      <td>0</td>\n      <td>58</td>\n    </tr>\n    <tr>\n      <th>28</th>\n      <td>Default/prerelease/git-sync-interactions.test....</td>\n      <td>0</td>\n      <td>58</td>\n      <td>0</td>\n      <td>58</td>\n    </tr>\n    <tr>\n      <th>26</th>\n      <td>Default/prerelease/git-sync-interactions.test....</td>\n      <td>0</td>\n      <td>58</td>\n      <td>0</td>\n      <td>58</td>\n    </tr>\n  </tbody>\n</table>\n<p>72 rows × 5 columns</p>\n</div>"
     },
     "execution_count": 65,
     "metadata": {},
     "output_type": "execute_result"
    }
   ],
   "source": [
    "x"
   ],
   "metadata": {
    "collapsed": false
   }
  },
  {
   "cell_type": "code",
   "execution_count": null,
   "outputs": [],
   "source": [],
   "metadata": {
    "collapsed": false
   }
  }
 ],
 "metadata": {
  "kernelspec": {
   "display_name": "Python 3 (ipykernel)",
   "language": "python",
   "name": "python3"
  },
  "language_info": {
   "codemirror_mode": {
    "name": "ipython",
    "version": 3
   },
   "file_extension": ".py",
   "mimetype": "text/x-python",
   "name": "python",
   "nbconvert_exporter": "python",
   "pygments_lexer": "ipython3",
   "version": "3.11.4"
  }
 },
 "nbformat": 4,
 "nbformat_minor": 5
}
