{
 "cells": [
  {
   "cell_type": "code",
   "execution_count": 97,
   "id": "05e13554-fd56-4c75-a80e-33d0c7e2e27a",
   "metadata": {},
   "outputs": [],
   "source": [
    "import pandas as pd\n",
    "import os\n",
    "import re\n",
    "from dataclasses import dataclass\n",
    "import json\n",
    "%matplotlib inline"
   ]
  },
  {
   "cell_type": "code",
   "execution_count": 98,
   "id": "9166db0a-fe16-4f4a-89cc-b5230c21cd79",
   "metadata": {},
   "outputs": [],
   "source": [
    "jobname_regex = re.compile(r\"(?<=: \\[)(?P<project>[a-z- 0-9 _]+), (?P<noise_type>[a-z- 0-9_]+)\")"
   ]
  },
  {
   "cell_type": "code",
   "execution_count": 99,
   "id": "eb7ef04e-368d-4c24-818b-6a88002a4f88",
   "metadata": {},
   "outputs": [
    {
     "data": {
      "text/plain": [
       "<re.Match object; span=(16, 29), match='shiki, cpu 20'>"
      ]
     },
     "execution_count": 99,
     "metadata": {},
     "output_type": "execute_result"
    }
   ],
   "source": [
    "test_string = \"Test Projects: [shiki, cpu 20]\"\n",
    "\n",
    "res = jobname_regex.search(test_string)\n",
    "res"
   ]
  },
  {
   "cell_type": "markdown",
   "id": "736a28f5-67ea-405d-8d5e-906d46df02ec",
   "metadata": {},
   "source": [
    "# Read in all Results"
   ]
  },
  {
   "cell_type": "code",
   "execution_count": 100,
   "id": "f4701f1b-0a5c-4df3-91ee-2143907bfc5b",
   "metadata": {},
   "outputs": [
    {
     "data": {
      "text/plain": [
       "'174 jobs found'"
      ]
     },
     "execution_count": 100,
     "metadata": {},
     "output_type": "execute_result"
    }
   ],
   "source": [
    "directory = \"../artifacts\"\n",
    "jobs_dir = os.listdir(directory)\n",
    "f\"{len(jobs_dir)} jobs found\""
   ]
  },
  {
   "cell_type": "code",
   "execution_count": 101,
   "id": "3f7206c7-1f5f-47cf-a0e0-d98ce8687127",
   "metadata": {},
   "outputs": [],
   "source": [
    "@dataclass\n",
    "class TestResult:\n",
    "    project: str\n",
    "    noise_type: str\n",
    "    dir: str\n",
    "    test_results: dict[str, dict[str, int]]\n",
    "    env_vars: dict[str, str]\n",
    "    job_number: int\n",
    "\n",
    "    test_df: pd.DataFrame = None\n",
    "\n",
    "    def __post_init__(self):\n",
    "        # Compute the test_df\n",
    "        # Columns: test_name, PASSED, Failed, Skipped, TOTAL RUNS\n",
    "        test_names = self.test_results.keys()\n",
    "        passed = [test.get(\"PASSED\", 0) for test in self.test_results.values()]\n",
    "        failed = [test.get(\"FAILED\", 0) for test in self.test_results.values()]\n",
    "        skipped = [test.get(\"SKIPPED\", 0) for test in self.test_results.values()]\n",
    "\n",
    "        self.test_df = pd.DataFrame({\n",
    "            \"test_name\": test_names,\n",
    "            \"PASSED\": passed,\n",
    "            \"FAILED\": failed,\n",
    "            \"SKIPPED\": skipped\n",
    "        })\n",
    "        self.test_df[\"TOTAL RUNS\"] = self.test_df[\"PASSED\"] + self.test_df[\"FAILED\"]\n"
   ]
  },
  {
   "cell_type": "code",
   "execution_count": 102,
   "id": "79e73b96",
   "metadata": {},
   "outputs": [],
   "source": [
    "results: list[TestResult] = []\n",
    "for job in jobs_dir:\n",
    "    # check if folder contains a jobname.txt\n",
    "    if not os.path.exists(os.path.join(directory, job, \"jobname.txt\")):\n",
    "        continue\n",
    "\n",
    "    with open(os.path.join(directory, job, \"jobname.txt\")) as f:\n",
    "        job_str = f.read()\n",
    "    job_re = jobname_regex.search(job_str)\n",
    "\n",
    "    with open(os.path.join(directory, job, \"aggregate-test-results\", \"aggregated_test_results.json\")) as f:\n",
    "        test_results = json.load(f)\n",
    "\n",
    "    with open(os.path.join(directory, job, \"aggregate-test-results\", \"environment_variables.json\")) as f:\n",
    "        env_vars = json.load(f)\n",
    "\n",
    "    results.append(TestResult(\n",
    "        project=job_re.group(\"project\"),\n",
    "        noise_type=job_re.group(\"noise_type\"),\n",
    "        dir=os.path.join(directory, job),\n",
    "        test_results=test_results,\n",
    "        env_vars=env_vars,\n",
    "        job_number=int(job)\n",
    "    ))"
   ]
  },
  {
   "cell_type": "code",
   "execution_count": 103,
   "metadata": {
    "collapsed": false
   },
   "outputs": [
    {
     "data": {
      "text/plain": [
       "'parsed 173 results'"
      ]
     },
     "execution_count": 103,
     "metadata": {},
     "output_type": "execute_result"
    }
   ],
   "source": [
    "f\"parsed {len(results)} results\""
   ]
  },
  {
   "cell_type": "code",
   "execution_count": 104,
   "metadata": {
    "collapsed": false
   },
   "outputs": [],
   "source": [
    "x =results[1].test_df.sort_values(\"FAILED\")"
   ]
  },
  {
   "cell_type": "code",
   "execution_count": 105,
   "metadata": {
    "collapsed": false
   },
   "outputs": [
    {
     "data": {
      "text/html": [
       "<div>\n",
       "<style scoped>\n",
       "    .dataframe tbody tr th:only-of-type {\n",
       "        vertical-align: middle;\n",
       "    }\n",
       "\n",
       "    .dataframe tbody tr th {\n",
       "        vertical-align: top;\n",
       "    }\n",
       "\n",
       "    .dataframe thead th {\n",
       "        text-align: right;\n",
       "    }\n",
       "</style>\n",
       "<table border=\"1\" class=\"dataframe\">\n",
       "  <thead>\n",
       "    <tr style=\"text-align: right;\">\n",
       "      <th></th>\n",
       "      <th>test_name</th>\n",
       "      <th>PASSED</th>\n",
       "      <th>FAILED</th>\n",
       "      <th>SKIPPED</th>\n",
       "      <th>TOTAL RUNS</th>\n",
       "    </tr>\n",
       "  </thead>\n",
       "  <tbody>\n",
       "    <tr>\n",
       "      <th>0</th>\n",
       "      <td>chromium/gatsby-script-off-main-thread.spec.ts...</td>\n",
       "      <td>100</td>\n",
       "      <td>0</td>\n",
       "      <td>0</td>\n",
       "      <td>100</td>\n",
       "    </tr>\n",
       "    <tr>\n",
       "      <th>1</th>\n",
       "      <td>chromium/gatsby-script-off-main-thread.spec.ts...</td>\n",
       "      <td>0</td>\n",
       "      <td>0</td>\n",
       "      <td>100</td>\n",
       "      <td>0</td>\n",
       "    </tr>\n",
       "    <tr>\n",
       "      <th>2</th>\n",
       "      <td>chromium/gatsby-script-off-main-thread.spec.ts...</td>\n",
       "      <td>0</td>\n",
       "      <td>0</td>\n",
       "      <td>100</td>\n",
       "      <td>0</td>\n",
       "    </tr>\n",
       "  </tbody>\n",
       "</table>\n",
       "</div>"
      ],
      "text/plain": [
       "                                           test_name  PASSED  FAILED  SKIPPED  \\\n",
       "0  chromium/gatsby-script-off-main-thread.spec.ts...     100       0        0   \n",
       "1  chromium/gatsby-script-off-main-thread.spec.ts...       0       0      100   \n",
       "2  chromium/gatsby-script-off-main-thread.spec.ts...       0       0      100   \n",
       "\n",
       "   TOTAL RUNS  \n",
       "0         100  \n",
       "1           0  \n",
       "2           0  "
      ]
     },
     "execution_count": 105,
     "metadata": {},
     "output_type": "execute_result"
    }
   ],
   "source": [
    "results[50].test_df"
   ]
  },
  {
   "cell_type": "markdown",
   "metadata": {
    "collapsed": false
   },
   "source": [
    "# Remove job with the same project and noise type"
   ]
  },
  {
   "cell_type": "code",
   "execution_count": 106,
   "metadata": {
    "collapsed": false
   },
   "outputs": [],
   "source": [
    "results_dict : dict[tuple[str, str], TestResult] = {}\n",
    "for result in results:\n",
    "    key = (result.project, result.noise_type)\n",
    "    if key in results_dict:\n",
    "        if results_dict[key].job_number < result.job_number:\n",
    "            results_dict[key] = result\n",
    "    else:\n",
    "        results_dict[key] = result"
   ]
  },
  {
   "cell_type": "code",
   "execution_count": 107,
   "metadata": {
    "collapsed": false
   },
   "outputs": [
    {
     "data": {
      "text/plain": [
       "'Filtered 26 results'"
      ]
     },
     "execution_count": 107,
     "metadata": {},
     "output_type": "execute_result"
    }
   ],
   "source": [
    "f\"Filtered {len(results) - len(results_dict)} results\""
   ]
  },
  {
   "cell_type": "code",
   "execution_count": 108,
   "metadata": {
    "collapsed": false
   },
   "outputs": [],
   "source": [
    "results = list(results_dict.values())"
   ]
  },
  {
   "cell_type": "markdown",
   "metadata": {
    "collapsed": false
   },
   "source": [
    "# Single Analysis DF of all results\n",
    "\n",
    "Columns: project\n",
    "Rows: noise_type\n",
    "Element: flakyness in %\n",
    "\n",
    "## Formula\n",
    "\n",
    "$$\n",
    "flakyness = \\begin{cases}\n",
    "0, all\\ tests\\ failed\\\\\n",
    "\\frac{Failed\\ Tests}{Total\\ Test\\ Runs}, else\n",
    "\\end{cases}\n",
    "$$"
   ]
  },
  {
   "cell_type": "code",
   "execution_count": 109,
   "metadata": {
    "collapsed": false
   },
   "outputs": [],
   "source": [
    "# define a function to compute the flakyness\n",
    "def compute_flakyness(df: pd.DataFrame) -> float:\n",
    "    lambda x: 0 if x[\"PASSED\"] == 0 else x[\"FAILED\"] / x[\"TOTAL RUNS\"]\n",
    "\n",
    "    df[\"flakyness\"] = df.apply(lambda x: 0 if x[\"PASSED\"] == 0 else x[\"FAILED\"] / x[\"TOTAL RUNS\"], axis=1)\n",
    "    return df[\"flakyness\"].mean()\n",
    "\n",
    "flakyness = [compute_flakyness(result.test_df) for result in results]"
   ]
  },
  {
   "cell_type": "code",
   "execution_count": 110,
   "metadata": {
    "collapsed": false
   },
   "outputs": [
    {
     "name": "stdout",
     "output_type": "stream",
     "text": [
      "Got noise_types: {'baseline', 'bandwidth', 'packet_loss_20', 'cpu20', 'memory', 'cpu50', 'network_delay', 'disk', 'packet_loss_70', 'packet_loss', 'interrupt'} and projects {'storybook', 'ionic-framework', 'material-ui', 'lenster', 'logseq', 'floating-ui', 'docs', 'gatsby', 'insomnia', 'playwright', 'remix', 'rocket-chat', 'dev-roadmap', 'cal', 'quill', 'shiki'}\n"
     ]
    }
   ],
   "source": [
    "noise_types: set[str] = set()\n",
    "projects: set[str] = set()\n",
    "\n",
    "for (pj, nt) in results_dict:\n",
    "    noise_types.add(nt)\n",
    "    projects.add(pj)\n",
    "\n",
    "print(f\"Got noise_types: {noise_types} and projects {projects}\")"
   ]
  },
  {
   "cell_type": "code",
   "execution_count": 111,
   "metadata": {
    "collapsed": false
   },
   "outputs": [],
   "source": [
    "overview_dict: dict[str, list[float]] = {}\n",
    "\n",
    "for noise in noise_types:\n",
    "    for project in projects:\n",
    "        curr_val: list[float] = overview_dict.get(project, [])\n",
    "\n",
    "        val = float(\"nan\")\n",
    "\n",
    "        if (project, noise) in results_dict:\n",
    "            val = compute_flakyness(results_dict[(project, noise)].test_df)\n",
    "        else:\n",
    "            f\"Missing data for project {project} and noise type {noise}\"\n",
    "        curr_val.append(val)\n",
    "        overview_dict[project] = curr_val\n",
    "\n",
    "overview = pd.DataFrame(overview_dict, index=list(noise_types))"
   ]
  },
  {
   "cell_type": "code",
   "execution_count": 112,
   "metadata": {
    "collapsed": false
   },
   "outputs": [
    {
     "data": {
      "text/html": [
       "<div>\n",
       "<style scoped>\n",
       "    .dataframe tbody tr th:only-of-type {\n",
       "        vertical-align: middle;\n",
       "    }\n",
       "\n",
       "    .dataframe tbody tr th {\n",
       "        vertical-align: top;\n",
       "    }\n",
       "\n",
       "    .dataframe thead th {\n",
       "        text-align: right;\n",
       "    }\n",
       "</style>\n",
       "<table border=\"1\" class=\"dataframe\">\n",
       "  <thead>\n",
       "    <tr style=\"text-align: right;\">\n",
       "      <th></th>\n",
       "      <th>storybook</th>\n",
       "      <th>ionic-framework</th>\n",
       "      <th>material-ui</th>\n",
       "      <th>lenster</th>\n",
       "      <th>logseq</th>\n",
       "      <th>floating-ui</th>\n",
       "      <th>docs</th>\n",
       "      <th>gatsby</th>\n",
       "      <th>insomnia</th>\n",
       "      <th>playwright</th>\n",
       "      <th>remix</th>\n",
       "      <th>rocket-chat</th>\n",
       "      <th>dev-roadmap</th>\n",
       "      <th>cal</th>\n",
       "      <th>quill</th>\n",
       "      <th>shiki</th>\n",
       "    </tr>\n",
       "  </thead>\n",
       "  <tbody>\n",
       "    <tr>\n",
       "      <th>baseline</th>\n",
       "      <td>0.009429</td>\n",
       "      <td>0.002079</td>\n",
       "      <td>0.000000</td>\n",
       "      <td>0.000264</td>\n",
       "      <td>0.228221</td>\n",
       "      <td>0.0</td>\n",
       "      <td>0.0</td>\n",
       "      <td>0.0</td>\n",
       "      <td>0.008220</td>\n",
       "      <td>0.000075</td>\n",
       "      <td>0.000429</td>\n",
       "      <td>0.035184</td>\n",
       "      <td>0.065385</td>\n",
       "      <td>0.033028</td>\n",
       "      <td>0.013333</td>\n",
       "      <td>0.000000</td>\n",
       "    </tr>\n",
       "    <tr>\n",
       "      <th>bandwidth</th>\n",
       "      <td>0.009619</td>\n",
       "      <td>NaN</td>\n",
       "      <td>0.000417</td>\n",
       "      <td>0.000000</td>\n",
       "      <td>0.218522</td>\n",
       "      <td>0.0</td>\n",
       "      <td>0.0</td>\n",
       "      <td>0.0</td>\n",
       "      <td>0.006944</td>\n",
       "      <td>0.000082</td>\n",
       "      <td>0.000521</td>\n",
       "      <td>0.203623</td>\n",
       "      <td>0.085897</td>\n",
       "      <td>0.034404</td>\n",
       "      <td>0.003333</td>\n",
       "      <td>0.000000</td>\n",
       "    </tr>\n",
       "    <tr>\n",
       "      <th>packet_loss_20</th>\n",
       "      <td>NaN</td>\n",
       "      <td>NaN</td>\n",
       "      <td>0.005000</td>\n",
       "      <td>0.002709</td>\n",
       "      <td>NaN</td>\n",
       "      <td>0.0</td>\n",
       "      <td>0.0</td>\n",
       "      <td>0.0</td>\n",
       "      <td>NaN</td>\n",
       "      <td>NaN</td>\n",
       "      <td>NaN</td>\n",
       "      <td>NaN</td>\n",
       "      <td>0.000000</td>\n",
       "      <td>NaN</td>\n",
       "      <td>NaN</td>\n",
       "      <td>NaN</td>\n",
       "    </tr>\n",
       "    <tr>\n",
       "      <th>cpu20</th>\n",
       "      <td>0.010000</td>\n",
       "      <td>0.000247</td>\n",
       "      <td>0.000000</td>\n",
       "      <td>0.000052</td>\n",
       "      <td>0.140308</td>\n",
       "      <td>0.0</td>\n",
       "      <td>0.0</td>\n",
       "      <td>0.0</td>\n",
       "      <td>0.018519</td>\n",
       "      <td>0.000084</td>\n",
       "      <td>NaN</td>\n",
       "      <td>0.021943</td>\n",
       "      <td>0.046667</td>\n",
       "      <td>0.039450</td>\n",
       "      <td>0.080000</td>\n",
       "      <td>0.000000</td>\n",
       "    </tr>\n",
       "    <tr>\n",
       "      <th>memory</th>\n",
       "      <td>NaN</td>\n",
       "      <td>0.000375</td>\n",
       "      <td>0.000000</td>\n",
       "      <td>0.000105</td>\n",
       "      <td>0.205375</td>\n",
       "      <td>0.0</td>\n",
       "      <td>0.0</td>\n",
       "      <td>0.0</td>\n",
       "      <td>0.008239</td>\n",
       "      <td>0.000051</td>\n",
       "      <td>0.000123</td>\n",
       "      <td>0.017903</td>\n",
       "      <td>0.078205</td>\n",
       "      <td>0.040826</td>\n",
       "      <td>0.010000</td>\n",
       "      <td>0.000000</td>\n",
       "    </tr>\n",
       "    <tr>\n",
       "      <th>cpu50</th>\n",
       "      <td>NaN</td>\n",
       "      <td>NaN</td>\n",
       "      <td>0.000000</td>\n",
       "      <td>0.000106</td>\n",
       "      <td>0.131902</td>\n",
       "      <td>0.0</td>\n",
       "      <td>0.0</td>\n",
       "      <td>0.0</td>\n",
       "      <td>0.013593</td>\n",
       "      <td>0.000186</td>\n",
       "      <td>0.000521</td>\n",
       "      <td>0.016944</td>\n",
       "      <td>0.060256</td>\n",
       "      <td>0.039908</td>\n",
       "      <td>0.000000</td>\n",
       "      <td>0.000000</td>\n",
       "    </tr>\n",
       "    <tr>\n",
       "      <th>network_delay</th>\n",
       "      <td>0.008476</td>\n",
       "      <td>NaN</td>\n",
       "      <td>0.000417</td>\n",
       "      <td>0.000785</td>\n",
       "      <td>0.227870</td>\n",
       "      <td>0.0</td>\n",
       "      <td>0.0</td>\n",
       "      <td>0.0</td>\n",
       "      <td>0.000278</td>\n",
       "      <td>0.000016</td>\n",
       "      <td>0.000107</td>\n",
       "      <td>0.017097</td>\n",
       "      <td>0.078205</td>\n",
       "      <td>0.047706</td>\n",
       "      <td>0.000000</td>\n",
       "      <td>0.000000</td>\n",
       "    </tr>\n",
       "    <tr>\n",
       "      <th>disk</th>\n",
       "      <td>0.017771</td>\n",
       "      <td>0.000358</td>\n",
       "      <td>0.000000</td>\n",
       "      <td>0.000053</td>\n",
       "      <td>0.012038</td>\n",
       "      <td>0.0</td>\n",
       "      <td>0.0</td>\n",
       "      <td>0.0</td>\n",
       "      <td>0.030093</td>\n",
       "      <td>0.000032</td>\n",
       "      <td>0.000322</td>\n",
       "      <td>0.027694</td>\n",
       "      <td>0.061795</td>\n",
       "      <td>0.043153</td>\n",
       "      <td>0.070000</td>\n",
       "      <td>0.000000</td>\n",
       "    </tr>\n",
       "    <tr>\n",
       "      <th>packet_loss_70</th>\n",
       "      <td>NaN</td>\n",
       "      <td>NaN</td>\n",
       "      <td>NaN</td>\n",
       "      <td>0.028147</td>\n",
       "      <td>NaN</td>\n",
       "      <td>0.0</td>\n",
       "      <td>0.0</td>\n",
       "      <td>NaN</td>\n",
       "      <td>NaN</td>\n",
       "      <td>NaN</td>\n",
       "      <td>NaN</td>\n",
       "      <td>NaN</td>\n",
       "      <td>0.000000</td>\n",
       "      <td>NaN</td>\n",
       "      <td>NaN</td>\n",
       "      <td>NaN</td>\n",
       "    </tr>\n",
       "    <tr>\n",
       "      <th>packet_loss</th>\n",
       "      <td>0.009048</td>\n",
       "      <td>0.000520</td>\n",
       "      <td>0.358122</td>\n",
       "      <td>0.019015</td>\n",
       "      <td>0.131839</td>\n",
       "      <td>0.0</td>\n",
       "      <td>0.0</td>\n",
       "      <td>0.0</td>\n",
       "      <td>0.010621</td>\n",
       "      <td>0.000413</td>\n",
       "      <td>0.000475</td>\n",
       "      <td>0.023977</td>\n",
       "      <td>0.085897</td>\n",
       "      <td>0.048165</td>\n",
       "      <td>0.513333</td>\n",
       "      <td>0.231667</td>\n",
       "    </tr>\n",
       "    <tr>\n",
       "      <th>interrupt</th>\n",
       "      <td>NaN</td>\n",
       "      <td>0.000721</td>\n",
       "      <td>0.001250</td>\n",
       "      <td>0.000052</td>\n",
       "      <td>0.186607</td>\n",
       "      <td>0.0</td>\n",
       "      <td>0.0</td>\n",
       "      <td>0.0</td>\n",
       "      <td>0.006944</td>\n",
       "      <td>0.000064</td>\n",
       "      <td>0.000199</td>\n",
       "      <td>0.015985</td>\n",
       "      <td>0.055641</td>\n",
       "      <td>0.039908</td>\n",
       "      <td>0.000000</td>\n",
       "      <td>0.000000</td>\n",
       "    </tr>\n",
       "  </tbody>\n",
       "</table>\n",
       "</div>"
      ],
      "text/plain": [
       "                storybook  ionic-framework  material-ui   lenster    logseq  \\\n",
       "baseline         0.009429         0.002079     0.000000  0.000264  0.228221   \n",
       "bandwidth        0.009619              NaN     0.000417  0.000000  0.218522   \n",
       "packet_loss_20        NaN              NaN     0.005000  0.002709       NaN   \n",
       "cpu20            0.010000         0.000247     0.000000  0.000052  0.140308   \n",
       "memory                NaN         0.000375     0.000000  0.000105  0.205375   \n",
       "cpu50                 NaN              NaN     0.000000  0.000106  0.131902   \n",
       "network_delay    0.008476              NaN     0.000417  0.000785  0.227870   \n",
       "disk             0.017771         0.000358     0.000000  0.000053  0.012038   \n",
       "packet_loss_70        NaN              NaN          NaN  0.028147       NaN   \n",
       "packet_loss      0.009048         0.000520     0.358122  0.019015  0.131839   \n",
       "interrupt             NaN         0.000721     0.001250  0.000052  0.186607   \n",
       "\n",
       "                floating-ui  docs  gatsby  insomnia  playwright     remix  \\\n",
       "baseline                0.0   0.0     0.0  0.008220    0.000075  0.000429   \n",
       "bandwidth               0.0   0.0     0.0  0.006944    0.000082  0.000521   \n",
       "packet_loss_20          0.0   0.0     0.0       NaN         NaN       NaN   \n",
       "cpu20                   0.0   0.0     0.0  0.018519    0.000084       NaN   \n",
       "memory                  0.0   0.0     0.0  0.008239    0.000051  0.000123   \n",
       "cpu50                   0.0   0.0     0.0  0.013593    0.000186  0.000521   \n",
       "network_delay           0.0   0.0     0.0  0.000278    0.000016  0.000107   \n",
       "disk                    0.0   0.0     0.0  0.030093    0.000032  0.000322   \n",
       "packet_loss_70          0.0   0.0     NaN       NaN         NaN       NaN   \n",
       "packet_loss             0.0   0.0     0.0  0.010621    0.000413  0.000475   \n",
       "interrupt               0.0   0.0     0.0  0.006944    0.000064  0.000199   \n",
       "\n",
       "                rocket-chat  dev-roadmap       cal     quill     shiki  \n",
       "baseline           0.035184     0.065385  0.033028  0.013333  0.000000  \n",
       "bandwidth          0.203623     0.085897  0.034404  0.003333  0.000000  \n",
       "packet_loss_20          NaN     0.000000       NaN       NaN       NaN  \n",
       "cpu20              0.021943     0.046667  0.039450  0.080000  0.000000  \n",
       "memory             0.017903     0.078205  0.040826  0.010000  0.000000  \n",
       "cpu50              0.016944     0.060256  0.039908  0.000000  0.000000  \n",
       "network_delay      0.017097     0.078205  0.047706  0.000000  0.000000  \n",
       "disk               0.027694     0.061795  0.043153  0.070000  0.000000  \n",
       "packet_loss_70          NaN     0.000000       NaN       NaN       NaN  \n",
       "packet_loss        0.023977     0.085897  0.048165  0.513333  0.231667  \n",
       "interrupt          0.015985     0.055641  0.039908  0.000000  0.000000  "
      ]
     },
     "execution_count": 112,
     "metadata": {},
     "output_type": "execute_result"
    }
   ],
   "source": [
    "overview"
   ]
  },
  {
   "cell_type": "code",
   "execution_count": 113,
   "metadata": {
    "collapsed": false
   },
   "outputs": [
    {
     "data": {
      "text/plain": [
       "<Axes: >"
      ]
     },
     "execution_count": 113,
     "metadata": {},
     "output_type": "execute_result"
    },
    {
     "data": {
      "image/png": "[encoded data removed]",
      "text/plain": [
       "<Figure size 640x480 with 1 Axes>"
      ]
     },
     "metadata": {},
     "output_type": "display_data"
    }
   ],
   "source": [
    "overview.T.mean().plot(kind=\"bar\")"
   ]
  },
  {
   "cell_type": "code",
   "execution_count": 114,
   "metadata": {
    "collapsed": false
   },
   "outputs": [
    {
     "data": {
      "text/plain": [
       "<Axes: >"
      ]
     },
     "execution_count": 114,
     "metadata": {},
     "output_type": "execute_result"
    },
    {
     "data": {
      "image/png": "[encoded data removed]",
      "text/plain": [
       "<Figure size 640x480 with 1 Axes>"
      ]
     },
     "metadata": {},
     "output_type": "display_data"
    }
   ],
   "source": [
    "overview.mean().plot(kind=\"bar\")"
   ]
  },
  {
   "cell_type": "code",
   "execution_count": 142,
   "metadata": {
    "collapsed": false
   },
   "outputs": [],
   "source": [
    "## Function to compute the flakyness by noise type for each test\n",
    "\n",
    "def compute_flakyness_per_test_by_noise_type(project_name: str)->pd.DataFrame:\n",
    "    # get all results for the project\n",
    "    project_results = [res for res in results if res.project == project_name]\n",
    "\n",
    "\n",
    "    # get all test names\n",
    "    test_names = set()\n",
    "    for res in project_results:\n",
    "        test_names.update(res.test_df[\"test_name\"])\n",
    "\n",
    "    # create a dataframe with the test names as index and noise types as columns\n",
    "    flakiness_df = pd.DataFrame(index=list(test_names), columns=list(noise_types))\n",
    "\n",
    "    # fill the dataframe with the flakiness\n",
    "    for res in project_results:\n",
    "        for noise_type in noise_types:\n",
    "            if (res.project, noise_type) in results_dict:\n",
    "                flakiness_df.loc[:, noise_type] = compute_flakyness(results_dict[(res.project, noise_type)].test_df)\n",
    "            else:\n",
    "                flakiness_df.loc[:, noise_type] = float(\"nan\")\n",
    "\n",
    "    return flakiness_df\n",
    "\n",
    "def compute_flakyness_over_baseline(df: pd.DataFrame)->pd.DataFrame:\n",
    "    baseline = df[\"baseline\"]\n",
    "    df = df.drop(columns=[\"baseline\"])\n",
    "    return df.apply(lambda x: x - baseline, axis=0)"
   ]
  },
  {
   "cell_type": "markdown",
   "metadata": {
    "collapsed": false
   },
   "source": [
    "# Single Analysis of each Project\n",
    "\n",
    "## Logseq"
   ]
  },
  {
   "cell_type": "code",
   "execution_count": 157,
   "metadata": {
    "collapsed": false
   },
   "outputs": [],
   "source": [
    "proj = \"Logseq\""
   ]
  },
  {
   "cell_type": "code",
   "execution_count": 158,
   "metadata": {
    "collapsed": false
   },
   "outputs": [
    {
     "data": {
      "text/plain": [
       "<Axes: title={'center': 'Flakiness by Noise Type Logseq'}>"
      ]
     },
     "execution_count": 158,
     "metadata": {},
     "output_type": "execute_result"
    },
    {
     "data": {
      "image/png": "[encoded data removed]",
      "text/plain": [
       "<Figure size 640x480 with 1 Axes>"
      ]
     },
     "metadata": {},
     "output_type": "display_data"
    }
   ],
   "source": [
    "overview[\"logseq\"].T.plot(kind=\"bar\", title=\"Flakiness by Noise Type Logseq\")"
   ]
  },
  {
   "cell_type": "code",
   "execution_count": 159,
   "metadata": {
    "collapsed": false
   },
   "outputs": [
    {
     "data": {
      "text/html": [
       "<div>\n",
       "<style scoped>\n",
       "    .dataframe tbody tr th:only-of-type {\n",
       "        vertical-align: middle;\n",
       "    }\n",
       "\n",
       "    .dataframe tbody tr th {\n",
       "        vertical-align: top;\n",
       "    }\n",
       "\n",
       "    .dataframe thead th {\n",
       "        text-align: right;\n",
       "    }\n",
       "</style>\n",
       "<table border=\"1\" class=\"dataframe\">\n",
       "  <thead>\n",
       "    <tr style=\"text-align: right;\">\n",
       "      <th></th>\n",
       "      <th>test_name</th>\n",
       "      <th>PASSED</th>\n",
       "      <th>FAILED</th>\n",
       "      <th>SKIPPED</th>\n",
       "      <th>TOTAL RUNS</th>\n",
       "      <th>flakyness</th>\n",
       "    </tr>\n",
       "  </thead>\n",
       "  <tbody>\n",
       "    <tr>\n",
       "      <th>0</th>\n",
       "      <td>/accessibility.spec.ts/should not have any aut...</td>\n",
       "      <td>20</td>\n",
       "      <td>0</td>\n",
       "      <td>0</td>\n",
       "      <td>20</td>\n",
       "      <td>0.00</td>\n",
       "    </tr>\n",
       "    <tr>\n",
       "      <th>1</th>\n",
       "      <td>/basic.spec.ts/create page and blocks, save to...</td>\n",
       "      <td>20</td>\n",
       "      <td>0</td>\n",
       "      <td>0</td>\n",
       "      <td>20</td>\n",
       "      <td>0.00</td>\n",
       "    </tr>\n",
       "    <tr>\n",
       "      <th>2</th>\n",
       "      <td>/basic.spec.ts/delete and backspace</td>\n",
       "      <td>19</td>\n",
       "      <td>1</td>\n",
       "      <td>0</td>\n",
       "      <td>20</td>\n",
       "      <td>0.05</td>\n",
       "    </tr>\n",
       "    <tr>\n",
       "      <th>3</th>\n",
       "      <td>/basic.spec.ts/selection</td>\n",
       "      <td>20</td>\n",
       "      <td>0</td>\n",
       "      <td>0</td>\n",
       "      <td>20</td>\n",
       "      <td>0.00</td>\n",
       "    </tr>\n",
       "    <tr>\n",
       "      <th>4</th>\n",
       "      <td>/basic.spec.ts/template</td>\n",
       "      <td>20</td>\n",
       "      <td>0</td>\n",
       "      <td>0</td>\n",
       "      <td>20</td>\n",
       "      <td>0.00</td>\n",
       "    </tr>\n",
       "    <tr>\n",
       "      <th>...</th>\n",
       "      <td>...</td>\n",
       "      <td>...</td>\n",
       "      <td>...</td>\n",
       "      <td>...</td>\n",
       "      <td>...</td>\n",
       "      <td>...</td>\n",
       "    </tr>\n",
       "    <tr>\n",
       "      <th>158</th>\n",
       "      <td>/window.spec.ts/window should not be maximized...</td>\n",
       "      <td>20</td>\n",
       "      <td>0</td>\n",
       "      <td>0</td>\n",
       "      <td>20</td>\n",
       "      <td>0.00</td>\n",
       "    </tr>\n",
       "    <tr>\n",
       "      <th>159</th>\n",
       "      <td>/window.spec.ts/window should be maximized and...</td>\n",
       "      <td>20</td>\n",
       "      <td>0</td>\n",
       "      <td>0</td>\n",
       "      <td>20</td>\n",
       "      <td>0.00</td>\n",
       "    </tr>\n",
       "    <tr>\n",
       "      <th>160</th>\n",
       "      <td>/window.spec.ts/window should be restored and ...</td>\n",
       "      <td>20</td>\n",
       "      <td>0</td>\n",
       "      <td>0</td>\n",
       "      <td>20</td>\n",
       "      <td>0.00</td>\n",
       "    </tr>\n",
       "    <tr>\n",
       "      <th>161</th>\n",
       "      <td>/window.spec.ts/window controls should be hidd...</td>\n",
       "      <td>20</td>\n",
       "      <td>0</td>\n",
       "      <td>0</td>\n",
       "      <td>20</td>\n",
       "      <td>0.00</td>\n",
       "    </tr>\n",
       "    <tr>\n",
       "      <th>162</th>\n",
       "      <td>/window.spec.ts/window controls should be visi...</td>\n",
       "      <td>20</td>\n",
       "      <td>0</td>\n",
       "      <td>0</td>\n",
       "      <td>20</td>\n",
       "      <td>0.00</td>\n",
       "    </tr>\n",
       "  </tbody>\n",
       "</table>\n",
       "<p>163 rows × 6 columns</p>\n",
       "</div>"
      ],
      "text/plain": [
       "                                             test_name  PASSED  FAILED  \\\n",
       "0    /accessibility.spec.ts/should not have any aut...      20       0   \n",
       "1    /basic.spec.ts/create page and blocks, save to...      20       0   \n",
       "2                  /basic.spec.ts/delete and backspace      19       1   \n",
       "3                             /basic.spec.ts/selection      20       0   \n",
       "4                              /basic.spec.ts/template      20       0   \n",
       "..                                                 ...     ...     ...   \n",
       "158  /window.spec.ts/window should not be maximized...      20       0   \n",
       "159  /window.spec.ts/window should be maximized and...      20       0   \n",
       "160  /window.spec.ts/window should be restored and ...      20       0   \n",
       "161  /window.spec.ts/window controls should be hidd...      20       0   \n",
       "162  /window.spec.ts/window controls should be visi...      20       0   \n",
       "\n",
       "     SKIPPED  TOTAL RUNS  flakyness  \n",
       "0          0          20       0.00  \n",
       "1          0          20       0.00  \n",
       "2          0          20       0.05  \n",
       "3          0          20       0.00  \n",
       "4          0          20       0.00  \n",
       "..       ...         ...        ...  \n",
       "158        0          20       0.00  \n",
       "159        0          20       0.00  \n",
       "160        0          20       0.00  \n",
       "161        0          20       0.00  \n",
       "162        0          20       0.00  \n",
       "\n",
       "[163 rows x 6 columns]"
      ]
     },
     "execution_count": 159,
     "metadata": {},
     "output_type": "execute_result"
    }
   ],
   "source": [
    "results_dict[(\"logseq\", \"baseline\")].test_df"
   ]
  },
  {
   "cell_type": "markdown",
   "metadata": {
    "collapsed": false
   },
   "source": [
    "\"whiteboard.spec.ts/Create an empedded page\" Code:\n",
    "```typescript\n",
    "test('Create an embedded page', async ({ page }) => {\n",
    "  const canvas = await page.waitForSelector('.logseq-tldraw')\n",
    "  await canvas.dblclick({\n",
    "    position: {\n",
    "      x: 150,\n",
    "      y: 150,\n",
    "    },\n",
    "  })\n",
    "\n",
    "  const quickAdd$ = page.locator('.tl-quick-search')\n",
    "  await expect(quickAdd$).toBeVisible()\n",
    "\n",
    "  await page.fill('.tl-quick-search input', 'My page')\n",
    "  await quickAdd$\n",
    "    .locator('div[data-index=\"1\"] .tl-quick-search-option')\n",
    "    .first()\n",
    "    .click()\n",
    "\n",
    "  await expect(quickAdd$).toBeHidden()\n",
    "  await expect(page.locator('.tl-logseq-portal-header a')).toContainText('My page')\n",
    "})\n",
    "```\n",
    "\n",
    "Flaknyess from the dblclick function? - unlikely this function is flaky as well:\n",
    "```typescript\n",
    "test('undo the group deletion', async ({ page }) => {\n",
    "  await page.keyboard.press(modKey + '+z')\n",
    "\n",
    "  await expect(page.locator('.logseq-tldraw .tl-group-container')).toHaveCount(1)\n",
    "  await expect(page.locator('.logseq-tldraw .tl-box-container')).toHaveCount(2)\n",
    "})\n",
    "```"
   ]
  },
  {
   "cell_type": "code",
   "execution_count": 160,
   "metadata": {
    "collapsed": false
   },
   "outputs": [
    {
     "data": {
      "text/html": [
       "<div>\n",
       "<style scoped>\n",
       "    .dataframe tbody tr th:only-of-type {\n",
       "        vertical-align: middle;\n",
       "    }\n",
       "\n",
       "    .dataframe tbody tr th {\n",
       "        vertical-align: top;\n",
       "    }\n",
       "\n",
       "    .dataframe thead th {\n",
       "        text-align: right;\n",
       "    }\n",
       "</style>\n",
       "<table border=\"1\" class=\"dataframe\">\n",
       "  <thead>\n",
       "    <tr style=\"text-align: right;\">\n",
       "      <th></th>\n",
       "      <th>test_name</th>\n",
       "      <th>PASSED</th>\n",
       "      <th>FAILED</th>\n",
       "      <th>SKIPPED</th>\n",
       "      <th>TOTAL RUNS</th>\n",
       "      <th>flakyness</th>\n",
       "    </tr>\n",
       "  </thead>\n",
       "  <tbody>\n",
       "    <tr>\n",
       "      <th>0</th>\n",
       "      <td>/accessibility.spec.ts/should not have any aut...</td>\n",
       "      <td>20</td>\n",
       "      <td>0</td>\n",
       "      <td>0</td>\n",
       "      <td>20</td>\n",
       "      <td>0.00</td>\n",
       "    </tr>\n",
       "    <tr>\n",
       "      <th>90</th>\n",
       "      <td>/page-rename.spec.ts/page rename test</td>\n",
       "      <td>20</td>\n",
       "      <td>0</td>\n",
       "      <td>0</td>\n",
       "      <td>20</td>\n",
       "      <td>0.00</td>\n",
       "    </tr>\n",
       "    <tr>\n",
       "      <th>89</th>\n",
       "      <td>/logseq-url.spec.ts/Logseq URLs (same graph)</td>\n",
       "      <td>20</td>\n",
       "      <td>0</td>\n",
       "      <td>0</td>\n",
       "      <td>20</td>\n",
       "      <td>0.00</td>\n",
       "    </tr>\n",
       "    <tr>\n",
       "      <th>88</th>\n",
       "      <td>/logseq-api.spec.ts/block related apis</td>\n",
       "      <td>20</td>\n",
       "      <td>0</td>\n",
       "      <td>0</td>\n",
       "      <td>20</td>\n",
       "      <td>0.00</td>\n",
       "    </tr>\n",
       "    <tr>\n",
       "      <th>87</th>\n",
       "      <td>/hotkey.spec.ts/insert link #3278</td>\n",
       "      <td>20</td>\n",
       "      <td>0</td>\n",
       "      <td>0</td>\n",
       "      <td>20</td>\n",
       "      <td>0.00</td>\n",
       "    </tr>\n",
       "    <tr>\n",
       "      <th>...</th>\n",
       "      <td>...</td>\n",
       "      <td>...</td>\n",
       "      <td>...</td>\n",
       "      <td>...</td>\n",
       "      <td>...</td>\n",
       "      <td>...</td>\n",
       "    </tr>\n",
       "    <tr>\n",
       "      <th>133</th>\n",
       "      <td>/whiteboards.spec.ts/undo the color switch</td>\n",
       "      <td>1</td>\n",
       "      <td>19</td>\n",
       "      <td>0</td>\n",
       "      <td>20</td>\n",
       "      <td>0.95</td>\n",
       "    </tr>\n",
       "    <tr>\n",
       "      <th>134</th>\n",
       "      <td>/whiteboards.spec.ts/undo the shape conversion</td>\n",
       "      <td>1</td>\n",
       "      <td>19</td>\n",
       "      <td>0</td>\n",
       "      <td>20</td>\n",
       "      <td>0.95</td>\n",
       "    </tr>\n",
       "    <tr>\n",
       "      <th>136</th>\n",
       "      <td>/whiteboards.spec.ts/move arrow to back</td>\n",
       "      <td>1</td>\n",
       "      <td>19</td>\n",
       "      <td>0</td>\n",
       "      <td>20</td>\n",
       "      <td>0.95</td>\n",
       "    </tr>\n",
       "    <tr>\n",
       "      <th>138</th>\n",
       "      <td>/whiteboards.spec.ts/undo the move action</td>\n",
       "      <td>1</td>\n",
       "      <td>19</td>\n",
       "      <td>0</td>\n",
       "      <td>20</td>\n",
       "      <td>0.95</td>\n",
       "    </tr>\n",
       "    <tr>\n",
       "      <th>127</th>\n",
       "      <td>/whiteboards.spec.ts/undo the group action</td>\n",
       "      <td>1</td>\n",
       "      <td>19</td>\n",
       "      <td>0</td>\n",
       "      <td>20</td>\n",
       "      <td>0.95</td>\n",
       "    </tr>\n",
       "  </tbody>\n",
       "</table>\n",
       "<p>163 rows × 6 columns</p>\n",
       "</div>"
      ],
      "text/plain": [
       "                                             test_name  PASSED  FAILED  \\\n",
       "0    /accessibility.spec.ts/should not have any aut...      20       0   \n",
       "90               /page-rename.spec.ts/page rename test      20       0   \n",
       "89        /logseq-url.spec.ts/Logseq URLs (same graph)      20       0   \n",
       "88              /logseq-api.spec.ts/block related apis      20       0   \n",
       "87                   /hotkey.spec.ts/insert link #3278      20       0   \n",
       "..                                                 ...     ...     ...   \n",
       "133         /whiteboards.spec.ts/undo the color switch       1      19   \n",
       "134     /whiteboards.spec.ts/undo the shape conversion       1      19   \n",
       "136            /whiteboards.spec.ts/move arrow to back       1      19   \n",
       "138          /whiteboards.spec.ts/undo the move action       1      19   \n",
       "127         /whiteboards.spec.ts/undo the group action       1      19   \n",
       "\n",
       "     SKIPPED  TOTAL RUNS  flakyness  \n",
       "0          0          20       0.00  \n",
       "90         0          20       0.00  \n",
       "89         0          20       0.00  \n",
       "88         0          20       0.00  \n",
       "87         0          20       0.00  \n",
       "..       ...         ...        ...  \n",
       "133        0          20       0.95  \n",
       "134        0          20       0.95  \n",
       "136        0          20       0.95  \n",
       "138        0          20       0.95  \n",
       "127        0          20       0.95  \n",
       "\n",
       "[163 rows x 6 columns]"
      ]
     },
     "execution_count": 160,
     "metadata": {},
     "output_type": "execute_result"
    }
   ],
   "source": [
    "results_dict[(\"logseq\", \"baseline\")].test_df.sort_values(\"FAILED\")"
   ]
  },
  {
   "cell_type": "code",
   "execution_count": 161,
   "metadata": {
    "collapsed": false
   },
   "outputs": [
    {
     "data": {
      "text/html": [
       "<div>\n",
       "<style scoped>\n",
       "    .dataframe tbody tr th:only-of-type {\n",
       "        vertical-align: middle;\n",
       "    }\n",
       "\n",
       "    .dataframe tbody tr th {\n",
       "        vertical-align: top;\n",
       "    }\n",
       "\n",
       "    .dataframe thead th {\n",
       "        text-align: right;\n",
       "    }\n",
       "</style>\n",
       "<table border=\"1\" class=\"dataframe\">\n",
       "  <thead>\n",
       "    <tr style=\"text-align: right;\">\n",
       "      <th></th>\n",
       "      <th>baseline</th>\n",
       "      <th>bandwidth</th>\n",
       "      <th>packet_loss_20</th>\n",
       "      <th>cpu20</th>\n",
       "      <th>memory</th>\n",
       "      <th>cpu50</th>\n",
       "      <th>network_delay</th>\n",
       "      <th>disk</th>\n",
       "      <th>packet_loss_70</th>\n",
       "      <th>packet_loss</th>\n",
       "      <th>interrupt</th>\n",
       "    </tr>\n",
       "  </thead>\n",
       "  <tbody>\n",
       "    <tr>\n",
       "      <th>/shui/table.spec.js/table can configure logseq.table.borders</th>\n",
       "      <td>0.228221</td>\n",
       "      <td>0.218522</td>\n",
       "      <td>NaN</td>\n",
       "      <td>0.140308</td>\n",
       "      <td>0.205375</td>\n",
       "      <td>0.131902</td>\n",
       "      <td>0.22787</td>\n",
       "      <td>0.012038</td>\n",
       "      <td>NaN</td>\n",
       "      <td>0.131839</td>\n",
       "      <td>0.186607</td>\n",
       "    </tr>\n",
       "    <tr>\n",
       "      <th>/whiteboards.spec.ts/redo the rectangle action</th>\n",
       "      <td>0.228221</td>\n",
       "      <td>0.218522</td>\n",
       "      <td>NaN</td>\n",
       "      <td>0.140308</td>\n",
       "      <td>0.205375</td>\n",
       "      <td>0.131902</td>\n",
       "      <td>0.22787</td>\n",
       "      <td>0.012038</td>\n",
       "      <td>NaN</td>\n",
       "      <td>0.131839</td>\n",
       "      <td>0.186607</td>\n",
       "    </tr>\n",
       "    <tr>\n",
       "      <th>/editor.spec.ts/moving cursor inside of brackets when autocomplete menu is closed should NOT open autocomplete menu</th>\n",
       "      <td>0.228221</td>\n",
       "      <td>0.218522</td>\n",
       "      <td>NaN</td>\n",
       "      <td>0.140308</td>\n",
       "      <td>0.205375</td>\n",
       "      <td>0.131902</td>\n",
       "      <td>0.22787</td>\n",
       "      <td>0.012038</td>\n",
       "      <td>NaN</td>\n",
       "      <td>0.131839</td>\n",
       "      <td>0.186607</td>\n",
       "    </tr>\n",
       "    <tr>\n",
       "      <th>/window.spec.ts/window controls should be hidden on fullscreen mode</th>\n",
       "      <td>0.228221</td>\n",
       "      <td>0.218522</td>\n",
       "      <td>NaN</td>\n",
       "      <td>0.140308</td>\n",
       "      <td>0.205375</td>\n",
       "      <td>0.131902</td>\n",
       "      <td>0.22787</td>\n",
       "      <td>0.012038</td>\n",
       "      <td>NaN</td>\n",
       "      <td>0.131839</td>\n",
       "      <td>0.186607</td>\n",
       "    </tr>\n",
       "    <tr>\n",
       "      <th>/context-menu.spec.ts/close context menu on esc</th>\n",
       "      <td>0.228221</td>\n",
       "      <td>0.218522</td>\n",
       "      <td>NaN</td>\n",
       "      <td>0.140308</td>\n",
       "      <td>0.205375</td>\n",
       "      <td>0.131902</td>\n",
       "      <td>0.22787</td>\n",
       "      <td>0.012038</td>\n",
       "      <td>NaN</td>\n",
       "      <td>0.131839</td>\n",
       "      <td>0.186607</td>\n",
       "    </tr>\n",
       "    <tr>\n",
       "      <th>...</th>\n",
       "      <td>...</td>\n",
       "      <td>...</td>\n",
       "      <td>...</td>\n",
       "      <td>...</td>\n",
       "      <td>...</td>\n",
       "      <td>...</td>\n",
       "      <td>...</td>\n",
       "      <td>...</td>\n",
       "      <td>...</td>\n",
       "      <td>...</td>\n",
       "      <td>...</td>\n",
       "    </tr>\n",
       "    <tr>\n",
       "      <th>/whiteboards.spec.ts/copy/paste url to create an iFrame shape</th>\n",
       "      <td>0.228221</td>\n",
       "      <td>0.218522</td>\n",
       "      <td>NaN</td>\n",
       "      <td>0.140308</td>\n",
       "      <td>0.205375</td>\n",
       "      <td>0.131902</td>\n",
       "      <td>0.22787</td>\n",
       "      <td>0.012038</td>\n",
       "      <td>NaN</td>\n",
       "      <td>0.131839</td>\n",
       "      <td>0.186607</td>\n",
       "    </tr>\n",
       "    <tr>\n",
       "      <th>/window.spec.ts/window should not be maximized on first launch</th>\n",
       "      <td>0.228221</td>\n",
       "      <td>0.218522</td>\n",
       "      <td>NaN</td>\n",
       "      <td>0.140308</td>\n",
       "      <td>0.205375</td>\n",
       "      <td>0.131902</td>\n",
       "      <td>0.22787</td>\n",
       "      <td>0.012038</td>\n",
       "      <td>NaN</td>\n",
       "      <td>0.131839</td>\n",
       "      <td>0.186607</td>\n",
       "    </tr>\n",
       "    <tr>\n",
       "      <th>/whiteboards.spec.ts/undo the rectangle action</th>\n",
       "      <td>0.228221</td>\n",
       "      <td>0.218522</td>\n",
       "      <td>NaN</td>\n",
       "      <td>0.140308</td>\n",
       "      <td>0.205375</td>\n",
       "      <td>0.131902</td>\n",
       "      <td>0.22787</td>\n",
       "      <td>0.012038</td>\n",
       "      <td>NaN</td>\n",
       "      <td>0.131839</td>\n",
       "      <td>0.186607</td>\n",
       "    </tr>\n",
       "    <tr>\n",
       "      <th>/paste.spec.ts/property text deleted on Ctrl+C when its value mixes [[link]] and other text #9100</th>\n",
       "      <td>0.228221</td>\n",
       "      <td>0.218522</td>\n",
       "      <td>NaN</td>\n",
       "      <td>0.140308</td>\n",
       "      <td>0.205375</td>\n",
       "      <td>0.131902</td>\n",
       "      <td>0.22787</td>\n",
       "      <td>0.012038</td>\n",
       "      <td>NaN</td>\n",
       "      <td>0.131839</td>\n",
       "      <td>0.186607</td>\n",
       "    </tr>\n",
       "    <tr>\n",
       "      <th>/editor.spec.ts/hashtag search page auto-complete</th>\n",
       "      <td>0.228221</td>\n",
       "      <td>0.218522</td>\n",
       "      <td>NaN</td>\n",
       "      <td>0.140308</td>\n",
       "      <td>0.205375</td>\n",
       "      <td>0.131902</td>\n",
       "      <td>0.22787</td>\n",
       "      <td>0.012038</td>\n",
       "      <td>NaN</td>\n",
       "      <td>0.131839</td>\n",
       "      <td>0.186607</td>\n",
       "    </tr>\n",
       "  </tbody>\n",
       "</table>\n",
       "<p>163 rows × 11 columns</p>\n",
       "</div>"
      ],
      "text/plain": [
       "                                                    baseline bandwidth  \\\n",
       "/shui/table.spec.js/table can configure logseq....  0.228221  0.218522   \n",
       "/whiteboards.spec.ts/redo the rectangle action      0.228221  0.218522   \n",
       "/editor.spec.ts/moving cursor inside of bracket...  0.228221  0.218522   \n",
       "/window.spec.ts/window controls should be hidde...  0.228221  0.218522   \n",
       "/context-menu.spec.ts/close context menu on esc     0.228221  0.218522   \n",
       "...                                                      ...       ...   \n",
       "/whiteboards.spec.ts/copy/paste url to create a...  0.228221  0.218522   \n",
       "/window.spec.ts/window should not be maximized ...  0.228221  0.218522   \n",
       "/whiteboards.spec.ts/undo the rectangle action      0.228221  0.218522   \n",
       "/paste.spec.ts/property text deleted on Ctrl+C ...  0.228221  0.218522   \n",
       "/editor.spec.ts/hashtag search page auto-complete   0.228221  0.218522   \n",
       "\n",
       "                                                   packet_loss_20     cpu20  \\\n",
       "/shui/table.spec.js/table can configure logseq....            NaN  0.140308   \n",
       "/whiteboards.spec.ts/redo the rectangle action                NaN  0.140308   \n",
       "/editor.spec.ts/moving cursor inside of bracket...            NaN  0.140308   \n",
       "/window.spec.ts/window controls should be hidde...            NaN  0.140308   \n",
       "/context-menu.spec.ts/close context menu on esc               NaN  0.140308   \n",
       "...                                                           ...       ...   \n",
       "/whiteboards.spec.ts/copy/paste url to create a...            NaN  0.140308   \n",
       "/window.spec.ts/window should not be maximized ...            NaN  0.140308   \n",
       "/whiteboards.spec.ts/undo the rectangle action                NaN  0.140308   \n",
       "/paste.spec.ts/property text deleted on Ctrl+C ...            NaN  0.140308   \n",
       "/editor.spec.ts/hashtag search page auto-complete             NaN  0.140308   \n",
       "\n",
       "                                                      memory     cpu50  \\\n",
       "/shui/table.spec.js/table can configure logseq....  0.205375  0.131902   \n",
       "/whiteboards.spec.ts/redo the rectangle action      0.205375  0.131902   \n",
       "/editor.spec.ts/moving cursor inside of bracket...  0.205375  0.131902   \n",
       "/window.spec.ts/window controls should be hidde...  0.205375  0.131902   \n",
       "/context-menu.spec.ts/close context menu on esc     0.205375  0.131902   \n",
       "...                                                      ...       ...   \n",
       "/whiteboards.spec.ts/copy/paste url to create a...  0.205375  0.131902   \n",
       "/window.spec.ts/window should not be maximized ...  0.205375  0.131902   \n",
       "/whiteboards.spec.ts/undo the rectangle action      0.205375  0.131902   \n",
       "/paste.spec.ts/property text deleted on Ctrl+C ...  0.205375  0.131902   \n",
       "/editor.spec.ts/hashtag search page auto-complete   0.205375  0.131902   \n",
       "\n",
       "                                                   network_delay      disk  \\\n",
       "/shui/table.spec.js/table can configure logseq....       0.22787  0.012038   \n",
       "/whiteboards.spec.ts/redo the rectangle action           0.22787  0.012038   \n",
       "/editor.spec.ts/moving cursor inside of bracket...       0.22787  0.012038   \n",
       "/window.spec.ts/window controls should be hidde...       0.22787  0.012038   \n",
       "/context-menu.spec.ts/close context menu on esc          0.22787  0.012038   \n",
       "...                                                          ...       ...   \n",
       "/whiteboards.spec.ts/copy/paste url to create a...       0.22787  0.012038   \n",
       "/window.spec.ts/window should not be maximized ...       0.22787  0.012038   \n",
       "/whiteboards.spec.ts/undo the rectangle action           0.22787  0.012038   \n",
       "/paste.spec.ts/property text deleted on Ctrl+C ...       0.22787  0.012038   \n",
       "/editor.spec.ts/hashtag search page auto-complete        0.22787  0.012038   \n",
       "\n",
       "                                                   packet_loss_70 packet_loss  \\\n",
       "/shui/table.spec.js/table can configure logseq....            NaN    0.131839   \n",
       "/whiteboards.spec.ts/redo the rectangle action                NaN    0.131839   \n",
       "/editor.spec.ts/moving cursor inside of bracket...            NaN    0.131839   \n",
       "/window.spec.ts/window controls should be hidde...            NaN    0.131839   \n",
       "/context-menu.spec.ts/close context menu on esc               NaN    0.131839   \n",
       "...                                                           ...         ...   \n",
       "/whiteboards.spec.ts/copy/paste url to create a...            NaN    0.131839   \n",
       "/window.spec.ts/window should not be maximized ...            NaN    0.131839   \n",
       "/whiteboards.spec.ts/undo the rectangle action                NaN    0.131839   \n",
       "/paste.spec.ts/property text deleted on Ctrl+C ...            NaN    0.131839   \n",
       "/editor.spec.ts/hashtag search page auto-complete             NaN    0.131839   \n",
       "\n",
       "                                                   interrupt  \n",
       "/shui/table.spec.js/table can configure logseq....  0.186607  \n",
       "/whiteboards.spec.ts/redo the rectangle action      0.186607  \n",
       "/editor.spec.ts/moving cursor inside of bracket...  0.186607  \n",
       "/window.spec.ts/window controls should be hidde...  0.186607  \n",
       "/context-menu.spec.ts/close context menu on esc     0.186607  \n",
       "...                                                      ...  \n",
       "/whiteboards.spec.ts/copy/paste url to create a...  0.186607  \n",
       "/window.spec.ts/window should not be maximized ...  0.186607  \n",
       "/whiteboards.spec.ts/undo the rectangle action      0.186607  \n",
       "/paste.spec.ts/property text deleted on Ctrl+C ...  0.186607  \n",
       "/editor.spec.ts/hashtag search page auto-complete   0.186607  \n",
       "\n",
       "[163 rows x 11 columns]"
      ]
     },
     "execution_count": 161,
     "metadata": {},
     "output_type": "execute_result"
    }
   ],
   "source": [
    "tbn = compute_flakyness_per_test_by_noise_type(\"logseq\")\n",
    "tbn"
   ]
  },
  {
   "cell_type": "code",
   "execution_count": 162,
   "metadata": {
    "collapsed": false
   },
   "outputs": [
    {
     "name": "stdout",
     "output_type": "stream",
     "text": [
      "Most flaky test:  /shui/table.spec.js/table can configure logseq.table.borders\n"
     ]
    },
    {
     "data": {
      "text/plain": [
       "<Axes: title={'center': 'Flakiness of most flaky test of Logseq'}>"
      ]
     },
     "execution_count": 162,
     "metadata": {},
     "output_type": "execute_result"
    },
    {
     "data": {
      "image/png": "[encoded data removed]",
      "text/plain": [
       "<Figure size 640x480 with 1 Axes>"
      ]
     },
     "metadata": {},
     "output_type": "display_data"
    }
   ],
   "source": [
    "# get most flaky test\n",
    "tbn[\"flakyness\"] = tbn.mean(axis=1)\n",
    "mostflaky = tbn.sort_values(\"flakyness\", ascending=False).head(1).index[0]\n",
    "print(\"Most flaky test: \", mostflaky)\n",
    "tbn.loc[mostflaky].plot(kind=\"bar\", title=f\"Flakiness of most flaky test of {proj}\")"
   ]
  },
  {
   "cell_type": "code",
   "execution_count": 163,
   "metadata": {
    "collapsed": false
   },
   "outputs": [],
   "source": [
    "# overflakyness\n",
    "test = tbn\n",
    "fob = compute_flakyness_over_baseline(test)"
   ]
  },
  {
   "cell_type": "code",
   "execution_count": 164,
   "metadata": {
    "collapsed": false
   },
   "outputs": [
    {
     "data": {
      "text/plain": [
       "<Axes: title={'center': 'Flakiness over Baseline of Logseq'}>"
      ]
     },
     "execution_count": 164,
     "metadata": {},
     "output_type": "execute_result"
    },
    {
     "data": {
      "image/png": "[encoded data removed]",
      "text/plain": [
       "<Figure size 640x480 with 1 Axes>"
      ]
     },
     "metadata": {},
     "output_type": "display_data"
    }
   ],
   "source": [
    "# get most flaky test\n",
    "fob[\"flakyness\"] = fob.mean(axis=1)\n",
    "mostflaky = fob.sort_values(\"flakyness\", ascending=False).head(1).index[0]\n",
    "#print(\"Most flaky test: \", mostflaky)\n",
    "fob.loc[mostflaky].plot(kind=\"bar\",  title=f\"Flakiness over Baseline of {proj}\")"
   ]
  },
  {
   "cell_type": "markdown",
   "metadata": {
    "collapsed": false
   },
   "source": [
    "## Gatsby\n",
    "\n",
    "No flaking tests why?"
   ]
  },
  {
   "cell_type": "code",
   "execution_count": 153,
   "metadata": {
    "collapsed": false
   },
   "outputs": [
    {
     "data": {
      "text/plain": [
       "<Axes: >"
      ]
     },
     "execution_count": 153,
     "metadata": {},
     "output_type": "execute_result"
    },
    {
     "data": {
      "image/png": "[encoded data removed]",
      "text/plain": [
       "<Figure size 640x480 with 1 Axes>"
      ]
     },
     "metadata": {},
     "output_type": "display_data"
    }
   ],
   "source": [
    "overview[\"gatsby\"].T.plot(kind=\"bar\")"
   ]
  },
  {
   "cell_type": "code",
   "execution_count": 119,
   "metadata": {
    "collapsed": false
   },
   "outputs": [
    {
     "data": {
      "text/html": [
       "<div>\n",
       "<style scoped>\n",
       "    .dataframe tbody tr th:only-of-type {\n",
       "        vertical-align: middle;\n",
       "    }\n",
       "\n",
       "    .dataframe tbody tr th {\n",
       "        vertical-align: top;\n",
       "    }\n",
       "\n",
       "    .dataframe thead th {\n",
       "        text-align: right;\n",
       "    }\n",
       "</style>\n",
       "<table border=\"1\" class=\"dataframe\">\n",
       "  <thead>\n",
       "    <tr style=\"text-align: right;\">\n",
       "      <th></th>\n",
       "      <th>test_name</th>\n",
       "      <th>PASSED</th>\n",
       "      <th>FAILED</th>\n",
       "      <th>SKIPPED</th>\n",
       "      <th>TOTAL RUNS</th>\n",
       "      <th>flakyness</th>\n",
       "    </tr>\n",
       "  </thead>\n",
       "  <tbody>\n",
       "    <tr>\n",
       "      <th>0</th>\n",
       "      <td>chromium/gatsby-script-off-main-thread.spec.ts...</td>\n",
       "      <td>100</td>\n",
       "      <td>0</td>\n",
       "      <td>0</td>\n",
       "      <td>100</td>\n",
       "      <td>0.0</td>\n",
       "    </tr>\n",
       "    <tr>\n",
       "      <th>1</th>\n",
       "      <td>chromium/gatsby-script-off-main-thread.spec.ts...</td>\n",
       "      <td>0</td>\n",
       "      <td>0</td>\n",
       "      <td>100</td>\n",
       "      <td>0</td>\n",
       "      <td>0.0</td>\n",
       "    </tr>\n",
       "    <tr>\n",
       "      <th>2</th>\n",
       "      <td>chromium/gatsby-script-off-main-thread.spec.ts...</td>\n",
       "      <td>0</td>\n",
       "      <td>0</td>\n",
       "      <td>100</td>\n",
       "      <td>0</td>\n",
       "      <td>0.0</td>\n",
       "    </tr>\n",
       "  </tbody>\n",
       "</table>\n",
       "</div>"
      ],
      "text/plain": [
       "                                           test_name  PASSED  FAILED  SKIPPED  \\\n",
       "0  chromium/gatsby-script-off-main-thread.spec.ts...     100       0        0   \n",
       "1  chromium/gatsby-script-off-main-thread.spec.ts...       0       0      100   \n",
       "2  chromium/gatsby-script-off-main-thread.spec.ts...       0       0      100   \n",
       "\n",
       "   TOTAL RUNS  flakyness  \n",
       "0         100        0.0  \n",
       "1           0        0.0  \n",
       "2           0        0.0  "
      ]
     },
     "execution_count": 119,
     "metadata": {},
     "output_type": "execute_result"
    }
   ],
   "source": [
    "results_dict[(\"gatsby\", \"baseline\")].test_df"
   ]
  },
  {
   "cell_type": "code",
   "execution_count": 120,
   "metadata": {
    "collapsed": false
   },
   "outputs": [
    {
     "data": {
      "text/html": [
       "<div>\n",
       "<style scoped>\n",
       "    .dataframe tbody tr th:only-of-type {\n",
       "        vertical-align: middle;\n",
       "    }\n",
       "\n",
       "    .dataframe tbody tr th {\n",
       "        vertical-align: top;\n",
       "    }\n",
       "\n",
       "    .dataframe thead th {\n",
       "        text-align: right;\n",
       "    }\n",
       "</style>\n",
       "<table border=\"1\" class=\"dataframe\">\n",
       "  <thead>\n",
       "    <tr style=\"text-align: right;\">\n",
       "      <th></th>\n",
       "      <th>test_name</th>\n",
       "      <th>PASSED</th>\n",
       "      <th>FAILED</th>\n",
       "      <th>SKIPPED</th>\n",
       "      <th>TOTAL RUNS</th>\n",
       "      <th>flakyness</th>\n",
       "    </tr>\n",
       "  </thead>\n",
       "  <tbody>\n",
       "    <tr>\n",
       "      <th>0</th>\n",
       "      <td>chromium/gatsby-script-off-main-thread.spec.ts...</td>\n",
       "      <td>100</td>\n",
       "      <td>0</td>\n",
       "      <td>0</td>\n",
       "      <td>100</td>\n",
       "      <td>0.0</td>\n",
       "    </tr>\n",
       "    <tr>\n",
       "      <th>1</th>\n",
       "      <td>chromium/gatsby-script-off-main-thread.spec.ts...</td>\n",
       "      <td>0</td>\n",
       "      <td>0</td>\n",
       "      <td>100</td>\n",
       "      <td>0</td>\n",
       "      <td>0.0</td>\n",
       "    </tr>\n",
       "    <tr>\n",
       "      <th>2</th>\n",
       "      <td>chromium/gatsby-script-off-main-thread.spec.ts...</td>\n",
       "      <td>0</td>\n",
       "      <td>0</td>\n",
       "      <td>100</td>\n",
       "      <td>0</td>\n",
       "      <td>0.0</td>\n",
       "    </tr>\n",
       "  </tbody>\n",
       "</table>\n",
       "</div>"
      ],
      "text/plain": [
       "                                           test_name  PASSED  FAILED  SKIPPED  \\\n",
       "0  chromium/gatsby-script-off-main-thread.spec.ts...     100       0        0   \n",
       "1  chromium/gatsby-script-off-main-thread.spec.ts...       0       0      100   \n",
       "2  chromium/gatsby-script-off-main-thread.spec.ts...       0       0      100   \n",
       "\n",
       "   TOTAL RUNS  flakyness  \n",
       "0         100        0.0  \n",
       "1           0        0.0  \n",
       "2           0        0.0  "
      ]
     },
     "execution_count": 120,
     "metadata": {},
     "output_type": "execute_result"
    }
   ],
   "source": [
    "results_dict[(\"gatsby\", \"disk\")].test_df"
   ]
  },
  {
   "cell_type": "markdown",
   "metadata": {
    "collapsed": false
   },
   "source": [
    "=> Gatsby only executes that single test case => no flakyness"
   ]
  },
  {
   "cell_type": "markdown",
   "metadata": {
    "collapsed": false
   },
   "source": [
    "## Cal.com"
   ]
  },
  {
   "cell_type": "code",
   "execution_count": 148,
   "metadata": {
    "collapsed": false
   },
   "outputs": [],
   "source": [
    "proj = \"cal\""
   ]
  },
  {
   "cell_type": "code",
   "execution_count": 149,
   "metadata": {
    "collapsed": false
   },
   "outputs": [
    {
     "data": {
      "text/plain": [
       "<Axes: title={'center': 'Flakiness of cal'}>"
      ]
     },
     "execution_count": 149,
     "metadata": {},
     "output_type": "execute_result"
    },
    {
     "data": {
      "image/png": "[encoded data removed]",
      "text/plain": [
       "<Figure size 640x480 with 1 Axes>"
      ]
     },
     "metadata": {},
     "output_type": "display_data"
    }
   ],
   "source": [
    "overview[\"cal\"].T.plot(kind=\"bar\", title=f\"Flakiness of {proj}\")"
   ]
  },
  {
   "cell_type": "code",
   "execution_count": 123,
   "metadata": {
    "collapsed": false
   },
   "outputs": [
    {
     "data": {
      "text/html": [
       "<div>\n",
       "<style scoped>\n",
       "    .dataframe tbody tr th:only-of-type {\n",
       "        vertical-align: middle;\n",
       "    }\n",
       "\n",
       "    .dataframe tbody tr th {\n",
       "        vertical-align: top;\n",
       "    }\n",
       "\n",
       "    .dataframe thead th {\n",
       "        text-align: right;\n",
       "    }\n",
       "</style>\n",
       "<table border=\"1\" class=\"dataframe\">\n",
       "  <thead>\n",
       "    <tr style=\"text-align: right;\">\n",
       "      <th></th>\n",
       "      <th>test_name</th>\n",
       "      <th>PASSED</th>\n",
       "      <th>FAILED</th>\n",
       "      <th>SKIPPED</th>\n",
       "      <th>TOTAL RUNS</th>\n",
       "      <th>flakyness</th>\n",
       "    </tr>\n",
       "  </thead>\n",
       "  <tbody>\n",
       "    <tr>\n",
       "      <th>0</th>\n",
       "      <td>@calcom/web/apps/web/playwright/app-store.e2e....</td>\n",
       "      <td>20</td>\n",
       "      <td>0</td>\n",
       "      <td>0</td>\n",
       "      <td>20</td>\n",
       "      <td>0.0</td>\n",
       "    </tr>\n",
       "    <tr>\n",
       "      <th>1</th>\n",
       "      <td>@calcom/web/apps/web/playwright/app-store.e2e....</td>\n",
       "      <td>20</td>\n",
       "      <td>0</td>\n",
       "      <td>0</td>\n",
       "      <td>20</td>\n",
       "      <td>0.0</td>\n",
       "    </tr>\n",
       "    <tr>\n",
       "      <th>2</th>\n",
       "      <td>@calcom/web/apps/web/playwright/app-store.e2e....</td>\n",
       "      <td>20</td>\n",
       "      <td>0</td>\n",
       "      <td>0</td>\n",
       "      <td>20</td>\n",
       "      <td>0.0</td>\n",
       "    </tr>\n",
       "    <tr>\n",
       "      <th>3</th>\n",
       "      <td>@calcom/web/apps/web/playwright/auth/auth-inde...</td>\n",
       "      <td>20</td>\n",
       "      <td>0</td>\n",
       "      <td>0</td>\n",
       "      <td>20</td>\n",
       "      <td>0.0</td>\n",
       "    </tr>\n",
       "    <tr>\n",
       "      <th>4</th>\n",
       "      <td>@calcom/web/apps/web/playwright/auth/delete-ac...</td>\n",
       "      <td>10</td>\n",
       "      <td>10</td>\n",
       "      <td>0</td>\n",
       "      <td>20</td>\n",
       "      <td>0.5</td>\n",
       "    </tr>\n",
       "    <tr>\n",
       "      <th>...</th>\n",
       "      <td>...</td>\n",
       "      <td>...</td>\n",
       "      <td>...</td>\n",
       "      <td>...</td>\n",
       "      <td>...</td>\n",
       "      <td>...</td>\n",
       "    </tr>\n",
       "    <tr>\n",
       "      <th>104</th>\n",
       "      <td>@calcom/web/apps/web/playwright/trial.e2e.ts/T...</td>\n",
       "      <td>0</td>\n",
       "      <td>0</td>\n",
       "      <td>20</td>\n",
       "      <td>0</td>\n",
       "      <td>0.0</td>\n",
       "    </tr>\n",
       "    <tr>\n",
       "      <th>105</th>\n",
       "      <td>@calcom/web/apps/web/playwright/webhook.e2e.ts...</td>\n",
       "      <td>20</td>\n",
       "      <td>0</td>\n",
       "      <td>0</td>\n",
       "      <td>20</td>\n",
       "      <td>0.0</td>\n",
       "    </tr>\n",
       "    <tr>\n",
       "      <th>106</th>\n",
       "      <td>@calcom/web/apps/web/playwright/webhook.e2e.ts...</td>\n",
       "      <td>20</td>\n",
       "      <td>0</td>\n",
       "      <td>0</td>\n",
       "      <td>20</td>\n",
       "      <td>0.0</td>\n",
       "    </tr>\n",
       "    <tr>\n",
       "      <th>107</th>\n",
       "      <td>@calcom/web/apps/web/playwright/webhook.e2e.ts...</td>\n",
       "      <td>20</td>\n",
       "      <td>0</td>\n",
       "      <td>0</td>\n",
       "      <td>20</td>\n",
       "      <td>0.0</td>\n",
       "    </tr>\n",
       "    <tr>\n",
       "      <th>108</th>\n",
       "      <td>@calcom/web/apps/web/playwright/wipe-my-cal.e2...</td>\n",
       "      <td>18</td>\n",
       "      <td>2</td>\n",
       "      <td>0</td>\n",
       "      <td>20</td>\n",
       "      <td>0.1</td>\n",
       "    </tr>\n",
       "  </tbody>\n",
       "</table>\n",
       "<p>109 rows × 6 columns</p>\n",
       "</div>"
      ],
      "text/plain": [
       "                                             test_name  PASSED  FAILED  \\\n",
       "0    @calcom/web/apps/web/playwright/app-store.e2e....      20       0   \n",
       "1    @calcom/web/apps/web/playwright/app-store.e2e....      20       0   \n",
       "2    @calcom/web/apps/web/playwright/app-store.e2e....      20       0   \n",
       "3    @calcom/web/apps/web/playwright/auth/auth-inde...      20       0   \n",
       "4    @calcom/web/apps/web/playwright/auth/delete-ac...      10      10   \n",
       "..                                                 ...     ...     ...   \n",
       "104  @calcom/web/apps/web/playwright/trial.e2e.ts/T...       0       0   \n",
       "105  @calcom/web/apps/web/playwright/webhook.e2e.ts...      20       0   \n",
       "106  @calcom/web/apps/web/playwright/webhook.e2e.ts...      20       0   \n",
       "107  @calcom/web/apps/web/playwright/webhook.e2e.ts...      20       0   \n",
       "108  @calcom/web/apps/web/playwright/wipe-my-cal.e2...      18       2   \n",
       "\n",
       "     SKIPPED  TOTAL RUNS  flakyness  \n",
       "0          0          20        0.0  \n",
       "1          0          20        0.0  \n",
       "2          0          20        0.0  \n",
       "3          0          20        0.0  \n",
       "4          0          20        0.5  \n",
       "..       ...         ...        ...  \n",
       "104       20           0        0.0  \n",
       "105        0          20        0.0  \n",
       "106        0          20        0.0  \n",
       "107        0          20        0.0  \n",
       "108        0          20        0.1  \n",
       "\n",
       "[109 rows x 6 columns]"
      ]
     },
     "execution_count": 123,
     "metadata": {},
     "output_type": "execute_result"
    }
   ],
   "source": [
    "results_dict[(\"cal\", \"baseline\")].test_df"
   ]
  },
  {
   "cell_type": "code",
   "execution_count": 136,
   "metadata": {
    "collapsed": false
   },
   "outputs": [
    {
     "data": {
      "text/html": [
       "<div>\n",
       "<style scoped>\n",
       "    .dataframe tbody tr th:only-of-type {\n",
       "        vertical-align: middle;\n",
       "    }\n",
       "\n",
       "    .dataframe tbody tr th {\n",
       "        vertical-align: top;\n",
       "    }\n",
       "\n",
       "    .dataframe thead th {\n",
       "        text-align: right;\n",
       "    }\n",
       "</style>\n",
       "<table border=\"1\" class=\"dataframe\">\n",
       "  <thead>\n",
       "    <tr style=\"text-align: right;\">\n",
       "      <th></th>\n",
       "      <th>baseline</th>\n",
       "      <th>bandwidth</th>\n",
       "      <th>packet_loss_20</th>\n",
       "      <th>cpu20</th>\n",
       "      <th>memory</th>\n",
       "      <th>cpu50</th>\n",
       "      <th>network_delay</th>\n",
       "      <th>disk</th>\n",
       "      <th>packet_loss_70</th>\n",
       "      <th>packet_loss</th>\n",
       "      <th>interrupt</th>\n",
       "    </tr>\n",
       "  </thead>\n",
       "  <tbody>\n",
       "    <tr>\n",
       "      <th>@calcom/web/apps/web/playwright/booking-seats.e2e.ts/Reschedule for booking with seats -- new-booker › Should reschedule booking with seats and if everyone rescheduled it should be deleted</th>\n",
       "      <td>0.033028</td>\n",
       "      <td>0.034404</td>\n",
       "      <td>NaN</td>\n",
       "      <td>0.03945</td>\n",
       "      <td>0.040826</td>\n",
       "      <td>0.039908</td>\n",
       "      <td>0.047706</td>\n",
       "      <td>0.043153</td>\n",
       "      <td>NaN</td>\n",
       "      <td>0.048165</td>\n",
       "      <td>0.039908</td>\n",
       "    </tr>\n",
       "    <tr>\n",
       "      <th>@calcom/web/apps/web/playwright/manage-booking-questions.e2e.ts/Manage Booking Questions › For User EventType -- new-booker › Do a booking with a user added question and verify a few thing in b/w</th>\n",
       "      <td>0.033028</td>\n",
       "      <td>0.034404</td>\n",
       "      <td>NaN</td>\n",
       "      <td>0.03945</td>\n",
       "      <td>0.040826</td>\n",
       "      <td>0.039908</td>\n",
       "      <td>0.047706</td>\n",
       "      <td>0.043153</td>\n",
       "      <td>NaN</td>\n",
       "      <td>0.048165</td>\n",
       "      <td>0.039908</td>\n",
       "    </tr>\n",
       "    <tr>\n",
       "      <th>@calcom/web/apps/web/playwright/managed-event-types.e2e.ts/Managed Event Types tests › Can create managed event type</th>\n",
       "      <td>0.033028</td>\n",
       "      <td>0.034404</td>\n",
       "      <td>NaN</td>\n",
       "      <td>0.03945</td>\n",
       "      <td>0.040826</td>\n",
       "      <td>0.039908</td>\n",
       "      <td>0.047706</td>\n",
       "      <td>0.043153</td>\n",
       "      <td>NaN</td>\n",
       "      <td>0.048165</td>\n",
       "      <td>0.039908</td>\n",
       "    </tr>\n",
       "    <tr>\n",
       "      <th>@calcom/web/apps/web/playwright/booking-pages.e2e.ts/pro user -- new-booker › book an event first day in next month</th>\n",
       "      <td>0.033028</td>\n",
       "      <td>0.034404</td>\n",
       "      <td>NaN</td>\n",
       "      <td>0.03945</td>\n",
       "      <td>0.040826</td>\n",
       "      <td>0.039908</td>\n",
       "      <td>0.047706</td>\n",
       "      <td>0.043153</td>\n",
       "      <td>NaN</td>\n",
       "      <td>0.048165</td>\n",
       "      <td>0.039908</td>\n",
       "    </tr>\n",
       "    <tr>\n",
       "      <th>@calcom/web/apps/web/playwright/change-password.e2e.ts/Change Password Test › change password</th>\n",
       "      <td>0.033028</td>\n",
       "      <td>0.034404</td>\n",
       "      <td>NaN</td>\n",
       "      <td>0.03945</td>\n",
       "      <td>0.040826</td>\n",
       "      <td>0.039908</td>\n",
       "      <td>0.047706</td>\n",
       "      <td>0.043153</td>\n",
       "      <td>NaN</td>\n",
       "      <td>0.048165</td>\n",
       "      <td>0.039908</td>\n",
       "    </tr>\n",
       "    <tr>\n",
       "      <th>...</th>\n",
       "      <td>...</td>\n",
       "      <td>...</td>\n",
       "      <td>...</td>\n",
       "      <td>...</td>\n",
       "      <td>...</td>\n",
       "      <td>...</td>\n",
       "      <td>...</td>\n",
       "      <td>...</td>\n",
       "      <td>...</td>\n",
       "      <td>...</td>\n",
       "      <td>...</td>\n",
       "    </tr>\n",
       "    <tr>\n",
       "      <th>@calcom/web/apps/web/playwright/dynamic-booking-pages.e2e.ts/dynamic booking</th>\n",
       "      <td>0.033028</td>\n",
       "      <td>0.034404</td>\n",
       "      <td>NaN</td>\n",
       "      <td>0.03945</td>\n",
       "      <td>0.040826</td>\n",
       "      <td>0.039908</td>\n",
       "      <td>0.047706</td>\n",
       "      <td>0.043153</td>\n",
       "      <td>NaN</td>\n",
       "      <td>0.048165</td>\n",
       "      <td>0.039908</td>\n",
       "    </tr>\n",
       "    <tr>\n",
       "      <th>@calcom/web/apps/web/playwright/change-username.e2e.ts/Change username on settings › User can change username</th>\n",
       "      <td>0.033028</td>\n",
       "      <td>0.034404</td>\n",
       "      <td>NaN</td>\n",
       "      <td>0.03945</td>\n",
       "      <td>0.040826</td>\n",
       "      <td>0.039908</td>\n",
       "      <td>0.047706</td>\n",
       "      <td>0.043153</td>\n",
       "      <td>NaN</td>\n",
       "      <td>0.048165</td>\n",
       "      <td>0.039908</td>\n",
       "    </tr>\n",
       "    <tr>\n",
       "      <th>@calcom/web/apps/web/playwright/reschedule.e2e.ts/Reschedule Tests -- old-booker › Paid rescheduling should go to success page</th>\n",
       "      <td>0.033028</td>\n",
       "      <td>0.034404</td>\n",
       "      <td>NaN</td>\n",
       "      <td>0.03945</td>\n",
       "      <td>0.040826</td>\n",
       "      <td>0.039908</td>\n",
       "      <td>0.047706</td>\n",
       "      <td>0.043153</td>\n",
       "      <td>NaN</td>\n",
       "      <td>0.048165</td>\n",
       "      <td>0.039908</td>\n",
       "    </tr>\n",
       "    <tr>\n",
       "      <th>@calcom/web/apps/web/playwright/booking-seats.e2e.ts/Reschedule for booking with seats -- old-booker › Should reschedule booking with seats</th>\n",
       "      <td>0.033028</td>\n",
       "      <td>0.034404</td>\n",
       "      <td>NaN</td>\n",
       "      <td>0.03945</td>\n",
       "      <td>0.040826</td>\n",
       "      <td>0.039908</td>\n",
       "      <td>0.047706</td>\n",
       "      <td>0.043153</td>\n",
       "      <td>NaN</td>\n",
       "      <td>0.048165</td>\n",
       "      <td>0.039908</td>\n",
       "    </tr>\n",
       "    <tr>\n",
       "      <th>@calcom/web/apps/web/playwright/booking-pages.e2e.ts/free user -- new-booker › cannot book same slot multiple times</th>\n",
       "      <td>0.033028</td>\n",
       "      <td>0.034404</td>\n",
       "      <td>NaN</td>\n",
       "      <td>0.03945</td>\n",
       "      <td>0.040826</td>\n",
       "      <td>0.039908</td>\n",
       "      <td>0.047706</td>\n",
       "      <td>0.043153</td>\n",
       "      <td>NaN</td>\n",
       "      <td>0.048165</td>\n",
       "      <td>0.039908</td>\n",
       "    </tr>\n",
       "  </tbody>\n",
       "</table>\n",
       "<p>109 rows × 11 columns</p>\n",
       "</div>"
      ],
      "text/plain": [
       "                                                    baseline bandwidth  \\\n",
       "@calcom/web/apps/web/playwright/booking-seats.e...  0.033028  0.034404   \n",
       "@calcom/web/apps/web/playwright/manage-booking-...  0.033028  0.034404   \n",
       "@calcom/web/apps/web/playwright/managed-event-t...  0.033028  0.034404   \n",
       "@calcom/web/apps/web/playwright/booking-pages.e...  0.033028  0.034404   \n",
       "@calcom/web/apps/web/playwright/change-password...  0.033028  0.034404   \n",
       "...                                                      ...       ...   \n",
       "@calcom/web/apps/web/playwright/dynamic-booking...  0.033028  0.034404   \n",
       "@calcom/web/apps/web/playwright/change-username...  0.033028  0.034404   \n",
       "@calcom/web/apps/web/playwright/reschedule.e2e....  0.033028  0.034404   \n",
       "@calcom/web/apps/web/playwright/booking-seats.e...  0.033028  0.034404   \n",
       "@calcom/web/apps/web/playwright/booking-pages.e...  0.033028  0.034404   \n",
       "\n",
       "                                                   packet_loss_20    cpu20  \\\n",
       "@calcom/web/apps/web/playwright/booking-seats.e...            NaN  0.03945   \n",
       "@calcom/web/apps/web/playwright/manage-booking-...            NaN  0.03945   \n",
       "@calcom/web/apps/web/playwright/managed-event-t...            NaN  0.03945   \n",
       "@calcom/web/apps/web/playwright/booking-pages.e...            NaN  0.03945   \n",
       "@calcom/web/apps/web/playwright/change-password...            NaN  0.03945   \n",
       "...                                                           ...      ...   \n",
       "@calcom/web/apps/web/playwright/dynamic-booking...            NaN  0.03945   \n",
       "@calcom/web/apps/web/playwright/change-username...            NaN  0.03945   \n",
       "@calcom/web/apps/web/playwright/reschedule.e2e....            NaN  0.03945   \n",
       "@calcom/web/apps/web/playwright/booking-seats.e...            NaN  0.03945   \n",
       "@calcom/web/apps/web/playwright/booking-pages.e...            NaN  0.03945   \n",
       "\n",
       "                                                      memory     cpu50  \\\n",
       "@calcom/web/apps/web/playwright/booking-seats.e...  0.040826  0.039908   \n",
       "@calcom/web/apps/web/playwright/manage-booking-...  0.040826  0.039908   \n",
       "@calcom/web/apps/web/playwright/managed-event-t...  0.040826  0.039908   \n",
       "@calcom/web/apps/web/playwright/booking-pages.e...  0.040826  0.039908   \n",
       "@calcom/web/apps/web/playwright/change-password...  0.040826  0.039908   \n",
       "...                                                      ...       ...   \n",
       "@calcom/web/apps/web/playwright/dynamic-booking...  0.040826  0.039908   \n",
       "@calcom/web/apps/web/playwright/change-username...  0.040826  0.039908   \n",
       "@calcom/web/apps/web/playwright/reschedule.e2e....  0.040826  0.039908   \n",
       "@calcom/web/apps/web/playwright/booking-seats.e...  0.040826  0.039908   \n",
       "@calcom/web/apps/web/playwright/booking-pages.e...  0.040826  0.039908   \n",
       "\n",
       "                                                   network_delay      disk  \\\n",
       "@calcom/web/apps/web/playwright/booking-seats.e...      0.047706  0.043153   \n",
       "@calcom/web/apps/web/playwright/manage-booking-...      0.047706  0.043153   \n",
       "@calcom/web/apps/web/playwright/managed-event-t...      0.047706  0.043153   \n",
       "@calcom/web/apps/web/playwright/booking-pages.e...      0.047706  0.043153   \n",
       "@calcom/web/apps/web/playwright/change-password...      0.047706  0.043153   \n",
       "...                                                          ...       ...   \n",
       "@calcom/web/apps/web/playwright/dynamic-booking...      0.047706  0.043153   \n",
       "@calcom/web/apps/web/playwright/change-username...      0.047706  0.043153   \n",
       "@calcom/web/apps/web/playwright/reschedule.e2e....      0.047706  0.043153   \n",
       "@calcom/web/apps/web/playwright/booking-seats.e...      0.047706  0.043153   \n",
       "@calcom/web/apps/web/playwright/booking-pages.e...      0.047706  0.043153   \n",
       "\n",
       "                                                   packet_loss_70 packet_loss  \\\n",
       "@calcom/web/apps/web/playwright/booking-seats.e...            NaN    0.048165   \n",
       "@calcom/web/apps/web/playwright/manage-booking-...            NaN    0.048165   \n",
       "@calcom/web/apps/web/playwright/managed-event-t...            NaN    0.048165   \n",
       "@calcom/web/apps/web/playwright/booking-pages.e...            NaN    0.048165   \n",
       "@calcom/web/apps/web/playwright/change-password...            NaN    0.048165   \n",
       "...                                                           ...         ...   \n",
       "@calcom/web/apps/web/playwright/dynamic-booking...            NaN    0.048165   \n",
       "@calcom/web/apps/web/playwright/change-username...            NaN    0.048165   \n",
       "@calcom/web/apps/web/playwright/reschedule.e2e....            NaN    0.048165   \n",
       "@calcom/web/apps/web/playwright/booking-seats.e...            NaN    0.048165   \n",
       "@calcom/web/apps/web/playwright/booking-pages.e...            NaN    0.048165   \n",
       "\n",
       "                                                   interrupt  \n",
       "@calcom/web/apps/web/playwright/booking-seats.e...  0.039908  \n",
       "@calcom/web/apps/web/playwright/manage-booking-...  0.039908  \n",
       "@calcom/web/apps/web/playwright/managed-event-t...  0.039908  \n",
       "@calcom/web/apps/web/playwright/booking-pages.e...  0.039908  \n",
       "@calcom/web/apps/web/playwright/change-password...  0.039908  \n",
       "...                                                      ...  \n",
       "@calcom/web/apps/web/playwright/dynamic-booking...  0.039908  \n",
       "@calcom/web/apps/web/playwright/change-username...  0.039908  \n",
       "@calcom/web/apps/web/playwright/reschedule.e2e....  0.039908  \n",
       "@calcom/web/apps/web/playwright/booking-seats.e...  0.039908  \n",
       "@calcom/web/apps/web/playwright/booking-pages.e...  0.039908  \n",
       "\n",
       "[109 rows x 11 columns]"
      ]
     },
     "execution_count": 136,
     "metadata": {},
     "output_type": "execute_result"
    }
   ],
   "source": [
    "tbn = compute_flakyness_per_test_by_noise_type(\"cal\")\n",
    "tbn"
   ]
  },
  {
   "cell_type": "code",
   "execution_count": 150,
   "metadata": {
    "collapsed": false
   },
   "outputs": [
    {
     "data": {
      "text/plain": [
       "<Axes: title={'center': 'Flakiness of cal'}>"
      ]
     },
     "execution_count": 150,
     "metadata": {},
     "output_type": "execute_result"
    },
    {
     "data": {
      "image/png": "[encoded data removed]",
      "text/plain": [
       "<Figure size 640x480 with 1 Axes>"
      ]
     },
     "metadata": {},
     "output_type": "display_data"
    }
   ],
   "source": [
    "# get most flaky test\n",
    "tbn[\"flakyness\"] = tbn.mean(axis=1)\n",
    "mostflaky = tbn.sort_values(\"flakyness\", ascending=False).head(1).index[0]\n",
    "#print(\"Most flaky test: \", mostflaky)\n",
    "tbn.loc[mostflaky].plot(kind=\"bar\", title=f\"Flakiness of {proj}\")"
   ]
  },
  {
   "cell_type": "code",
   "execution_count": 151,
   "metadata": {
    "collapsed": false
   },
   "outputs": [],
   "source": [
    "# overflakyness\n",
    "test = tbn\n",
    "fob = compute_flakyness_over_baseline(test)"
   ]
  },
  {
   "cell_type": "code",
   "execution_count": 152,
   "metadata": {
    "collapsed": false
   },
   "outputs": [
    {
     "data": {
      "text/plain": [
       "<Axes: title={'center': 'Flakiness over Baseline of cal'}>"
      ]
     },
     "execution_count": 152,
     "metadata": {},
     "output_type": "execute_result"
    },
    {
     "data": {
      "image/png": "[encoded data removed]",
      "text/plain": [
       "<Figure size 640x480 with 1 Axes>"
      ]
     },
     "metadata": {},
     "output_type": "display_data"
    }
   ],
   "source": [
    "# get most flaky test\n",
    "fob[\"flakyness\"] = fob.mean(axis=1)\n",
    "mostflaky = fob.sort_values(\"flakyness\", ascending=False).head(1).index[0]\n",
    "#print(\"Most flaky test: \", mostflaky)\n",
    "fob.loc[mostflaky].plot(kind=\"bar\",  title=f\"Flakiness over Baseline of {proj}\")"
   ]
  },
  {
   "cell_type": "markdown",
   "metadata": {
    "collapsed": false
   },
   "source": [
    "## Storybook"
   ]
  },
  {
   "cell_type": "code",
   "execution_count": 166,
   "metadata": {
    "collapsed": false
   },
   "outputs": [
    {
     "data": {
      "text/plain": [
       "<Axes: title={'center': 'Flakiness of storybook'}>"
      ]
     },
     "execution_count": 166,
     "metadata": {},
     "output_type": "execute_result"
    },
    {
     "data": {
      "image/png": "[encoded data removed]",
      "text/plain": [
       "<Figure size 640x480 with 1 Axes>"
      ]
     },
     "metadata": {},
     "output_type": "display_data"
    }
   ],
   "source": [
    "proj = \"storybook\"\n",
    "overview[\"cal\"].T.plot(kind=\"bar\", title=f\"Flakiness of {proj}\")"
   ]
  },
  {
   "cell_type": "code",
   "execution_count": 168,
   "metadata": {
    "collapsed": false
   },
   "outputs": [
    {
     "data": {
      "text/html": [
       "<div>\n",
       "<style scoped>\n",
       "    .dataframe tbody tr th:only-of-type {\n",
       "        vertical-align: middle;\n",
       "    }\n",
       "\n",
       "    .dataframe tbody tr th {\n",
       "        vertical-align: top;\n",
       "    }\n",
       "\n",
       "    .dataframe thead th {\n",
       "        text-align: right;\n",
       "    }\n",
       "</style>\n",
       "<table border=\"1\" class=\"dataframe\">\n",
       "  <thead>\n",
       "    <tr style=\"text-align: right;\">\n",
       "      <th></th>\n",
       "      <th>test_name</th>\n",
       "      <th>PASSED</th>\n",
       "      <th>FAILED</th>\n",
       "      <th>SKIPPED</th>\n",
       "      <th>TOTAL RUNS</th>\n",
       "      <th>flakyness</th>\n",
       "    </tr>\n",
       "  </thead>\n",
       "  <tbody>\n",
       "    <tr>\n",
       "      <th>0</th>\n",
       "      <td>chromium/addon-actions.spec.ts/addon-actions ›...</td>\n",
       "      <td>100</td>\n",
       "      <td>0</td>\n",
       "      <td>0</td>\n",
       "      <td>100</td>\n",
       "      <td>0.00</td>\n",
       "    </tr>\n",
       "    <tr>\n",
       "      <th>1</th>\n",
       "      <td>chromium/addon-backgrounds.spec.ts/addon-backg...</td>\n",
       "      <td>100</td>\n",
       "      <td>0</td>\n",
       "      <td>0</td>\n",
       "      <td>100</td>\n",
       "      <td>0.00</td>\n",
       "    </tr>\n",
       "    <tr>\n",
       "      <th>2</th>\n",
       "      <td>chromium/addon-backgrounds.spec.ts/addon-backg...</td>\n",
       "      <td>100</td>\n",
       "      <td>0</td>\n",
       "      <td>0</td>\n",
       "      <td>100</td>\n",
       "      <td>0.00</td>\n",
       "    </tr>\n",
       "    <tr>\n",
       "      <th>3</th>\n",
       "      <td>chromium/addon-backgrounds.spec.ts/addon-backg...</td>\n",
       "      <td>100</td>\n",
       "      <td>0</td>\n",
       "      <td>0</td>\n",
       "      <td>100</td>\n",
       "      <td>0.00</td>\n",
       "    </tr>\n",
       "    <tr>\n",
       "      <th>4</th>\n",
       "      <td>chromium/addon-backgrounds.spec.ts/addon-backg...</td>\n",
       "      <td>100</td>\n",
       "      <td>0</td>\n",
       "      <td>0</td>\n",
       "      <td>100</td>\n",
       "      <td>0.00</td>\n",
       "    </tr>\n",
       "    <tr>\n",
       "      <th>...</th>\n",
       "      <td>...</td>\n",
       "      <td>...</td>\n",
       "      <td>...</td>\n",
       "      <td>...</td>\n",
       "      <td>...</td>\n",
       "      <td>...</td>\n",
       "    </tr>\n",
       "    <tr>\n",
       "      <th>100</th>\n",
       "      <td>webkit/framework-nextjs.spec.ts/Next.js › next...</td>\n",
       "      <td>0</td>\n",
       "      <td>0</td>\n",
       "      <td>100</td>\n",
       "      <td>0</td>\n",
       "      <td>0.00</td>\n",
       "    </tr>\n",
       "    <tr>\n",
       "      <th>101</th>\n",
       "      <td>webkit/framework-nextjs.spec.ts/Next.js › next...</td>\n",
       "      <td>0</td>\n",
       "      <td>0</td>\n",
       "      <td>100</td>\n",
       "      <td>0</td>\n",
       "      <td>0.00</td>\n",
       "    </tr>\n",
       "    <tr>\n",
       "      <th>102</th>\n",
       "      <td>webkit/json-files.spec.ts/JSON files › should ...</td>\n",
       "      <td>100</td>\n",
       "      <td>0</td>\n",
       "      <td>0</td>\n",
       "      <td>100</td>\n",
       "      <td>0.00</td>\n",
       "    </tr>\n",
       "    <tr>\n",
       "      <th>103</th>\n",
       "      <td>webkit/preview-web.spec.ts/preview-web › shoul...</td>\n",
       "      <td>65</td>\n",
       "      <td>35</td>\n",
       "      <td>0</td>\n",
       "      <td>100</td>\n",
       "      <td>0.35</td>\n",
       "    </tr>\n",
       "    <tr>\n",
       "      <th>104</th>\n",
       "      <td>webkit/preview-web.spec.ts/preview-web › shoul...</td>\n",
       "      <td>100</td>\n",
       "      <td>0</td>\n",
       "      <td>0</td>\n",
       "      <td>100</td>\n",
       "      <td>0.00</td>\n",
       "    </tr>\n",
       "  </tbody>\n",
       "</table>\n",
       "<p>105 rows × 6 columns</p>\n",
       "</div>"
      ],
      "text/plain": [
       "                                             test_name  PASSED  FAILED  \\\n",
       "0    chromium/addon-actions.spec.ts/addon-actions ›...     100       0   \n",
       "1    chromium/addon-backgrounds.spec.ts/addon-backg...     100       0   \n",
       "2    chromium/addon-backgrounds.spec.ts/addon-backg...     100       0   \n",
       "3    chromium/addon-backgrounds.spec.ts/addon-backg...     100       0   \n",
       "4    chromium/addon-backgrounds.spec.ts/addon-backg...     100       0   \n",
       "..                                                 ...     ...     ...   \n",
       "100  webkit/framework-nextjs.spec.ts/Next.js › next...       0       0   \n",
       "101  webkit/framework-nextjs.spec.ts/Next.js › next...       0       0   \n",
       "102  webkit/json-files.spec.ts/JSON files › should ...     100       0   \n",
       "103  webkit/preview-web.spec.ts/preview-web › shoul...      65      35   \n",
       "104  webkit/preview-web.spec.ts/preview-web › shoul...     100       0   \n",
       "\n",
       "     SKIPPED  TOTAL RUNS  flakyness  \n",
       "0          0         100       0.00  \n",
       "1          0         100       0.00  \n",
       "2          0         100       0.00  \n",
       "3          0         100       0.00  \n",
       "4          0         100       0.00  \n",
       "..       ...         ...        ...  \n",
       "100      100           0       0.00  \n",
       "101      100           0       0.00  \n",
       "102        0         100       0.00  \n",
       "103        0         100       0.35  \n",
       "104        0         100       0.00  \n",
       "\n",
       "[105 rows x 6 columns]"
      ]
     },
     "execution_count": 168,
     "metadata": {},
     "output_type": "execute_result"
    }
   ],
   "source": [
    "results_dict[(proj, \"baseline\")].test_df"
   ]
  },
  {
   "cell_type": "code",
   "execution_count": 169,
   "metadata": {
    "collapsed": false
   },
   "outputs": [
    {
     "data": {
      "text/html": [
       "<div>\n",
       "<style scoped>\n",
       "    .dataframe tbody tr th:only-of-type {\n",
       "        vertical-align: middle;\n",
       "    }\n",
       "\n",
       "    .dataframe tbody tr th {\n",
       "        vertical-align: top;\n",
       "    }\n",
       "\n",
       "    .dataframe thead th {\n",
       "        text-align: right;\n",
       "    }\n",
       "</style>\n",
       "<table border=\"1\" class=\"dataframe\">\n",
       "  <thead>\n",
       "    <tr style=\"text-align: right;\">\n",
       "      <th></th>\n",
       "      <th>baseline</th>\n",
       "      <th>bandwidth</th>\n",
       "      <th>packet_loss_20</th>\n",
       "      <th>cpu20</th>\n",
       "      <th>memory</th>\n",
       "      <th>cpu50</th>\n",
       "      <th>network_delay</th>\n",
       "      <th>disk</th>\n",
       "      <th>packet_loss_70</th>\n",
       "      <th>packet_loss</th>\n",
       "      <th>interrupt</th>\n",
       "    </tr>\n",
       "  </thead>\n",
       "  <tbody>\n",
       "    <tr>\n",
       "      <th>firefox/framework-nextjs.spec.ts/Next.js › next/router › should trigger forward action</th>\n",
       "      <td>0.009429</td>\n",
       "      <td>0.009619</td>\n",
       "      <td>NaN</td>\n",
       "      <td>0.01</td>\n",
       "      <td>NaN</td>\n",
       "      <td>NaN</td>\n",
       "      <td>0.008476</td>\n",
       "      <td>0.017771</td>\n",
       "      <td>NaN</td>\n",
       "      <td>0.009048</td>\n",
       "      <td>NaN</td>\n",
       "    </tr>\n",
       "    <tr>\n",
       "      <th>chromium/addon-docs.spec.ts/addon-docs › should not run autoplay stories without parameter</th>\n",
       "      <td>0.009429</td>\n",
       "      <td>0.009619</td>\n",
       "      <td>NaN</td>\n",
       "      <td>0.01</td>\n",
       "      <td>NaN</td>\n",
       "      <td>NaN</td>\n",
       "      <td>0.008476</td>\n",
       "      <td>0.017771</td>\n",
       "      <td>NaN</td>\n",
       "      <td>0.009048</td>\n",
       "      <td>NaN</td>\n",
       "    </tr>\n",
       "    <tr>\n",
       "      <th>firefox/addon-backgrounds.spec.ts/addon-backgrounds › docs pages › button should appear for unattached .mdx files</th>\n",
       "      <td>0.009429</td>\n",
       "      <td>0.009619</td>\n",
       "      <td>NaN</td>\n",
       "      <td>0.01</td>\n",
       "      <td>NaN</td>\n",
       "      <td>NaN</td>\n",
       "      <td>0.008476</td>\n",
       "      <td>0.017771</td>\n",
       "      <td>NaN</td>\n",
       "      <td>0.009048</td>\n",
       "      <td>NaN</td>\n",
       "    </tr>\n",
       "    <tr>\n",
       "      <th>chromium/addon-docs.spec.ts/addon-docs › should render errors</th>\n",
       "      <td>0.009429</td>\n",
       "      <td>0.009619</td>\n",
       "      <td>NaN</td>\n",
       "      <td>0.01</td>\n",
       "      <td>NaN</td>\n",
       "      <td>NaN</td>\n",
       "      <td>0.008476</td>\n",
       "      <td>0.017771</td>\n",
       "      <td>NaN</td>\n",
       "      <td>0.009048</td>\n",
       "      <td>NaN</td>\n",
       "    </tr>\n",
       "    <tr>\n",
       "      <th>webkit/preview-web.spec.ts/preview-web › should pass over shortcuts, but not from play functions, docs</th>\n",
       "      <td>0.009429</td>\n",
       "      <td>0.009619</td>\n",
       "      <td>NaN</td>\n",
       "      <td>0.01</td>\n",
       "      <td>NaN</td>\n",
       "      <td>NaN</td>\n",
       "      <td>0.008476</td>\n",
       "      <td>0.017771</td>\n",
       "      <td>NaN</td>\n",
       "      <td>0.009048</td>\n",
       "      <td>NaN</td>\n",
       "    </tr>\n",
       "    <tr>\n",
       "      <th>...</th>\n",
       "      <td>...</td>\n",
       "      <td>...</td>\n",
       "      <td>...</td>\n",
       "      <td>...</td>\n",
       "      <td>...</td>\n",
       "      <td>...</td>\n",
       "      <td>...</td>\n",
       "      <td>...</td>\n",
       "      <td>...</td>\n",
       "      <td>...</td>\n",
       "      <td>...</td>\n",
       "    </tr>\n",
       "    <tr>\n",
       "      <th>webkit/framework-nextjs.spec.ts/Next.js › next/router › should trigger push action</th>\n",
       "      <td>0.009429</td>\n",
       "      <td>0.009619</td>\n",
       "      <td>NaN</td>\n",
       "      <td>0.01</td>\n",
       "      <td>NaN</td>\n",
       "      <td>NaN</td>\n",
       "      <td>0.008476</td>\n",
       "      <td>0.017771</td>\n",
       "      <td>NaN</td>\n",
       "      <td>0.009048</td>\n",
       "      <td>NaN</td>\n",
       "    </tr>\n",
       "    <tr>\n",
       "      <th>firefox/addon-docs.spec.ts/addon-docs › source snippet should not change in stories block</th>\n",
       "      <td>0.009429</td>\n",
       "      <td>0.009619</td>\n",
       "      <td>NaN</td>\n",
       "      <td>0.01</td>\n",
       "      <td>NaN</td>\n",
       "      <td>NaN</td>\n",
       "      <td>0.008476</td>\n",
       "      <td>0.017771</td>\n",
       "      <td>NaN</td>\n",
       "      <td>0.009048</td>\n",
       "      <td>NaN</td>\n",
       "    </tr>\n",
       "    <tr>\n",
       "      <th>chromium/addon-backgrounds.spec.ts/addon-backgrounds › should have a dark background</th>\n",
       "      <td>0.009429</td>\n",
       "      <td>0.009619</td>\n",
       "      <td>NaN</td>\n",
       "      <td>0.01</td>\n",
       "      <td>NaN</td>\n",
       "      <td>NaN</td>\n",
       "      <td>0.008476</td>\n",
       "      <td>0.017771</td>\n",
       "      <td>NaN</td>\n",
       "      <td>0.009048</td>\n",
       "      <td>NaN</td>\n",
       "    </tr>\n",
       "    <tr>\n",
       "      <th>firefox/addon-docs.spec.ts/addon-docs › should provide source snippet</th>\n",
       "      <td>0.009429</td>\n",
       "      <td>0.009619</td>\n",
       "      <td>NaN</td>\n",
       "      <td>0.01</td>\n",
       "      <td>NaN</td>\n",
       "      <td>NaN</td>\n",
       "      <td>0.008476</td>\n",
       "      <td>0.017771</td>\n",
       "      <td>NaN</td>\n",
       "      <td>0.009048</td>\n",
       "      <td>NaN</td>\n",
       "    </tr>\n",
       "    <tr>\n",
       "      <th>chromium/addon-docs.spec.ts/addon-docs › should provide source snippet</th>\n",
       "      <td>0.009429</td>\n",
       "      <td>0.009619</td>\n",
       "      <td>NaN</td>\n",
       "      <td>0.01</td>\n",
       "      <td>NaN</td>\n",
       "      <td>NaN</td>\n",
       "      <td>0.008476</td>\n",
       "      <td>0.017771</td>\n",
       "      <td>NaN</td>\n",
       "      <td>0.009048</td>\n",
       "      <td>NaN</td>\n",
       "    </tr>\n",
       "  </tbody>\n",
       "</table>\n",
       "<p>105 rows × 11 columns</p>\n",
       "</div>"
      ],
      "text/plain": [
       "                                                    baseline bandwidth  \\\n",
       "firefox/framework-nextjs.spec.ts/Next.js › next...  0.009429  0.009619   \n",
       "chromium/addon-docs.spec.ts/addon-docs › should...  0.009429  0.009619   \n",
       "firefox/addon-backgrounds.spec.ts/addon-backgro...  0.009429  0.009619   \n",
       "chromium/addon-docs.spec.ts/addon-docs › should...  0.009429  0.009619   \n",
       "webkit/preview-web.spec.ts/preview-web › should...  0.009429  0.009619   \n",
       "...                                                      ...       ...   \n",
       "webkit/framework-nextjs.spec.ts/Next.js › next/...  0.009429  0.009619   \n",
       "firefox/addon-docs.spec.ts/addon-docs › source ...  0.009429  0.009619   \n",
       "chromium/addon-backgrounds.spec.ts/addon-backgr...  0.009429  0.009619   \n",
       "firefox/addon-docs.spec.ts/addon-docs › should ...  0.009429  0.009619   \n",
       "chromium/addon-docs.spec.ts/addon-docs › should...  0.009429  0.009619   \n",
       "\n",
       "                                                   packet_loss_20 cpu20  \\\n",
       "firefox/framework-nextjs.spec.ts/Next.js › next...            NaN  0.01   \n",
       "chromium/addon-docs.spec.ts/addon-docs › should...            NaN  0.01   \n",
       "firefox/addon-backgrounds.spec.ts/addon-backgro...            NaN  0.01   \n",
       "chromium/addon-docs.spec.ts/addon-docs › should...            NaN  0.01   \n",
       "webkit/preview-web.spec.ts/preview-web › should...            NaN  0.01   \n",
       "...                                                           ...   ...   \n",
       "webkit/framework-nextjs.spec.ts/Next.js › next/...            NaN  0.01   \n",
       "firefox/addon-docs.spec.ts/addon-docs › source ...            NaN  0.01   \n",
       "chromium/addon-backgrounds.spec.ts/addon-backgr...            NaN  0.01   \n",
       "firefox/addon-docs.spec.ts/addon-docs › should ...            NaN  0.01   \n",
       "chromium/addon-docs.spec.ts/addon-docs › should...            NaN  0.01   \n",
       "\n",
       "                                                   memory cpu50 network_delay  \\\n",
       "firefox/framework-nextjs.spec.ts/Next.js › next...    NaN   NaN      0.008476   \n",
       "chromium/addon-docs.spec.ts/addon-docs › should...    NaN   NaN      0.008476   \n",
       "firefox/addon-backgrounds.spec.ts/addon-backgro...    NaN   NaN      0.008476   \n",
       "chromium/addon-docs.spec.ts/addon-docs › should...    NaN   NaN      0.008476   \n",
       "webkit/preview-web.spec.ts/preview-web › should...    NaN   NaN      0.008476   \n",
       "...                                                   ...   ...           ...   \n",
       "webkit/framework-nextjs.spec.ts/Next.js › next/...    NaN   NaN      0.008476   \n",
       "firefox/addon-docs.spec.ts/addon-docs › source ...    NaN   NaN      0.008476   \n",
       "chromium/addon-backgrounds.spec.ts/addon-backgr...    NaN   NaN      0.008476   \n",
       "firefox/addon-docs.spec.ts/addon-docs › should ...    NaN   NaN      0.008476   \n",
       "chromium/addon-docs.spec.ts/addon-docs › should...    NaN   NaN      0.008476   \n",
       "\n",
       "                                                        disk packet_loss_70  \\\n",
       "firefox/framework-nextjs.spec.ts/Next.js › next...  0.017771            NaN   \n",
       "chromium/addon-docs.spec.ts/addon-docs › should...  0.017771            NaN   \n",
       "firefox/addon-backgrounds.spec.ts/addon-backgro...  0.017771            NaN   \n",
       "chromium/addon-docs.spec.ts/addon-docs › should...  0.017771            NaN   \n",
       "webkit/preview-web.spec.ts/preview-web › should...  0.017771            NaN   \n",
       "...                                                      ...            ...   \n",
       "webkit/framework-nextjs.spec.ts/Next.js › next/...  0.017771            NaN   \n",
       "firefox/addon-docs.spec.ts/addon-docs › source ...  0.017771            NaN   \n",
       "chromium/addon-backgrounds.spec.ts/addon-backgr...  0.017771            NaN   \n",
       "firefox/addon-docs.spec.ts/addon-docs › should ...  0.017771            NaN   \n",
       "chromium/addon-docs.spec.ts/addon-docs › should...  0.017771            NaN   \n",
       "\n",
       "                                                   packet_loss interrupt  \n",
       "firefox/framework-nextjs.spec.ts/Next.js › next...    0.009048       NaN  \n",
       "chromium/addon-docs.spec.ts/addon-docs › should...    0.009048       NaN  \n",
       "firefox/addon-backgrounds.spec.ts/addon-backgro...    0.009048       NaN  \n",
       "chromium/addon-docs.spec.ts/addon-docs › should...    0.009048       NaN  \n",
       "webkit/preview-web.spec.ts/preview-web › should...    0.009048       NaN  \n",
       "...                                                        ...       ...  \n",
       "webkit/framework-nextjs.spec.ts/Next.js › next/...    0.009048       NaN  \n",
       "firefox/addon-docs.spec.ts/addon-docs › source ...    0.009048       NaN  \n",
       "chromium/addon-backgrounds.spec.ts/addon-backgr...    0.009048       NaN  \n",
       "firefox/addon-docs.spec.ts/addon-docs › should ...    0.009048       NaN  \n",
       "chromium/addon-docs.spec.ts/addon-docs › should...    0.009048       NaN  \n",
       "\n",
       "[105 rows x 11 columns]"
      ]
     },
     "execution_count": 169,
     "metadata": {},
     "output_type": "execute_result"
    }
   ],
   "source": [
    "tbn = compute_flakyness_per_test_by_noise_type(proj)\n",
    "tbn"
   ]
  },
  {
   "cell_type": "code",
   "execution_count": 170,
   "metadata": {
    "collapsed": false
   },
   "outputs": [
    {
     "data": {
      "text/plain": [
       "<Axes: title={'center': 'Flakiness of storybook'}>"
      ]
     },
     "execution_count": 170,
     "metadata": {},
     "output_type": "execute_result"
    },
    {
     "data": {
      "image/png": "[encoded data removed]",
      "text/plain": [
       "<Figure size 640x480 with 1 Axes>"
      ]
     },
     "metadata": {},
     "output_type": "display_data"
    }
   ],
   "source": [
    "# get most flaky test\n",
    "tbn[\"flakyness\"] = tbn.mean(axis=1)\n",
    "mostflaky = tbn.sort_values(\"flakyness\", ascending=False).head(1).index[0]\n",
    "#print(\"Most flaky test: \", mostflaky)\n",
    "tbn.loc[mostflaky].plot(kind=\"bar\", title=f\"Flakiness of {proj}\")"
   ]
  },
  {
   "cell_type": "code",
   "execution_count": 171,
   "metadata": {
    "collapsed": false
   },
   "outputs": [
    {
     "data": {
      "text/html": [
       "<div>\n",
       "<style scoped>\n",
       "    .dataframe tbody tr th:only-of-type {\n",
       "        vertical-align: middle;\n",
       "    }\n",
       "\n",
       "    .dataframe tbody tr th {\n",
       "        vertical-align: top;\n",
       "    }\n",
       "\n",
       "    .dataframe thead th {\n",
       "        text-align: right;\n",
       "    }\n",
       "</style>\n",
       "<table border=\"1\" class=\"dataframe\">\n",
       "  <thead>\n",
       "    <tr style=\"text-align: right;\">\n",
       "      <th></th>\n",
       "      <th>bandwidth</th>\n",
       "      <th>packet_loss_20</th>\n",
       "      <th>cpu20</th>\n",
       "      <th>memory</th>\n",
       "      <th>cpu50</th>\n",
       "      <th>network_delay</th>\n",
       "      <th>disk</th>\n",
       "      <th>packet_loss_70</th>\n",
       "      <th>packet_loss</th>\n",
       "      <th>interrupt</th>\n",
       "      <th>flakyness</th>\n",
       "    </tr>\n",
       "  </thead>\n",
       "  <tbody>\n",
       "    <tr>\n",
       "      <th>firefox/framework-nextjs.spec.ts/Next.js › next/router › should trigger forward action</th>\n",
       "      <td>0.00019</td>\n",
       "      <td>NaN</td>\n",
       "      <td>0.000571</td>\n",
       "      <td>NaN</td>\n",
       "      <td>NaN</td>\n",
       "      <td>-0.000952</td>\n",
       "      <td>0.008343</td>\n",
       "      <td>NaN</td>\n",
       "      <td>-0.000381</td>\n",
       "      <td>NaN</td>\n",
       "      <td>0.001295</td>\n",
       "    </tr>\n",
       "    <tr>\n",
       "      <th>chromium/addon-docs.spec.ts/addon-docs › should not run autoplay stories without parameter</th>\n",
       "      <td>0.00019</td>\n",
       "      <td>NaN</td>\n",
       "      <td>0.000571</td>\n",
       "      <td>NaN</td>\n",
       "      <td>NaN</td>\n",
       "      <td>-0.000952</td>\n",
       "      <td>0.008343</td>\n",
       "      <td>NaN</td>\n",
       "      <td>-0.000381</td>\n",
       "      <td>NaN</td>\n",
       "      <td>0.001295</td>\n",
       "    </tr>\n",
       "    <tr>\n",
       "      <th>firefox/addon-backgrounds.spec.ts/addon-backgrounds › docs pages › button should appear for unattached .mdx files</th>\n",
       "      <td>0.00019</td>\n",
       "      <td>NaN</td>\n",
       "      <td>0.000571</td>\n",
       "      <td>NaN</td>\n",
       "      <td>NaN</td>\n",
       "      <td>-0.000952</td>\n",
       "      <td>0.008343</td>\n",
       "      <td>NaN</td>\n",
       "      <td>-0.000381</td>\n",
       "      <td>NaN</td>\n",
       "      <td>0.001295</td>\n",
       "    </tr>\n",
       "    <tr>\n",
       "      <th>chromium/addon-docs.spec.ts/addon-docs › should render errors</th>\n",
       "      <td>0.00019</td>\n",
       "      <td>NaN</td>\n",
       "      <td>0.000571</td>\n",
       "      <td>NaN</td>\n",
       "      <td>NaN</td>\n",
       "      <td>-0.000952</td>\n",
       "      <td>0.008343</td>\n",
       "      <td>NaN</td>\n",
       "      <td>-0.000381</td>\n",
       "      <td>NaN</td>\n",
       "      <td>0.001295</td>\n",
       "    </tr>\n",
       "    <tr>\n",
       "      <th>webkit/preview-web.spec.ts/preview-web › should pass over shortcuts, but not from play functions, docs</th>\n",
       "      <td>0.00019</td>\n",
       "      <td>NaN</td>\n",
       "      <td>0.000571</td>\n",
       "      <td>NaN</td>\n",
       "      <td>NaN</td>\n",
       "      <td>-0.000952</td>\n",
       "      <td>0.008343</td>\n",
       "      <td>NaN</td>\n",
       "      <td>-0.000381</td>\n",
       "      <td>NaN</td>\n",
       "      <td>0.001295</td>\n",
       "    </tr>\n",
       "    <tr>\n",
       "      <th>...</th>\n",
       "      <td>...</td>\n",
       "      <td>...</td>\n",
       "      <td>...</td>\n",
       "      <td>...</td>\n",
       "      <td>...</td>\n",
       "      <td>...</td>\n",
       "      <td>...</td>\n",
       "      <td>...</td>\n",
       "      <td>...</td>\n",
       "      <td>...</td>\n",
       "      <td>...</td>\n",
       "    </tr>\n",
       "    <tr>\n",
       "      <th>webkit/framework-nextjs.spec.ts/Next.js › next/router › should trigger push action</th>\n",
       "      <td>0.00019</td>\n",
       "      <td>NaN</td>\n",
       "      <td>0.000571</td>\n",
       "      <td>NaN</td>\n",
       "      <td>NaN</td>\n",
       "      <td>-0.000952</td>\n",
       "      <td>0.008343</td>\n",
       "      <td>NaN</td>\n",
       "      <td>-0.000381</td>\n",
       "      <td>NaN</td>\n",
       "      <td>0.001295</td>\n",
       "    </tr>\n",
       "    <tr>\n",
       "      <th>firefox/addon-docs.spec.ts/addon-docs › source snippet should not change in stories block</th>\n",
       "      <td>0.00019</td>\n",
       "      <td>NaN</td>\n",
       "      <td>0.000571</td>\n",
       "      <td>NaN</td>\n",
       "      <td>NaN</td>\n",
       "      <td>-0.000952</td>\n",
       "      <td>0.008343</td>\n",
       "      <td>NaN</td>\n",
       "      <td>-0.000381</td>\n",
       "      <td>NaN</td>\n",
       "      <td>0.001295</td>\n",
       "    </tr>\n",
       "    <tr>\n",
       "      <th>chromium/addon-backgrounds.spec.ts/addon-backgrounds › should have a dark background</th>\n",
       "      <td>0.00019</td>\n",
       "      <td>NaN</td>\n",
       "      <td>0.000571</td>\n",
       "      <td>NaN</td>\n",
       "      <td>NaN</td>\n",
       "      <td>-0.000952</td>\n",
       "      <td>0.008343</td>\n",
       "      <td>NaN</td>\n",
       "      <td>-0.000381</td>\n",
       "      <td>NaN</td>\n",
       "      <td>0.001295</td>\n",
       "    </tr>\n",
       "    <tr>\n",
       "      <th>firefox/addon-docs.spec.ts/addon-docs › should provide source snippet</th>\n",
       "      <td>0.00019</td>\n",
       "      <td>NaN</td>\n",
       "      <td>0.000571</td>\n",
       "      <td>NaN</td>\n",
       "      <td>NaN</td>\n",
       "      <td>-0.000952</td>\n",
       "      <td>0.008343</td>\n",
       "      <td>NaN</td>\n",
       "      <td>-0.000381</td>\n",
       "      <td>NaN</td>\n",
       "      <td>0.001295</td>\n",
       "    </tr>\n",
       "    <tr>\n",
       "      <th>chromium/addon-docs.spec.ts/addon-docs › should provide source snippet</th>\n",
       "      <td>0.00019</td>\n",
       "      <td>NaN</td>\n",
       "      <td>0.000571</td>\n",
       "      <td>NaN</td>\n",
       "      <td>NaN</td>\n",
       "      <td>-0.000952</td>\n",
       "      <td>0.008343</td>\n",
       "      <td>NaN</td>\n",
       "      <td>-0.000381</td>\n",
       "      <td>NaN</td>\n",
       "      <td>0.001295</td>\n",
       "    </tr>\n",
       "  </tbody>\n",
       "</table>\n",
       "<p>105 rows × 11 columns</p>\n",
       "</div>"
      ],
      "text/plain": [
       "                                                   bandwidth packet_loss_20  \\\n",
       "firefox/framework-nextjs.spec.ts/Next.js › next...   0.00019            NaN   \n",
       "chromium/addon-docs.spec.ts/addon-docs › should...   0.00019            NaN   \n",
       "firefox/addon-backgrounds.spec.ts/addon-backgro...   0.00019            NaN   \n",
       "chromium/addon-docs.spec.ts/addon-docs › should...   0.00019            NaN   \n",
       "webkit/preview-web.spec.ts/preview-web › should...   0.00019            NaN   \n",
       "...                                                      ...            ...   \n",
       "webkit/framework-nextjs.spec.ts/Next.js › next/...   0.00019            NaN   \n",
       "firefox/addon-docs.spec.ts/addon-docs › source ...   0.00019            NaN   \n",
       "chromium/addon-backgrounds.spec.ts/addon-backgr...   0.00019            NaN   \n",
       "firefox/addon-docs.spec.ts/addon-docs › should ...   0.00019            NaN   \n",
       "chromium/addon-docs.spec.ts/addon-docs › should...   0.00019            NaN   \n",
       "\n",
       "                                                       cpu20 memory cpu50  \\\n",
       "firefox/framework-nextjs.spec.ts/Next.js › next...  0.000571    NaN   NaN   \n",
       "chromium/addon-docs.spec.ts/addon-docs › should...  0.000571    NaN   NaN   \n",
       "firefox/addon-backgrounds.spec.ts/addon-backgro...  0.000571    NaN   NaN   \n",
       "chromium/addon-docs.spec.ts/addon-docs › should...  0.000571    NaN   NaN   \n",
       "webkit/preview-web.spec.ts/preview-web › should...  0.000571    NaN   NaN   \n",
       "...                                                      ...    ...   ...   \n",
       "webkit/framework-nextjs.spec.ts/Next.js › next/...  0.000571    NaN   NaN   \n",
       "firefox/addon-docs.spec.ts/addon-docs › source ...  0.000571    NaN   NaN   \n",
       "chromium/addon-backgrounds.spec.ts/addon-backgr...  0.000571    NaN   NaN   \n",
       "firefox/addon-docs.spec.ts/addon-docs › should ...  0.000571    NaN   NaN   \n",
       "chromium/addon-docs.spec.ts/addon-docs › should...  0.000571    NaN   NaN   \n",
       "\n",
       "                                                   network_delay      disk  \\\n",
       "firefox/framework-nextjs.spec.ts/Next.js › next...     -0.000952  0.008343   \n",
       "chromium/addon-docs.spec.ts/addon-docs › should...     -0.000952  0.008343   \n",
       "firefox/addon-backgrounds.spec.ts/addon-backgro...     -0.000952  0.008343   \n",
       "chromium/addon-docs.spec.ts/addon-docs › should...     -0.000952  0.008343   \n",
       "webkit/preview-web.spec.ts/preview-web › should...     -0.000952  0.008343   \n",
       "...                                                          ...       ...   \n",
       "webkit/framework-nextjs.spec.ts/Next.js › next/...     -0.000952  0.008343   \n",
       "firefox/addon-docs.spec.ts/addon-docs › source ...     -0.000952  0.008343   \n",
       "chromium/addon-backgrounds.spec.ts/addon-backgr...     -0.000952  0.008343   \n",
       "firefox/addon-docs.spec.ts/addon-docs › should ...     -0.000952  0.008343   \n",
       "chromium/addon-docs.spec.ts/addon-docs › should...     -0.000952  0.008343   \n",
       "\n",
       "                                                   packet_loss_70 packet_loss  \\\n",
       "firefox/framework-nextjs.spec.ts/Next.js › next...            NaN   -0.000381   \n",
       "chromium/addon-docs.spec.ts/addon-docs › should...            NaN   -0.000381   \n",
       "firefox/addon-backgrounds.spec.ts/addon-backgro...            NaN   -0.000381   \n",
       "chromium/addon-docs.spec.ts/addon-docs › should...            NaN   -0.000381   \n",
       "webkit/preview-web.spec.ts/preview-web › should...            NaN   -0.000381   \n",
       "...                                                           ...         ...   \n",
       "webkit/framework-nextjs.spec.ts/Next.js › next/...            NaN   -0.000381   \n",
       "firefox/addon-docs.spec.ts/addon-docs › source ...            NaN   -0.000381   \n",
       "chromium/addon-backgrounds.spec.ts/addon-backgr...            NaN   -0.000381   \n",
       "firefox/addon-docs.spec.ts/addon-docs › should ...            NaN   -0.000381   \n",
       "chromium/addon-docs.spec.ts/addon-docs › should...            NaN   -0.000381   \n",
       "\n",
       "                                                   interrupt flakyness  \n",
       "firefox/framework-nextjs.spec.ts/Next.js › next...       NaN  0.001295  \n",
       "chromium/addon-docs.spec.ts/addon-docs › should...       NaN  0.001295  \n",
       "firefox/addon-backgrounds.spec.ts/addon-backgro...       NaN  0.001295  \n",
       "chromium/addon-docs.spec.ts/addon-docs › should...       NaN  0.001295  \n",
       "webkit/preview-web.spec.ts/preview-web › should...       NaN  0.001295  \n",
       "...                                                      ...       ...  \n",
       "webkit/framework-nextjs.spec.ts/Next.js › next/...       NaN  0.001295  \n",
       "firefox/addon-docs.spec.ts/addon-docs › source ...       NaN  0.001295  \n",
       "chromium/addon-backgrounds.spec.ts/addon-backgr...       NaN  0.001295  \n",
       "firefox/addon-docs.spec.ts/addon-docs › should ...       NaN  0.001295  \n",
       "chromium/addon-docs.spec.ts/addon-docs › should...       NaN  0.001295  \n",
       "\n",
       "[105 rows x 11 columns]"
      ]
     },
     "execution_count": 171,
     "metadata": {},
     "output_type": "execute_result"
    }
   ],
   "source": [
    "# overflakyness\n",
    "test = tbn\n",
    "fob = compute_flakyness_over_baseline(test)\n",
    "fob"
   ]
  },
  {
   "cell_type": "code",
   "execution_count": 172,
   "metadata": {
    "collapsed": false
   },
   "outputs": [
    {
     "data": {
      "text/plain": [
       "<Axes: title={'center': 'Flakiness over Baseline of storybook'}>"
      ]
     },
     "execution_count": 172,
     "metadata": {},
     "output_type": "execute_result"
    },
    {
     "data": {
      "image/png": "[encoded data removed]",
      "text/plain": [
       "<Figure size 640x480 with 1 Axes>"
      ]
     },
     "metadata": {},
     "output_type": "display_data"
    }
   ],
   "source": [
    "# get most flaky test\n",
    "fob[\"flakyness\"] = fob.mean(axis=1)\n",
    "mostflaky = fob.sort_values(\"flakyness\", ascending=False).head(1).index[0]\n",
    "#print(\"Most flaky test: \", mostflaky)\n",
    "fob.loc[mostflaky].plot(kind=\"bar\",  title=f\"Flakiness over Baseline of {proj}\")"
   ]
  },
  {
   "cell_type": "markdown",
   "id": "6f660c42",
   "metadata": {},
   "source": [
    "# Network lantency"
   ]
  },
  {
   "cell_type": "code",
   "execution_count": null,
   "id": "d9fcd6de",
   "metadata": {},
   "outputs": [],
   "source": [
    "lantency = [\"baseline\", \"network_delay\"]\n",
    "lantency_df = overview.loc[lantency]\n",
    "lantency_df.sort_index(axis=1, inplace=True)"
   ]
  },
  {
   "cell_type": "code",
   "execution_count": null,
   "id": "4208b989",
   "metadata": {},
   "outputs": [],
   "source": [
    "ax = lantency_df.T.plot.bar(rot=90, title=f\"Flakiness between Baseline and  network lantency\")"
   ]
  },
  {
   "cell_type": "markdown",
   "id": "f24ca470",
   "metadata": {},
   "source": [
    "# Network bandwidth"
   ]
  },
  {
   "cell_type": "code",
   "execution_count": null,
   "id": "0c975c3f",
   "metadata": {},
   "outputs": [],
   "source": [
    "bandwidth = [\"baseline\", \"bandwidth\"]\n",
    "bandwidth_df = overview.loc[bandwidth]\n",
    "bandwidth_df.sort_index(axis=1, inplace=True)"
   ]
  },
  {
   "cell_type": "code",
   "execution_count": null,
   "id": "58a19ad0",
   "metadata": {},
   "outputs": [],
   "source": [
    "ax = bandwidth_df.T.plot.bar(rot=90, title=f\"Flakiness between Baseline and bandwidth limit\")"
   ]
  },
  {
   "cell_type": "markdown",
   "id": "16128803",
   "metadata": {},
   "source": [
    "# Compare Packet loss"
   ]
  },
  {
   "cell_type": "code",
   "execution_count": null,
   "id": "73d06be9",
   "metadata": {},
   "outputs": [],
   "source": [
    "packet_noises = [\"baseline\", \"packet_loss_20\", \"packet_loss\", \"packet_loss_70\"]\n",
    "packet_df = overview.loc[[\"baseline\", \"packet_loss_20\", \"packet_loss\", \"packet_loss_70\"]]\n",
    "packet_df.sort_index(axis=1, inplace=True)\n"
   ]
  },
  {
   "cell_type": "code",
   "execution_count": null,
   "id": "fd28b5f8",
   "metadata": {},
   "outputs": [],
   "source": [
    "ax = packet_df.T.plot.bar(rot=90, title=f\"Flakiness between Baseline and packet loss\")"
   ]
  },
  {
   "cell_type": "markdown",
   "id": "bda1ce8f",
   "metadata": {},
   "source": [
    "# Disk noise"
   ]
  },
  {
   "cell_type": "code",
   "execution_count": null,
   "id": "5544c283",
   "metadata": {},
   "outputs": [],
   "source": [
    "disk_noises = [\"baseline\", \"disk\"]\n",
    "\n",
    "disk_df = overview.loc[disk_noises]\n",
    "disk_df.sort_index(axis=1, inplace=True)"
   ]
  },
  {
   "cell_type": "code",
   "execution_count": null,
   "id": "6fbe41ef",
   "metadata": {},
   "outputs": [],
   "source": [
    "ax = disk_df.T.plot.bar(rot=90, title=f\"Flakiness between Baseline and disk\")"
   ]
  },
  {
   "cell_type": "markdown",
   "id": "010f48de",
   "metadata": {},
   "source": [
    "# Compare CPU noise"
   ]
  },
  {
   "cell_type": "code",
   "execution_count": null,
   "id": "2de2ac21",
   "metadata": {},
   "outputs": [],
   "source": [
    "cpu_noises = [\"baseline\", \"cpu20\", \"cpu50\"]\n",
    "\n",
    "cpu_df = overview.loc[cpu_noises]\n",
    "\n",
    "cpu_df.sort_index(axis=1, inplace=True)\n"
   ]
  },
  {
   "cell_type": "code",
   "execution_count": null,
   "id": "9c0b21e7",
   "metadata": {},
   "outputs": [],
   "source": [
    "ax = cpu_df.T.plot.bar(rot=90, title=f\"Flakiness between Baseline and cpu limit\")"
   ]
  },
  {
   "cell_type": "markdown",
   "id": "6a32ee52",
   "metadata": {},
   "source": [
    "# Memory"
   ]
  },
  {
   "cell_type": "code",
   "execution_count": null,
   "id": "09049d8c",
   "metadata": {},
   "outputs": [],
   "source": [
    "memory_noises = [\"baseline\", \"memory\"]\n",
    "\n",
    "memory_df = overview.loc[memory_noises]\n",
    "memory_df.sort_index(axis=1, inplace=True)"
   ]
  },
  {
   "cell_type": "code",
   "execution_count": null,
   "id": "3432021d",
   "metadata": {},
   "outputs": [],
   "source": [
    "ax = memory_df.T.plot.bar(rot=90, title=f\"Flakiness between Baseline and memory noise\")"
   ]
  },
  {
   "cell_type": "markdown",
   "id": "df271f19",
   "metadata": {},
   "source": [
    "# Interrupt"
   ]
  },
  {
   "cell_type": "code",
   "execution_count": null,
   "id": "79092b7f",
   "metadata": {},
   "outputs": [],
   "source": [
    "interrupt_noises = [\"baseline\", \"interrupt\"]\n",
    "\n",
    "interrupt_df = overview.loc[interrupt_noises]\n",
    "interrupt_df.sort_index(axis=1, inplace=True)"
   ]
  },
  {
   "cell_type": "code",
   "execution_count": null,
   "id": "109fa35e",
   "metadata": {},
   "outputs": [],
   "source": [
    "ax = interrupt_df.T.plot.bar(rot=90, title=f\"Flakiness between Baseline and interrupts\")"
   ]
  },
  {
   "cell_type": "markdown",
   "metadata": {
    "collapsed": false
   },
   "source": [
    "Projects TBD: [shiki, docs, material-ui, insomnia, remix, quill, theia, dev-roadmap, rocket-chat, floating-ui, playwright, lenster, ionic-framework]"
   ]
  }
 ],
 "metadata": {
  "kernelspec": {
   "display_name": "Python 3 (ipykernel)",
   "language": "python",
   "name": "python3"
  },
  "language_info": {
   "codemirror_mode": {
    "name": "ipython",
    "version": 3
   },
   "file_extension": ".py",
   "mimetype": "text/x-python",
   "name": "python",
   "nbconvert_exporter": "python",
   "pygments_lexer": "ipython3",
   "version": "3.11.4"
  }
 },
 "nbformat": 4,
 "nbformat_minor": 5
}
